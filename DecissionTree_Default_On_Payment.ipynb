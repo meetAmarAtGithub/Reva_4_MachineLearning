{
  "nbformat": 4,
  "nbformat_minor": 0,
  "metadata": {
    "colab": {
      "name": "DecissionTree_Default_On_Payment.ipynb",
      "provenance": [],
      "collapsed_sections": [
        "S71WgVDJ74IM",
        "P0_4pqtF8Bqc",
        "N7WR-oW18yEr",
        "NMVGtrivx87m",
        "vRd-4gwBHSp4"
      ],
      "authorship_tag": "ABX9TyN1/7wWu/jR2h6UCfpIExfn",
      "include_colab_link": true
    },
    "kernelspec": {
      "name": "python3",
      "display_name": "Python 3"
    },
    "language_info": {
      "name": "python"
    }
  },
  "cells": [
    {
      "cell_type": "markdown",
      "metadata": {
        "id": "view-in-github",
        "colab_type": "text"
      },
      "source": [
        "<a href=\"https://colab.research.google.com/github/meetAmarAtGithub/Reva_MachineLearning/blob/main/DecissionTree_Default_On_Payment.ipynb\" target=\"_parent\"><img src=\"https://colab.research.google.com/assets/colab-badge.svg\" alt=\"Open In Colab\"/></a>"
      ]
    },
    {
      "cell_type": "code",
      "source": [
        "import numpy as np\n",
        "import pandas as pd\n",
        "import scipy as sp\n",
        "import seaborn as sns\n",
        "\n",
        "import matplotlib.pyplot as plt\n",
        "\n",
        "#Import SK Learn model for doing ML Modeling\n",
        "from sklearn.model_selection import train_test_split\n",
        "from sklearn.metrics import classification_report, accuracy_score, roc_auc_score, confusion_matrix\n",
        "from sklearn import  metrics\n",
        "from sklearn.metrics import plot_confusion_matrix\n",
        "from sklearn import tree\n",
        "from sklearn.model_selection import GridSearchCV\n",
        "\n",
        "from pandas.core.arrays.sparse import dtype"
      ],
      "metadata": {
        "id": "TtGhWpAuMIfV"
      },
      "execution_count": null,
      "outputs": []
    },
    {
      "cell_type": "code",
      "source": [
        "from google.colab import drive\n",
        "drive.mount('/content/gdrive')"
      ],
      "metadata": {
        "colab": {
          "base_uri": "https://localhost:8080/"
        },
        "id": "iTj4b3WQvdZX",
        "outputId": "54d898cb-dd0f-4353-ec4d-d05b6a08c65e"
      },
      "execution_count": null,
      "outputs": [
        {
          "output_type": "stream",
          "name": "stdout",
          "text": [
            "Mounted at /content/gdrive\n"
          ]
        }
      ]
    },
    {
      "cell_type": "code",
      "source": [
        "%cd \"/content/gdrive/My Drive/Colab Notebooks/Reva/4_MachineLearning\""
      ],
      "metadata": {
        "colab": {
          "base_uri": "https://localhost:8080/"
        },
        "id": "4nsmyAFLvoUH",
        "outputId": "d6ecee28-599f-4400-81ed-6d1de89d448a"
      },
      "execution_count": null,
      "outputs": [
        {
          "output_type": "stream",
          "name": "stdout",
          "text": [
            "/content/gdrive/My Drive/Colab Notebooks/Reva/4_MachineLearning\n"
          ]
        }
      ]
    },
    {
      "cell_type": "code",
      "source": [
        "df= pd.read_csv(\"Default_On_Payment.csv\")\n",
        "df.head(5)"
      ],
      "metadata": {
        "colab": {
          "base_uri": "https://localhost:8080/",
          "height": 334
        },
        "id": "GVkEhm39vHkk",
        "outputId": "d7a2f43f-5e25-4c02-c723-9984293a5a1d"
      },
      "execution_count": null,
      "outputs": [
        {
          "output_type": "stream",
          "name": "stderr",
          "text": [
            "/usr/local/lib/python3.7/dist-packages/IPython/core/interactiveshell.py:2882: DtypeWarning: Columns (2,5) have mixed types.Specify dtype option on import or set low_memory=False.\n",
            "  exec(code_obj, self.user_global_ns, self.user_ns)\n"
          ]
        },
        {
          "output_type": "execute_result",
          "data": {
            "text/plain": [
              "   Customer_ID Status_Checking_Acc Duration_in_Months Credit_History  \\\n",
              "0     100015.0                 A14                 27            A32   \n",
              "1     100031.0                 A11                 12            A34   \n",
              "2     100046.0                 A12                 13            A34   \n",
              "3     100103.0                 A14                 24            A32   \n",
              "4     100104.0                 A11                 24            A32   \n",
              "\n",
              "  Purposre_Credit_Taken Credit_Amount Savings_Acc Years_At_Present_Employment  \\\n",
              "0                   A40          2570         A61                         A73   \n",
              "1                   A43           385         A61                         A74   \n",
              "2                   A43           882         A61                         A72   \n",
              "3                   A40          1393         A61                         A73   \n",
              "4                   A40          3123         A61                         A72   \n",
              "\n",
              "   Inst_Rt_Income Marital_Status_Gender  ... Property   Age Other_Inst_Plans   \\\n",
              "0             3.0                   A92  ...     A121  21.0              A143   \n",
              "1             4.0                   A92  ...     A121  58.0              A143   \n",
              "2             4.0                   A93  ...     A121  23.0              A143   \n",
              "3             2.0                   A93  ...     A121  31.0              A143   \n",
              "4             4.0                   A92  ...     A122  27.0              A143   \n",
              "\n",
              "   Housing Num_CC   Job  Dependents Telephone  Foreign_Worker  \\\n",
              "0     A151    1.0  A173         1.0      A191            A201   \n",
              "1     A152    4.0  A172         1.0      A192            A201   \n",
              "2     A152    2.0  A173         1.0      A191            A201   \n",
              "3     A152    1.0  A173         1.0      A192            A201   \n",
              "4     A152    1.0  A173         1.0      A191            A201   \n",
              "\n",
              "  Default_On_Payment  \n",
              "0                1.0  \n",
              "1                0.0  \n",
              "2                0.0  \n",
              "3                0.0  \n",
              "4                1.0  \n",
              "\n",
              "[5 rows x 22 columns]"
            ],
            "text/html": [
              "\n",
              "  <div id=\"df-fa2dd141-ce1d-4468-beb4-87646339d625\">\n",
              "    <div class=\"colab-df-container\">\n",
              "      <div>\n",
              "<style scoped>\n",
              "    .dataframe tbody tr th:only-of-type {\n",
              "        vertical-align: middle;\n",
              "    }\n",
              "\n",
              "    .dataframe tbody tr th {\n",
              "        vertical-align: top;\n",
              "    }\n",
              "\n",
              "    .dataframe thead th {\n",
              "        text-align: right;\n",
              "    }\n",
              "</style>\n",
              "<table border=\"1\" class=\"dataframe\">\n",
              "  <thead>\n",
              "    <tr style=\"text-align: right;\">\n",
              "      <th></th>\n",
              "      <th>Customer_ID</th>\n",
              "      <th>Status_Checking_Acc</th>\n",
              "      <th>Duration_in_Months</th>\n",
              "      <th>Credit_History</th>\n",
              "      <th>Purposre_Credit_Taken</th>\n",
              "      <th>Credit_Amount</th>\n",
              "      <th>Savings_Acc</th>\n",
              "      <th>Years_At_Present_Employment</th>\n",
              "      <th>Inst_Rt_Income</th>\n",
              "      <th>Marital_Status_Gender</th>\n",
              "      <th>...</th>\n",
              "      <th>Property</th>\n",
              "      <th>Age</th>\n",
              "      <th>Other_Inst_Plans</th>\n",
              "      <th>Housing</th>\n",
              "      <th>Num_CC</th>\n",
              "      <th>Job</th>\n",
              "      <th>Dependents</th>\n",
              "      <th>Telephone</th>\n",
              "      <th>Foreign_Worker</th>\n",
              "      <th>Default_On_Payment</th>\n",
              "    </tr>\n",
              "  </thead>\n",
              "  <tbody>\n",
              "    <tr>\n",
              "      <th>0</th>\n",
              "      <td>100015.0</td>\n",
              "      <td>A14</td>\n",
              "      <td>27</td>\n",
              "      <td>A32</td>\n",
              "      <td>A40</td>\n",
              "      <td>2570</td>\n",
              "      <td>A61</td>\n",
              "      <td>A73</td>\n",
              "      <td>3.0</td>\n",
              "      <td>A92</td>\n",
              "      <td>...</td>\n",
              "      <td>A121</td>\n",
              "      <td>21.0</td>\n",
              "      <td>A143</td>\n",
              "      <td>A151</td>\n",
              "      <td>1.0</td>\n",
              "      <td>A173</td>\n",
              "      <td>1.0</td>\n",
              "      <td>A191</td>\n",
              "      <td>A201</td>\n",
              "      <td>1.0</td>\n",
              "    </tr>\n",
              "    <tr>\n",
              "      <th>1</th>\n",
              "      <td>100031.0</td>\n",
              "      <td>A11</td>\n",
              "      <td>12</td>\n",
              "      <td>A34</td>\n",
              "      <td>A43</td>\n",
              "      <td>385</td>\n",
              "      <td>A61</td>\n",
              "      <td>A74</td>\n",
              "      <td>4.0</td>\n",
              "      <td>A92</td>\n",
              "      <td>...</td>\n",
              "      <td>A121</td>\n",
              "      <td>58.0</td>\n",
              "      <td>A143</td>\n",
              "      <td>A152</td>\n",
              "      <td>4.0</td>\n",
              "      <td>A172</td>\n",
              "      <td>1.0</td>\n",
              "      <td>A192</td>\n",
              "      <td>A201</td>\n",
              "      <td>0.0</td>\n",
              "    </tr>\n",
              "    <tr>\n",
              "      <th>2</th>\n",
              "      <td>100046.0</td>\n",
              "      <td>A12</td>\n",
              "      <td>13</td>\n",
              "      <td>A34</td>\n",
              "      <td>A43</td>\n",
              "      <td>882</td>\n",
              "      <td>A61</td>\n",
              "      <td>A72</td>\n",
              "      <td>4.0</td>\n",
              "      <td>A93</td>\n",
              "      <td>...</td>\n",
              "      <td>A121</td>\n",
              "      <td>23.0</td>\n",
              "      <td>A143</td>\n",
              "      <td>A152</td>\n",
              "      <td>2.0</td>\n",
              "      <td>A173</td>\n",
              "      <td>1.0</td>\n",
              "      <td>A191</td>\n",
              "      <td>A201</td>\n",
              "      <td>0.0</td>\n",
              "    </tr>\n",
              "    <tr>\n",
              "      <th>3</th>\n",
              "      <td>100103.0</td>\n",
              "      <td>A14</td>\n",
              "      <td>24</td>\n",
              "      <td>A32</td>\n",
              "      <td>A40</td>\n",
              "      <td>1393</td>\n",
              "      <td>A61</td>\n",
              "      <td>A73</td>\n",
              "      <td>2.0</td>\n",
              "      <td>A93</td>\n",
              "      <td>...</td>\n",
              "      <td>A121</td>\n",
              "      <td>31.0</td>\n",
              "      <td>A143</td>\n",
              "      <td>A152</td>\n",
              "      <td>1.0</td>\n",
              "      <td>A173</td>\n",
              "      <td>1.0</td>\n",
              "      <td>A192</td>\n",
              "      <td>A201</td>\n",
              "      <td>0.0</td>\n",
              "    </tr>\n",
              "    <tr>\n",
              "      <th>4</th>\n",
              "      <td>100104.0</td>\n",
              "      <td>A11</td>\n",
              "      <td>24</td>\n",
              "      <td>A32</td>\n",
              "      <td>A40</td>\n",
              "      <td>3123</td>\n",
              "      <td>A61</td>\n",
              "      <td>A72</td>\n",
              "      <td>4.0</td>\n",
              "      <td>A92</td>\n",
              "      <td>...</td>\n",
              "      <td>A122</td>\n",
              "      <td>27.0</td>\n",
              "      <td>A143</td>\n",
              "      <td>A152</td>\n",
              "      <td>1.0</td>\n",
              "      <td>A173</td>\n",
              "      <td>1.0</td>\n",
              "      <td>A191</td>\n",
              "      <td>A201</td>\n",
              "      <td>1.0</td>\n",
              "    </tr>\n",
              "  </tbody>\n",
              "</table>\n",
              "<p>5 rows × 22 columns</p>\n",
              "</div>\n",
              "      <button class=\"colab-df-convert\" onclick=\"convertToInteractive('df-fa2dd141-ce1d-4468-beb4-87646339d625')\"\n",
              "              title=\"Convert this dataframe to an interactive table.\"\n",
              "              style=\"display:none;\">\n",
              "        \n",
              "  <svg xmlns=\"http://www.w3.org/2000/svg\" height=\"24px\"viewBox=\"0 0 24 24\"\n",
              "       width=\"24px\">\n",
              "    <path d=\"M0 0h24v24H0V0z\" fill=\"none\"/>\n",
              "    <path d=\"M18.56 5.44l.94 2.06.94-2.06 2.06-.94-2.06-.94-.94-2.06-.94 2.06-2.06.94zm-11 1L8.5 8.5l.94-2.06 2.06-.94-2.06-.94L8.5 2.5l-.94 2.06-2.06.94zm10 10l.94 2.06.94-2.06 2.06-.94-2.06-.94-.94-2.06-.94 2.06-2.06.94z\"/><path d=\"M17.41 7.96l-1.37-1.37c-.4-.4-.92-.59-1.43-.59-.52 0-1.04.2-1.43.59L10.3 9.45l-7.72 7.72c-.78.78-.78 2.05 0 2.83L4 21.41c.39.39.9.59 1.41.59.51 0 1.02-.2 1.41-.59l7.78-7.78 2.81-2.81c.8-.78.8-2.07 0-2.86zM5.41 20L4 18.59l7.72-7.72 1.47 1.35L5.41 20z\"/>\n",
              "  </svg>\n",
              "      </button>\n",
              "      \n",
              "  <style>\n",
              "    .colab-df-container {\n",
              "      display:flex;\n",
              "      flex-wrap:wrap;\n",
              "      gap: 12px;\n",
              "    }\n",
              "\n",
              "    .colab-df-convert {\n",
              "      background-color: #E8F0FE;\n",
              "      border: none;\n",
              "      border-radius: 50%;\n",
              "      cursor: pointer;\n",
              "      display: none;\n",
              "      fill: #1967D2;\n",
              "      height: 32px;\n",
              "      padding: 0 0 0 0;\n",
              "      width: 32px;\n",
              "    }\n",
              "\n",
              "    .colab-df-convert:hover {\n",
              "      background-color: #E2EBFA;\n",
              "      box-shadow: 0px 1px 2px rgba(60, 64, 67, 0.3), 0px 1px 3px 1px rgba(60, 64, 67, 0.15);\n",
              "      fill: #174EA6;\n",
              "    }\n",
              "\n",
              "    [theme=dark] .colab-df-convert {\n",
              "      background-color: #3B4455;\n",
              "      fill: #D2E3FC;\n",
              "    }\n",
              "\n",
              "    [theme=dark] .colab-df-convert:hover {\n",
              "      background-color: #434B5C;\n",
              "      box-shadow: 0px 1px 3px 1px rgba(0, 0, 0, 0.15);\n",
              "      filter: drop-shadow(0px 1px 2px rgba(0, 0, 0, 0.3));\n",
              "      fill: #FFFFFF;\n",
              "    }\n",
              "  </style>\n",
              "\n",
              "      <script>\n",
              "        const buttonEl =\n",
              "          document.querySelector('#df-fa2dd141-ce1d-4468-beb4-87646339d625 button.colab-df-convert');\n",
              "        buttonEl.style.display =\n",
              "          google.colab.kernel.accessAllowed ? 'block' : 'none';\n",
              "\n",
              "        async function convertToInteractive(key) {\n",
              "          const element = document.querySelector('#df-fa2dd141-ce1d-4468-beb4-87646339d625');\n",
              "          const dataTable =\n",
              "            await google.colab.kernel.invokeFunction('convertToInteractive',\n",
              "                                                     [key], {});\n",
              "          if (!dataTable) return;\n",
              "\n",
              "          const docLinkHtml = 'Like what you see? Visit the ' +\n",
              "            '<a target=\"_blank\" href=https://colab.research.google.com/notebooks/data_table.ipynb>data table notebook</a>'\n",
              "            + ' to learn more about interactive tables.';\n",
              "          element.innerHTML = '';\n",
              "          dataTable['output_type'] = 'display_data';\n",
              "          await google.colab.output.renderOutput(dataTable, element);\n",
              "          const docLink = document.createElement('div');\n",
              "          docLink.innerHTML = docLinkHtml;\n",
              "          element.appendChild(docLink);\n",
              "        }\n",
              "      </script>\n",
              "    </div>\n",
              "  </div>\n",
              "  "
            ]
          },
          "metadata": {},
          "execution_count": 4
        }
      ]
    },
    {
      "cell_type": "markdown",
      "source": [
        "## Exploratory Data Analysis"
      ],
      "metadata": {
        "id": "5soW6iQKv7xB"
      }
    },
    {
      "cell_type": "code",
      "source": [
        "df.info()"
      ],
      "metadata": {
        "colab": {
          "base_uri": "https://localhost:8080/"
        },
        "id": "QQHpjAaAvYzN",
        "outputId": "539ca504-b15a-428b-f4f2-099d9e29319d"
      },
      "execution_count": null,
      "outputs": [
        {
          "output_type": "stream",
          "name": "stdout",
          "text": [
            "<class 'pandas.core.frame.DataFrame'>\n",
            "RangeIndex: 40121 entries, 0 to 40120\n",
            "Data columns (total 22 columns):\n",
            " #   Column                       Non-Null Count  Dtype  \n",
            "---  ------                       --------------  -----  \n",
            " 0   Customer_ID                  40120 non-null  float64\n",
            " 1   Status_Checking_Acc          40121 non-null  object \n",
            " 2   Duration_in_Months           40121 non-null  object \n",
            " 3   Credit_History               40121 non-null  object \n",
            " 4   Purposre_Credit_Taken        40120 non-null  object \n",
            " 5   Credit_Amount                40120 non-null  object \n",
            " 6   Savings_Acc                  40120 non-null  object \n",
            " 7   Years_At_Present_Employment  40120 non-null  object \n",
            " 8   Inst_Rt_Income               40120 non-null  float64\n",
            " 9   Marital_Status_Gender        40120 non-null  object \n",
            " 10  Other_Debtors_Guarantors     40120 non-null  object \n",
            " 11  Current_Address_Yrs          40120 non-null  float64\n",
            " 12  Property                     40119 non-null  object \n",
            " 13  Age                          40119 non-null  float64\n",
            " 14  Other_Inst_Plans             40119 non-null  object \n",
            " 15  Housing                      40119 non-null  object \n",
            " 16  Num_CC                       40119 non-null  float64\n",
            " 17  Job                          40119 non-null  object \n",
            " 18  Dependents                   40119 non-null  float64\n",
            " 19  Telephone                    40119 non-null  object \n",
            " 20  Foreign_Worker               40119 non-null  object \n",
            " 21  Default_On_Payment           40119 non-null  float64\n",
            "dtypes: float64(7), object(15)\n",
            "memory usage: 6.7+ MB\n"
          ]
        }
      ]
    },
    {
      "cell_type": "code",
      "source": [
        "#get number of rows/observations\n",
        "print (\"Rows     : \" , df.shape[0])  "
      ],
      "metadata": {
        "colab": {
          "base_uri": "https://localhost:8080/"
        },
        "id": "49ftzdFUwBFI",
        "outputId": "0c4077bf-4887-4873-aee0-179b1ab1249e"
      },
      "execution_count": null,
      "outputs": [
        {
          "output_type": "stream",
          "name": "stdout",
          "text": [
            "Rows     :  40121\n"
          ]
        }
      ]
    },
    {
      "cell_type": "code",
      "source": [
        "#get number of columns\n",
        "print (\"Columns  : \" , df.shape[1]) "
      ],
      "metadata": {
        "colab": {
          "base_uri": "https://localhost:8080/"
        },
        "id": "78MIaCFDwIT2",
        "outputId": "598c14d9-1413-45d6-d8f5-61cf25fa55c0"
      },
      "execution_count": null,
      "outputs": [
        {
          "output_type": "stream",
          "name": "stdout",
          "text": [
            "Columns  :  22\n"
          ]
        }
      ]
    },
    {
      "cell_type": "code",
      "source": [
        "#get name of columns/features\n",
        "print (\"#\"*50,\"\\n\",\"Features : \\n\\n\", df.columns.tolist()) "
      ],
      "metadata": {
        "colab": {
          "base_uri": "https://localhost:8080/"
        },
        "id": "3poThlyTwKke",
        "outputId": "9b2bf04a-1be7-4895-9254-e586dd283236"
      },
      "execution_count": null,
      "outputs": [
        {
          "output_type": "stream",
          "name": "stdout",
          "text": [
            "################################################## \n",
            " Features : \n",
            "\n",
            " ['Customer_ID', 'Status_Checking_Acc', 'Duration_in_Months', 'Credit_History', 'Purposre_Credit_Taken', 'Credit_Amount', 'Savings_Acc', 'Years_At_Present_Employment', 'Inst_Rt_Income', 'Marital_Status_Gender', 'Other_Debtors_Guarantors', 'Current_Address_Yrs', 'Property', 'Age', 'Other_Inst_Plans ', 'Housing', 'Num_CC', 'Job', 'Dependents', 'Telephone', 'Foreign_Worker', 'Default_On_Payment']\n"
          ]
        }
      ]
    },
    {
      "cell_type": "code",
      "source": [
        "print (\"#\"*20,\"\\nMissing values :\\n\\n\", df.isnull().sum().sort_values(ascending=False))"
      ],
      "metadata": {
        "colab": {
          "base_uri": "https://localhost:8080/"
        },
        "id": "_n7IX3rOwNAM",
        "outputId": "48339a4f-a824-49c8-fa8d-3120a0006e87"
      },
      "execution_count": null,
      "outputs": [
        {
          "output_type": "stream",
          "name": "stdout",
          "text": [
            "#################### \n",
            "Missing values :\n",
            "\n",
            " Default_On_Payment             2\n",
            "Property                       2\n",
            "Foreign_Worker                 2\n",
            "Telephone                      2\n",
            "Dependents                     2\n",
            "Job                            2\n",
            "Num_CC                         2\n",
            "Housing                        2\n",
            "Other_Inst_Plans               2\n",
            "Age                            2\n",
            "Customer_ID                    1\n",
            "Other_Debtors_Guarantors       1\n",
            "Marital_Status_Gender          1\n",
            "Inst_Rt_Income                 1\n",
            "Years_At_Present_Employment    1\n",
            "Savings_Acc                    1\n",
            "Credit_Amount                  1\n",
            "Purposre_Credit_Taken          1\n",
            "Current_Address_Yrs            1\n",
            "Status_Checking_Acc            0\n",
            "Credit_History                 0\n",
            "Duration_in_Months             0\n",
            "dtype: int64\n"
          ]
        }
      ]
    },
    {
      "cell_type": "code",
      "source": [
        "#  count of unique values\n",
        "print (\"#\"*20,\"\\nUnique values :  \\n\\n\", df.nunique())  "
      ],
      "metadata": {
        "colab": {
          "base_uri": "https://localhost:8080/"
        },
        "id": "7oyt7saXwWKb",
        "outputId": "6860e5a3-9229-4e89-c22d-9e5c775e8959"
      },
      "execution_count": null,
      "outputs": [
        {
          "output_type": "stream",
          "name": "stdout",
          "text": [
            "#################### \n",
            "Unique values :  \n",
            "\n",
            " Customer_ID                    39133\n",
            "Status_Checking_Acc                5\n",
            "Duration_in_Months                67\n",
            "Credit_History                     6\n",
            "Purposre_Credit_Taken             11\n",
            "Credit_Amount                   1843\n",
            "Savings_Acc                        6\n",
            "Years_At_Present_Employment        6\n",
            "Inst_Rt_Income                     4\n",
            "Marital_Status_Gender              5\n",
            "Other_Debtors_Guarantors           4\n",
            "Current_Address_Yrs                5\n",
            "Property                           4\n",
            "Age                               53\n",
            "Other_Inst_Plans                   3\n",
            "Housing                            3\n",
            "Num_CC                             4\n",
            "Job                                4\n",
            "Dependents                         2\n",
            "Telephone                          2\n",
            "Foreign_Worker                     2\n",
            "Default_On_Payment                 2\n",
            "dtype: int64\n"
          ]
        }
      ]
    },
    {
      "cell_type": "markdown",
      "source": [
        "## Data Cleaning"
      ],
      "metadata": {
        "id": "bdsfGprbyRUD"
      }
    },
    {
      "cell_type": "code",
      "source": [
        "df.shape"
      ],
      "metadata": {
        "colab": {
          "base_uri": "https://localhost:8080/"
        },
        "id": "OKd69ulcyYYB",
        "outputId": "17b73cf9-e9b6-4384-d54c-df49dfb29524"
      },
      "execution_count": null,
      "outputs": [
        {
          "output_type": "execute_result",
          "data": {
            "text/plain": [
              "(40121, 22)"
            ]
          },
          "metadata": {},
          "execution_count": 11
        }
      ]
    },
    {
      "cell_type": "code",
      "source": [
        "#Drop NA\n",
        "df =df.dropna()\n",
        "df.shape"
      ],
      "metadata": {
        "colab": {
          "base_uri": "https://localhost:8080/"
        },
        "id": "bSJV5VwkyN8F",
        "outputId": "e9720692-5a51-4384-c590-ffbd82a77385"
      },
      "execution_count": null,
      "outputs": [
        {
          "output_type": "execute_result",
          "data": {
            "text/plain": [
              "(40119, 22)"
            ]
          },
          "metadata": {},
          "execution_count": 12
        }
      ]
    },
    {
      "cell_type": "code",
      "source": [
        "#Dropping customer id field as it is unique field and no relation with default payment\n",
        "df = df.drop(['Customer_ID'],axis=1)\n",
        "df.head(5)"
      ],
      "metadata": {
        "colab": {
          "base_uri": "https://localhost:8080/",
          "height": 300
        },
        "id": "QMntI4MXydfm",
        "outputId": "f548fd92-9adb-4940-8ce0-e1081e2da9e4"
      },
      "execution_count": null,
      "outputs": [
        {
          "output_type": "execute_result",
          "data": {
            "text/plain": [
              "  Status_Checking_Acc Duration_in_Months Credit_History Purposre_Credit_Taken  \\\n",
              "0                 A14                 27            A32                   A40   \n",
              "1                 A11                 12            A34                   A43   \n",
              "2                 A12                 13            A34                   A43   \n",
              "3                 A14                 24            A32                   A40   \n",
              "4                 A11                 24            A32                   A40   \n",
              "\n",
              "  Credit_Amount Savings_Acc Years_At_Present_Employment  Inst_Rt_Income  \\\n",
              "0          2570         A61                         A73             3.0   \n",
              "1           385         A61                         A74             4.0   \n",
              "2           882         A61                         A72             4.0   \n",
              "3          1393         A61                         A73             2.0   \n",
              "4          3123         A61                         A72             4.0   \n",
              "\n",
              "  Marital_Status_Gender Other_Debtors_Guarantors  ...  Property   Age  \\\n",
              "0                   A92                     A101  ...      A121  21.0   \n",
              "1                   A92                     A101  ...      A121  58.0   \n",
              "2                   A93                     A103  ...      A121  23.0   \n",
              "3                   A93                     A103  ...      A121  31.0   \n",
              "4                   A92                     A101  ...      A122  27.0   \n",
              "\n",
              "   Other_Inst_Plans  Housing Num_CC   Job Dependents  Telephone  \\\n",
              "0               A143    A151    1.0  A173        1.0       A191   \n",
              "1               A143    A152    4.0  A172        1.0       A192   \n",
              "2               A143    A152    2.0  A173        1.0       A191   \n",
              "3               A143    A152    1.0  A173        1.0       A192   \n",
              "4               A143    A152    1.0  A173        1.0       A191   \n",
              "\n",
              "  Foreign_Worker Default_On_Payment  \n",
              "0           A201                1.0  \n",
              "1           A201                0.0  \n",
              "2           A201                0.0  \n",
              "3           A201                0.0  \n",
              "4           A201                1.0  \n",
              "\n",
              "[5 rows x 21 columns]"
            ],
            "text/html": [
              "\n",
              "  <div id=\"df-d92cd9eb-82c7-456e-a934-4b0047fa124d\">\n",
              "    <div class=\"colab-df-container\">\n",
              "      <div>\n",
              "<style scoped>\n",
              "    .dataframe tbody tr th:only-of-type {\n",
              "        vertical-align: middle;\n",
              "    }\n",
              "\n",
              "    .dataframe tbody tr th {\n",
              "        vertical-align: top;\n",
              "    }\n",
              "\n",
              "    .dataframe thead th {\n",
              "        text-align: right;\n",
              "    }\n",
              "</style>\n",
              "<table border=\"1\" class=\"dataframe\">\n",
              "  <thead>\n",
              "    <tr style=\"text-align: right;\">\n",
              "      <th></th>\n",
              "      <th>Status_Checking_Acc</th>\n",
              "      <th>Duration_in_Months</th>\n",
              "      <th>Credit_History</th>\n",
              "      <th>Purposre_Credit_Taken</th>\n",
              "      <th>Credit_Amount</th>\n",
              "      <th>Savings_Acc</th>\n",
              "      <th>Years_At_Present_Employment</th>\n",
              "      <th>Inst_Rt_Income</th>\n",
              "      <th>Marital_Status_Gender</th>\n",
              "      <th>Other_Debtors_Guarantors</th>\n",
              "      <th>...</th>\n",
              "      <th>Property</th>\n",
              "      <th>Age</th>\n",
              "      <th>Other_Inst_Plans</th>\n",
              "      <th>Housing</th>\n",
              "      <th>Num_CC</th>\n",
              "      <th>Job</th>\n",
              "      <th>Dependents</th>\n",
              "      <th>Telephone</th>\n",
              "      <th>Foreign_Worker</th>\n",
              "      <th>Default_On_Payment</th>\n",
              "    </tr>\n",
              "  </thead>\n",
              "  <tbody>\n",
              "    <tr>\n",
              "      <th>0</th>\n",
              "      <td>A14</td>\n",
              "      <td>27</td>\n",
              "      <td>A32</td>\n",
              "      <td>A40</td>\n",
              "      <td>2570</td>\n",
              "      <td>A61</td>\n",
              "      <td>A73</td>\n",
              "      <td>3.0</td>\n",
              "      <td>A92</td>\n",
              "      <td>A101</td>\n",
              "      <td>...</td>\n",
              "      <td>A121</td>\n",
              "      <td>21.0</td>\n",
              "      <td>A143</td>\n",
              "      <td>A151</td>\n",
              "      <td>1.0</td>\n",
              "      <td>A173</td>\n",
              "      <td>1.0</td>\n",
              "      <td>A191</td>\n",
              "      <td>A201</td>\n",
              "      <td>1.0</td>\n",
              "    </tr>\n",
              "    <tr>\n",
              "      <th>1</th>\n",
              "      <td>A11</td>\n",
              "      <td>12</td>\n",
              "      <td>A34</td>\n",
              "      <td>A43</td>\n",
              "      <td>385</td>\n",
              "      <td>A61</td>\n",
              "      <td>A74</td>\n",
              "      <td>4.0</td>\n",
              "      <td>A92</td>\n",
              "      <td>A101</td>\n",
              "      <td>...</td>\n",
              "      <td>A121</td>\n",
              "      <td>58.0</td>\n",
              "      <td>A143</td>\n",
              "      <td>A152</td>\n",
              "      <td>4.0</td>\n",
              "      <td>A172</td>\n",
              "      <td>1.0</td>\n",
              "      <td>A192</td>\n",
              "      <td>A201</td>\n",
              "      <td>0.0</td>\n",
              "    </tr>\n",
              "    <tr>\n",
              "      <th>2</th>\n",
              "      <td>A12</td>\n",
              "      <td>13</td>\n",
              "      <td>A34</td>\n",
              "      <td>A43</td>\n",
              "      <td>882</td>\n",
              "      <td>A61</td>\n",
              "      <td>A72</td>\n",
              "      <td>4.0</td>\n",
              "      <td>A93</td>\n",
              "      <td>A103</td>\n",
              "      <td>...</td>\n",
              "      <td>A121</td>\n",
              "      <td>23.0</td>\n",
              "      <td>A143</td>\n",
              "      <td>A152</td>\n",
              "      <td>2.0</td>\n",
              "      <td>A173</td>\n",
              "      <td>1.0</td>\n",
              "      <td>A191</td>\n",
              "      <td>A201</td>\n",
              "      <td>0.0</td>\n",
              "    </tr>\n",
              "    <tr>\n",
              "      <th>3</th>\n",
              "      <td>A14</td>\n",
              "      <td>24</td>\n",
              "      <td>A32</td>\n",
              "      <td>A40</td>\n",
              "      <td>1393</td>\n",
              "      <td>A61</td>\n",
              "      <td>A73</td>\n",
              "      <td>2.0</td>\n",
              "      <td>A93</td>\n",
              "      <td>A103</td>\n",
              "      <td>...</td>\n",
              "      <td>A121</td>\n",
              "      <td>31.0</td>\n",
              "      <td>A143</td>\n",
              "      <td>A152</td>\n",
              "      <td>1.0</td>\n",
              "      <td>A173</td>\n",
              "      <td>1.0</td>\n",
              "      <td>A192</td>\n",
              "      <td>A201</td>\n",
              "      <td>0.0</td>\n",
              "    </tr>\n",
              "    <tr>\n",
              "      <th>4</th>\n",
              "      <td>A11</td>\n",
              "      <td>24</td>\n",
              "      <td>A32</td>\n",
              "      <td>A40</td>\n",
              "      <td>3123</td>\n",
              "      <td>A61</td>\n",
              "      <td>A72</td>\n",
              "      <td>4.0</td>\n",
              "      <td>A92</td>\n",
              "      <td>A101</td>\n",
              "      <td>...</td>\n",
              "      <td>A122</td>\n",
              "      <td>27.0</td>\n",
              "      <td>A143</td>\n",
              "      <td>A152</td>\n",
              "      <td>1.0</td>\n",
              "      <td>A173</td>\n",
              "      <td>1.0</td>\n",
              "      <td>A191</td>\n",
              "      <td>A201</td>\n",
              "      <td>1.0</td>\n",
              "    </tr>\n",
              "  </tbody>\n",
              "</table>\n",
              "<p>5 rows × 21 columns</p>\n",
              "</div>\n",
              "      <button class=\"colab-df-convert\" onclick=\"convertToInteractive('df-d92cd9eb-82c7-456e-a934-4b0047fa124d')\"\n",
              "              title=\"Convert this dataframe to an interactive table.\"\n",
              "              style=\"display:none;\">\n",
              "        \n",
              "  <svg xmlns=\"http://www.w3.org/2000/svg\" height=\"24px\"viewBox=\"0 0 24 24\"\n",
              "       width=\"24px\">\n",
              "    <path d=\"M0 0h24v24H0V0z\" fill=\"none\"/>\n",
              "    <path d=\"M18.56 5.44l.94 2.06.94-2.06 2.06-.94-2.06-.94-.94-2.06-.94 2.06-2.06.94zm-11 1L8.5 8.5l.94-2.06 2.06-.94-2.06-.94L8.5 2.5l-.94 2.06-2.06.94zm10 10l.94 2.06.94-2.06 2.06-.94-2.06-.94-.94-2.06-.94 2.06-2.06.94z\"/><path d=\"M17.41 7.96l-1.37-1.37c-.4-.4-.92-.59-1.43-.59-.52 0-1.04.2-1.43.59L10.3 9.45l-7.72 7.72c-.78.78-.78 2.05 0 2.83L4 21.41c.39.39.9.59 1.41.59.51 0 1.02-.2 1.41-.59l7.78-7.78 2.81-2.81c.8-.78.8-2.07 0-2.86zM5.41 20L4 18.59l7.72-7.72 1.47 1.35L5.41 20z\"/>\n",
              "  </svg>\n",
              "      </button>\n",
              "      \n",
              "  <style>\n",
              "    .colab-df-container {\n",
              "      display:flex;\n",
              "      flex-wrap:wrap;\n",
              "      gap: 12px;\n",
              "    }\n",
              "\n",
              "    .colab-df-convert {\n",
              "      background-color: #E8F0FE;\n",
              "      border: none;\n",
              "      border-radius: 50%;\n",
              "      cursor: pointer;\n",
              "      display: none;\n",
              "      fill: #1967D2;\n",
              "      height: 32px;\n",
              "      padding: 0 0 0 0;\n",
              "      width: 32px;\n",
              "    }\n",
              "\n",
              "    .colab-df-convert:hover {\n",
              "      background-color: #E2EBFA;\n",
              "      box-shadow: 0px 1px 2px rgba(60, 64, 67, 0.3), 0px 1px 3px 1px rgba(60, 64, 67, 0.15);\n",
              "      fill: #174EA6;\n",
              "    }\n",
              "\n",
              "    [theme=dark] .colab-df-convert {\n",
              "      background-color: #3B4455;\n",
              "      fill: #D2E3FC;\n",
              "    }\n",
              "\n",
              "    [theme=dark] .colab-df-convert:hover {\n",
              "      background-color: #434B5C;\n",
              "      box-shadow: 0px 1px 3px 1px rgba(0, 0, 0, 0.15);\n",
              "      filter: drop-shadow(0px 1px 2px rgba(0, 0, 0, 0.3));\n",
              "      fill: #FFFFFF;\n",
              "    }\n",
              "  </style>\n",
              "\n",
              "      <script>\n",
              "        const buttonEl =\n",
              "          document.querySelector('#df-d92cd9eb-82c7-456e-a934-4b0047fa124d button.colab-df-convert');\n",
              "        buttonEl.style.display =\n",
              "          google.colab.kernel.accessAllowed ? 'block' : 'none';\n",
              "\n",
              "        async function convertToInteractive(key) {\n",
              "          const element = document.querySelector('#df-d92cd9eb-82c7-456e-a934-4b0047fa124d');\n",
              "          const dataTable =\n",
              "            await google.colab.kernel.invokeFunction('convertToInteractive',\n",
              "                                                     [key], {});\n",
              "          if (!dataTable) return;\n",
              "\n",
              "          const docLinkHtml = 'Like what you see? Visit the ' +\n",
              "            '<a target=\"_blank\" href=https://colab.research.google.com/notebooks/data_table.ipynb>data table notebook</a>'\n",
              "            + ' to learn more about interactive tables.';\n",
              "          element.innerHTML = '';\n",
              "          dataTable['output_type'] = 'display_data';\n",
              "          await google.colab.output.renderOutput(dataTable, element);\n",
              "          const docLink = document.createElement('div');\n",
              "          docLink.innerHTML = docLinkHtml;\n",
              "          element.appendChild(docLink);\n",
              "        }\n",
              "      </script>\n",
              "    </div>\n",
              "  </div>\n",
              "  "
            ]
          },
          "metadata": {},
          "execution_count": 13
        }
      ]
    },
    {
      "cell_type": "markdown",
      "source": [
        "### Converting  \"Duration_in_Months\" and \"Credit_Amount\" column types to Numeric and Float respectively."
      ],
      "metadata": {
        "id": "kz3HmCLHypKX"
      }
    },
    {
      "cell_type": "code",
      "source": [
        "df['Duration_in_Months']=pd.to_numeric(df.Duration_in_Months,errors='coerce')"
      ],
      "metadata": {
        "id": "qy6kFA-Iyh1i"
      },
      "execution_count": null,
      "outputs": []
    },
    {
      "cell_type": "code",
      "source": [
        "df['Credit_Amount']=pd.to_numeric(df.Credit_Amount,downcast=\"float\",errors='coerce')"
      ],
      "metadata": {
        "id": "uFOoFTm-ysoq"
      },
      "execution_count": null,
      "outputs": []
    },
    {
      "cell_type": "code",
      "source": [
        "df.info()"
      ],
      "metadata": {
        "colab": {
          "base_uri": "https://localhost:8080/"
        },
        "id": "g0J2KsSzyure",
        "outputId": "a8527ef4-925a-4c5a-8747-2e8532c9998d"
      },
      "execution_count": null,
      "outputs": [
        {
          "output_type": "stream",
          "name": "stdout",
          "text": [
            "<class 'pandas.core.frame.DataFrame'>\n",
            "Int64Index: 40119 entries, 0 to 40119\n",
            "Data columns (total 21 columns):\n",
            " #   Column                       Non-Null Count  Dtype  \n",
            "---  ------                       --------------  -----  \n",
            " 0   Status_Checking_Acc          40119 non-null  object \n",
            " 1   Duration_in_Months           40119 non-null  int64  \n",
            " 2   Credit_History               40119 non-null  object \n",
            " 3   Purposre_Credit_Taken        40119 non-null  object \n",
            " 4   Credit_Amount                40119 non-null  float32\n",
            " 5   Savings_Acc                  40119 non-null  object \n",
            " 6   Years_At_Present_Employment  40119 non-null  object \n",
            " 7   Inst_Rt_Income               40119 non-null  float64\n",
            " 8   Marital_Status_Gender        40119 non-null  object \n",
            " 9   Other_Debtors_Guarantors     40119 non-null  object \n",
            " 10  Current_Address_Yrs          40119 non-null  float64\n",
            " 11  Property                     40119 non-null  object \n",
            " 12  Age                          40119 non-null  float64\n",
            " 13  Other_Inst_Plans             40119 non-null  object \n",
            " 14  Housing                      40119 non-null  object \n",
            " 15  Num_CC                       40119 non-null  float64\n",
            " 16  Job                          40119 non-null  object \n",
            " 17  Dependents                   40119 non-null  float64\n",
            " 18  Telephone                    40119 non-null  object \n",
            " 19  Foreign_Worker               40119 non-null  object \n",
            " 20  Default_On_Payment           40119 non-null  float64\n",
            "dtypes: float32(1), float64(6), int64(1), object(13)\n",
            "memory usage: 6.6+ MB\n"
          ]
        }
      ]
    },
    {
      "cell_type": "code",
      "source": [
        "numeric_var_names=[key for key in dict(df.dtypes) if dict(df.dtypes)[key] in ['float64', 'int64', 'float32', 'int32']]\n",
        "numeric_var_names"
      ],
      "metadata": {
        "colab": {
          "base_uri": "https://localhost:8080/"
        },
        "id": "Bpk3EJmOyw9C",
        "outputId": "b2dfb46a-f91e-4fba-f9b4-c138759d790a"
      },
      "execution_count": null,
      "outputs": [
        {
          "output_type": "execute_result",
          "data": {
            "text/plain": [
              "['Duration_in_Months',\n",
              " 'Credit_Amount',\n",
              " 'Inst_Rt_Income',\n",
              " 'Current_Address_Yrs',\n",
              " 'Age',\n",
              " 'Num_CC',\n",
              " 'Dependents',\n",
              " 'Default_On_Payment']"
            ]
          },
          "metadata": {},
          "execution_count": 17
        }
      ]
    },
    {
      "cell_type": "code",
      "source": [
        "#Removing  ['Default_On_Payment'] target from input parameters\n",
        "numeric_var_names.pop()\n",
        "numeric_var_names"
      ],
      "metadata": {
        "colab": {
          "base_uri": "https://localhost:8080/"
        },
        "id": "J74YbcVXy3lF",
        "outputId": "cb7ee730-0e9d-471b-9e8b-1772a8f711fa"
      },
      "execution_count": null,
      "outputs": [
        {
          "output_type": "execute_result",
          "data": {
            "text/plain": [
              "['Duration_in_Months',\n",
              " 'Credit_Amount',\n",
              " 'Inst_Rt_Income',\n",
              " 'Current_Address_Yrs',\n",
              " 'Age',\n",
              " 'Num_CC',\n",
              " 'Dependents']"
            ]
          },
          "metadata": {},
          "execution_count": 18
        }
      ]
    },
    {
      "cell_type": "code",
      "source": [
        "cat_var_names=[key for key in dict(df.dtypes) if dict(df.dtypes)[key] in ['object']]\n",
        "cat_var_names"
      ],
      "metadata": {
        "colab": {
          "base_uri": "https://localhost:8080/"
        },
        "id": "TiBWL-HpzZ2Y",
        "outputId": "e1ad1b86-07ab-48b5-a89a-b651b3a3cb01"
      },
      "execution_count": null,
      "outputs": [
        {
          "output_type": "execute_result",
          "data": {
            "text/plain": [
              "['Status_Checking_Acc',\n",
              " 'Credit_History',\n",
              " 'Purposre_Credit_Taken',\n",
              " 'Savings_Acc',\n",
              " 'Years_At_Present_Employment',\n",
              " 'Marital_Status_Gender',\n",
              " 'Other_Debtors_Guarantors',\n",
              " 'Property',\n",
              " 'Other_Inst_Plans ',\n",
              " 'Housing',\n",
              " 'Job',\n",
              " 'Telephone',\n",
              " 'Foreign_Worker']"
            ]
          },
          "metadata": {},
          "execution_count": 19
        }
      ]
    },
    {
      "cell_type": "code",
      "source": [
        "#numeric_var_names.pop() #Removing \"Dependents\" as it is not required scaling\n",
        "\n",
        "x_num=df.loc[:,(numeric_var_names)]\n",
        "x_num.tail(5)"
      ],
      "metadata": {
        "colab": {
          "base_uri": "https://localhost:8080/",
          "height": 206
        },
        "id": "r0c6odPNzhAt",
        "outputId": "c27f65e4-153f-4716-b899-5e565d27a623"
      },
      "execution_count": null,
      "outputs": [
        {
          "output_type": "execute_result",
          "data": {
            "text/plain": [
              "       Duration_in_Months  Credit_Amount  Inst_Rt_Income  Current_Address_Yrs  \\\n",
              "40115                  24         1285.0             4.0                  4.0   \n",
              "40116                  24         1935.0             4.0                  4.0   \n",
              "40117                  60        14027.0             4.0                  2.0   \n",
              "40118                  36         3804.0             4.0                  1.0   \n",
              "40119                  20         2235.0             4.0                  2.0   \n",
              "\n",
              "        Age  Num_CC  Dependents  \n",
              "40115  32.0     1.0         1.0  \n",
              "40116  31.0     2.0         1.0  \n",
              "40117  27.0     1.0         1.0  \n",
              "40118  42.0     1.0         1.0  \n",
              "40119  33.0     2.0         1.0  "
            ],
            "text/html": [
              "\n",
              "  <div id=\"df-30a8238a-de97-45e0-aec7-cae0efbb5c8b\">\n",
              "    <div class=\"colab-df-container\">\n",
              "      <div>\n",
              "<style scoped>\n",
              "    .dataframe tbody tr th:only-of-type {\n",
              "        vertical-align: middle;\n",
              "    }\n",
              "\n",
              "    .dataframe tbody tr th {\n",
              "        vertical-align: top;\n",
              "    }\n",
              "\n",
              "    .dataframe thead th {\n",
              "        text-align: right;\n",
              "    }\n",
              "</style>\n",
              "<table border=\"1\" class=\"dataframe\">\n",
              "  <thead>\n",
              "    <tr style=\"text-align: right;\">\n",
              "      <th></th>\n",
              "      <th>Duration_in_Months</th>\n",
              "      <th>Credit_Amount</th>\n",
              "      <th>Inst_Rt_Income</th>\n",
              "      <th>Current_Address_Yrs</th>\n",
              "      <th>Age</th>\n",
              "      <th>Num_CC</th>\n",
              "      <th>Dependents</th>\n",
              "    </tr>\n",
              "  </thead>\n",
              "  <tbody>\n",
              "    <tr>\n",
              "      <th>40115</th>\n",
              "      <td>24</td>\n",
              "      <td>1285.0</td>\n",
              "      <td>4.0</td>\n",
              "      <td>4.0</td>\n",
              "      <td>32.0</td>\n",
              "      <td>1.0</td>\n",
              "      <td>1.0</td>\n",
              "    </tr>\n",
              "    <tr>\n",
              "      <th>40116</th>\n",
              "      <td>24</td>\n",
              "      <td>1935.0</td>\n",
              "      <td>4.0</td>\n",
              "      <td>4.0</td>\n",
              "      <td>31.0</td>\n",
              "      <td>2.0</td>\n",
              "      <td>1.0</td>\n",
              "    </tr>\n",
              "    <tr>\n",
              "      <th>40117</th>\n",
              "      <td>60</td>\n",
              "      <td>14027.0</td>\n",
              "      <td>4.0</td>\n",
              "      <td>2.0</td>\n",
              "      <td>27.0</td>\n",
              "      <td>1.0</td>\n",
              "      <td>1.0</td>\n",
              "    </tr>\n",
              "    <tr>\n",
              "      <th>40118</th>\n",
              "      <td>36</td>\n",
              "      <td>3804.0</td>\n",
              "      <td>4.0</td>\n",
              "      <td>1.0</td>\n",
              "      <td>42.0</td>\n",
              "      <td>1.0</td>\n",
              "      <td>1.0</td>\n",
              "    </tr>\n",
              "    <tr>\n",
              "      <th>40119</th>\n",
              "      <td>20</td>\n",
              "      <td>2235.0</td>\n",
              "      <td>4.0</td>\n",
              "      <td>2.0</td>\n",
              "      <td>33.0</td>\n",
              "      <td>2.0</td>\n",
              "      <td>1.0</td>\n",
              "    </tr>\n",
              "  </tbody>\n",
              "</table>\n",
              "</div>\n",
              "      <button class=\"colab-df-convert\" onclick=\"convertToInteractive('df-30a8238a-de97-45e0-aec7-cae0efbb5c8b')\"\n",
              "              title=\"Convert this dataframe to an interactive table.\"\n",
              "              style=\"display:none;\">\n",
              "        \n",
              "  <svg xmlns=\"http://www.w3.org/2000/svg\" height=\"24px\"viewBox=\"0 0 24 24\"\n",
              "       width=\"24px\">\n",
              "    <path d=\"M0 0h24v24H0V0z\" fill=\"none\"/>\n",
              "    <path d=\"M18.56 5.44l.94 2.06.94-2.06 2.06-.94-2.06-.94-.94-2.06-.94 2.06-2.06.94zm-11 1L8.5 8.5l.94-2.06 2.06-.94-2.06-.94L8.5 2.5l-.94 2.06-2.06.94zm10 10l.94 2.06.94-2.06 2.06-.94-2.06-.94-.94-2.06-.94 2.06-2.06.94z\"/><path d=\"M17.41 7.96l-1.37-1.37c-.4-.4-.92-.59-1.43-.59-.52 0-1.04.2-1.43.59L10.3 9.45l-7.72 7.72c-.78.78-.78 2.05 0 2.83L4 21.41c.39.39.9.59 1.41.59.51 0 1.02-.2 1.41-.59l7.78-7.78 2.81-2.81c.8-.78.8-2.07 0-2.86zM5.41 20L4 18.59l7.72-7.72 1.47 1.35L5.41 20z\"/>\n",
              "  </svg>\n",
              "      </button>\n",
              "      \n",
              "  <style>\n",
              "    .colab-df-container {\n",
              "      display:flex;\n",
              "      flex-wrap:wrap;\n",
              "      gap: 12px;\n",
              "    }\n",
              "\n",
              "    .colab-df-convert {\n",
              "      background-color: #E8F0FE;\n",
              "      border: none;\n",
              "      border-radius: 50%;\n",
              "      cursor: pointer;\n",
              "      display: none;\n",
              "      fill: #1967D2;\n",
              "      height: 32px;\n",
              "      padding: 0 0 0 0;\n",
              "      width: 32px;\n",
              "    }\n",
              "\n",
              "    .colab-df-convert:hover {\n",
              "      background-color: #E2EBFA;\n",
              "      box-shadow: 0px 1px 2px rgba(60, 64, 67, 0.3), 0px 1px 3px 1px rgba(60, 64, 67, 0.15);\n",
              "      fill: #174EA6;\n",
              "    }\n",
              "\n",
              "    [theme=dark] .colab-df-convert {\n",
              "      background-color: #3B4455;\n",
              "      fill: #D2E3FC;\n",
              "    }\n",
              "\n",
              "    [theme=dark] .colab-df-convert:hover {\n",
              "      background-color: #434B5C;\n",
              "      box-shadow: 0px 1px 3px 1px rgba(0, 0, 0, 0.15);\n",
              "      filter: drop-shadow(0px 1px 2px rgba(0, 0, 0, 0.3));\n",
              "      fill: #FFFFFF;\n",
              "    }\n",
              "  </style>\n",
              "\n",
              "      <script>\n",
              "        const buttonEl =\n",
              "          document.querySelector('#df-30a8238a-de97-45e0-aec7-cae0efbb5c8b button.colab-df-convert');\n",
              "        buttonEl.style.display =\n",
              "          google.colab.kernel.accessAllowed ? 'block' : 'none';\n",
              "\n",
              "        async function convertToInteractive(key) {\n",
              "          const element = document.querySelector('#df-30a8238a-de97-45e0-aec7-cae0efbb5c8b');\n",
              "          const dataTable =\n",
              "            await google.colab.kernel.invokeFunction('convertToInteractive',\n",
              "                                                     [key], {});\n",
              "          if (!dataTable) return;\n",
              "\n",
              "          const docLinkHtml = 'Like what you see? Visit the ' +\n",
              "            '<a target=\"_blank\" href=https://colab.research.google.com/notebooks/data_table.ipynb>data table notebook</a>'\n",
              "            + ' to learn more about interactive tables.';\n",
              "          element.innerHTML = '';\n",
              "          dataTable['output_type'] = 'display_data';\n",
              "          await google.colab.output.renderOutput(dataTable, element);\n",
              "          const docLink = document.createElement('div');\n",
              "          docLink.innerHTML = docLinkHtml;\n",
              "          element.appendChild(docLink);\n",
              "        }\n",
              "      </script>\n",
              "    </div>\n",
              "  </div>\n",
              "  "
            ]
          },
          "metadata": {},
          "execution_count": 20
        }
      ]
    },
    {
      "cell_type": "code",
      "source": [
        "x_num.shape"
      ],
      "metadata": {
        "colab": {
          "base_uri": "https://localhost:8080/"
        },
        "id": "SgbQuz550KxI",
        "outputId": "106b139c-3cee-4780-f74c-3cf9096cb370"
      },
      "execution_count": null,
      "outputs": [
        {
          "output_type": "execute_result",
          "data": {
            "text/plain": [
              "(40119, 7)"
            ]
          },
          "metadata": {},
          "execution_count": 21
        }
      ]
    },
    {
      "cell_type": "code",
      "source": [
        "#Dummy coding for categorical variables\n",
        "for x in df.columns:\n",
        "    if df[x].dtype == \"object\":\n",
        "        df[x] =pd.Categorical(df[x]).codes"
      ],
      "metadata": {
        "id": "OEnk6wrLzqGz"
      },
      "execution_count": null,
      "outputs": []
    },
    {
      "cell_type": "code",
      "source": [
        "x_num1=df.loc[:,(cat_var_names)]\n",
        "x_num1.tail(5)"
      ],
      "metadata": {
        "colab": {
          "base_uri": "https://localhost:8080/",
          "height": 270
        },
        "id": "EZoLPj26z-L2",
        "outputId": "a1100517-f02d-48d6-d290-7e4f7c1b13b5"
      },
      "execution_count": null,
      "outputs": [
        {
          "output_type": "execute_result",
          "data": {
            "text/plain": [
              "       Status_Checking_Acc  Credit_History  Purposre_Credit_Taken  \\\n",
              "40115                    0               2                      0   \n",
              "40116                    1               4                      9   \n",
              "40117                    1               2                      0   \n",
              "40118                    1               0                      4   \n",
              "40119                    0               4                      0   \n",
              "\n",
              "       Savings_Acc  Years_At_Present_Employment  Marital_Status_Gender  \\\n",
              "40115            4                            3                      1   \n",
              "40116            0                            4                      0   \n",
              "40117            0                            3                      2   \n",
              "40118            0                            2                      1   \n",
              "40119            0                            2                      3   \n",
              "\n",
              "       Other_Debtors_Guarantors  Property  Other_Inst_Plans   Housing  Job  \\\n",
              "40115                         0         3                  2        0    2   \n",
              "40116                         0         0                  2        1    2   \n",
              "40117                         0         3                  2        1    3   \n",
              "40118                         0         2                  2        1    2   \n",
              "40119                         2         1                  0        0    2   \n",
              "\n",
              "       Telephone  Foreign_Worker  \n",
              "40115          0               0  \n",
              "40116          1               0  \n",
              "40117          1               0  \n",
              "40118          1               0  \n",
              "40119          0               1  "
            ],
            "text/html": [
              "\n",
              "  <div id=\"df-6e942b41-b837-4dcb-bd1b-840dfd8fb95b\">\n",
              "    <div class=\"colab-df-container\">\n",
              "      <div>\n",
              "<style scoped>\n",
              "    .dataframe tbody tr th:only-of-type {\n",
              "        vertical-align: middle;\n",
              "    }\n",
              "\n",
              "    .dataframe tbody tr th {\n",
              "        vertical-align: top;\n",
              "    }\n",
              "\n",
              "    .dataframe thead th {\n",
              "        text-align: right;\n",
              "    }\n",
              "</style>\n",
              "<table border=\"1\" class=\"dataframe\">\n",
              "  <thead>\n",
              "    <tr style=\"text-align: right;\">\n",
              "      <th></th>\n",
              "      <th>Status_Checking_Acc</th>\n",
              "      <th>Credit_History</th>\n",
              "      <th>Purposre_Credit_Taken</th>\n",
              "      <th>Savings_Acc</th>\n",
              "      <th>Years_At_Present_Employment</th>\n",
              "      <th>Marital_Status_Gender</th>\n",
              "      <th>Other_Debtors_Guarantors</th>\n",
              "      <th>Property</th>\n",
              "      <th>Other_Inst_Plans</th>\n",
              "      <th>Housing</th>\n",
              "      <th>Job</th>\n",
              "      <th>Telephone</th>\n",
              "      <th>Foreign_Worker</th>\n",
              "    </tr>\n",
              "  </thead>\n",
              "  <tbody>\n",
              "    <tr>\n",
              "      <th>40115</th>\n",
              "      <td>0</td>\n",
              "      <td>2</td>\n",
              "      <td>0</td>\n",
              "      <td>4</td>\n",
              "      <td>3</td>\n",
              "      <td>1</td>\n",
              "      <td>0</td>\n",
              "      <td>3</td>\n",
              "      <td>2</td>\n",
              "      <td>0</td>\n",
              "      <td>2</td>\n",
              "      <td>0</td>\n",
              "      <td>0</td>\n",
              "    </tr>\n",
              "    <tr>\n",
              "      <th>40116</th>\n",
              "      <td>1</td>\n",
              "      <td>4</td>\n",
              "      <td>9</td>\n",
              "      <td>0</td>\n",
              "      <td>4</td>\n",
              "      <td>0</td>\n",
              "      <td>0</td>\n",
              "      <td>0</td>\n",
              "      <td>2</td>\n",
              "      <td>1</td>\n",
              "      <td>2</td>\n",
              "      <td>1</td>\n",
              "      <td>0</td>\n",
              "    </tr>\n",
              "    <tr>\n",
              "      <th>40117</th>\n",
              "      <td>1</td>\n",
              "      <td>2</td>\n",
              "      <td>0</td>\n",
              "      <td>0</td>\n",
              "      <td>3</td>\n",
              "      <td>2</td>\n",
              "      <td>0</td>\n",
              "      <td>3</td>\n",
              "      <td>2</td>\n",
              "      <td>1</td>\n",
              "      <td>3</td>\n",
              "      <td>1</td>\n",
              "      <td>0</td>\n",
              "    </tr>\n",
              "    <tr>\n",
              "      <th>40118</th>\n",
              "      <td>1</td>\n",
              "      <td>0</td>\n",
              "      <td>4</td>\n",
              "      <td>0</td>\n",
              "      <td>2</td>\n",
              "      <td>1</td>\n",
              "      <td>0</td>\n",
              "      <td>2</td>\n",
              "      <td>2</td>\n",
              "      <td>1</td>\n",
              "      <td>2</td>\n",
              "      <td>1</td>\n",
              "      <td>0</td>\n",
              "    </tr>\n",
              "    <tr>\n",
              "      <th>40119</th>\n",
              "      <td>0</td>\n",
              "      <td>4</td>\n",
              "      <td>0</td>\n",
              "      <td>0</td>\n",
              "      <td>2</td>\n",
              "      <td>3</td>\n",
              "      <td>2</td>\n",
              "      <td>1</td>\n",
              "      <td>0</td>\n",
              "      <td>0</td>\n",
              "      <td>2</td>\n",
              "      <td>0</td>\n",
              "      <td>1</td>\n",
              "    </tr>\n",
              "  </tbody>\n",
              "</table>\n",
              "</div>\n",
              "      <button class=\"colab-df-convert\" onclick=\"convertToInteractive('df-6e942b41-b837-4dcb-bd1b-840dfd8fb95b')\"\n",
              "              title=\"Convert this dataframe to an interactive table.\"\n",
              "              style=\"display:none;\">\n",
              "        \n",
              "  <svg xmlns=\"http://www.w3.org/2000/svg\" height=\"24px\"viewBox=\"0 0 24 24\"\n",
              "       width=\"24px\">\n",
              "    <path d=\"M0 0h24v24H0V0z\" fill=\"none\"/>\n",
              "    <path d=\"M18.56 5.44l.94 2.06.94-2.06 2.06-.94-2.06-.94-.94-2.06-.94 2.06-2.06.94zm-11 1L8.5 8.5l.94-2.06 2.06-.94-2.06-.94L8.5 2.5l-.94 2.06-2.06.94zm10 10l.94 2.06.94-2.06 2.06-.94-2.06-.94-.94-2.06-.94 2.06-2.06.94z\"/><path d=\"M17.41 7.96l-1.37-1.37c-.4-.4-.92-.59-1.43-.59-.52 0-1.04.2-1.43.59L10.3 9.45l-7.72 7.72c-.78.78-.78 2.05 0 2.83L4 21.41c.39.39.9.59 1.41.59.51 0 1.02-.2 1.41-.59l7.78-7.78 2.81-2.81c.8-.78.8-2.07 0-2.86zM5.41 20L4 18.59l7.72-7.72 1.47 1.35L5.41 20z\"/>\n",
              "  </svg>\n",
              "      </button>\n",
              "      \n",
              "  <style>\n",
              "    .colab-df-container {\n",
              "      display:flex;\n",
              "      flex-wrap:wrap;\n",
              "      gap: 12px;\n",
              "    }\n",
              "\n",
              "    .colab-df-convert {\n",
              "      background-color: #E8F0FE;\n",
              "      border: none;\n",
              "      border-radius: 50%;\n",
              "      cursor: pointer;\n",
              "      display: none;\n",
              "      fill: #1967D2;\n",
              "      height: 32px;\n",
              "      padding: 0 0 0 0;\n",
              "      width: 32px;\n",
              "    }\n",
              "\n",
              "    .colab-df-convert:hover {\n",
              "      background-color: #E2EBFA;\n",
              "      box-shadow: 0px 1px 2px rgba(60, 64, 67, 0.3), 0px 1px 3px 1px rgba(60, 64, 67, 0.15);\n",
              "      fill: #174EA6;\n",
              "    }\n",
              "\n",
              "    [theme=dark] .colab-df-convert {\n",
              "      background-color: #3B4455;\n",
              "      fill: #D2E3FC;\n",
              "    }\n",
              "\n",
              "    [theme=dark] .colab-df-convert:hover {\n",
              "      background-color: #434B5C;\n",
              "      box-shadow: 0px 1px 3px 1px rgba(0, 0, 0, 0.15);\n",
              "      filter: drop-shadow(0px 1px 2px rgba(0, 0, 0, 0.3));\n",
              "      fill: #FFFFFF;\n",
              "    }\n",
              "  </style>\n",
              "\n",
              "      <script>\n",
              "        const buttonEl =\n",
              "          document.querySelector('#df-6e942b41-b837-4dcb-bd1b-840dfd8fb95b button.colab-df-convert');\n",
              "        buttonEl.style.display =\n",
              "          google.colab.kernel.accessAllowed ? 'block' : 'none';\n",
              "\n",
              "        async function convertToInteractive(key) {\n",
              "          const element = document.querySelector('#df-6e942b41-b837-4dcb-bd1b-840dfd8fb95b');\n",
              "          const dataTable =\n",
              "            await google.colab.kernel.invokeFunction('convertToInteractive',\n",
              "                                                     [key], {});\n",
              "          if (!dataTable) return;\n",
              "\n",
              "          const docLinkHtml = 'Like what you see? Visit the ' +\n",
              "            '<a target=\"_blank\" href=https://colab.research.google.com/notebooks/data_table.ipynb>data table notebook</a>'\n",
              "            + ' to learn more about interactive tables.';\n",
              "          element.innerHTML = '';\n",
              "          dataTable['output_type'] = 'display_data';\n",
              "          await google.colab.output.renderOutput(dataTable, element);\n",
              "          const docLink = document.createElement('div');\n",
              "          docLink.innerHTML = docLinkHtml;\n",
              "          element.appendChild(docLink);\n",
              "        }\n",
              "      </script>\n",
              "    </div>\n",
              "  </div>\n",
              "  "
            ]
          },
          "metadata": {},
          "execution_count": 23
        }
      ]
    },
    {
      "cell_type": "code",
      "source": [
        "x_num1.shape"
      ],
      "metadata": {
        "colab": {
          "base_uri": "https://localhost:8080/"
        },
        "id": "Ic6KjY5F0EUv",
        "outputId": "d0fbf413-caed-4704-ef23-3d66e274d1b7"
      },
      "execution_count": null,
      "outputs": [
        {
          "output_type": "execute_result",
          "data": {
            "text/plain": [
              "(40119, 13)"
            ]
          },
          "metadata": {},
          "execution_count": 24
        }
      ]
    },
    {
      "cell_type": "code",
      "source": [
        "x=pd.concat([x_num1,x_num],axis=1)\n",
        "x.tail(5)"
      ],
      "metadata": {
        "colab": {
          "base_uri": "https://localhost:8080/",
          "height": 270
        },
        "id": "rCspDhS30QB8",
        "outputId": "019a069b-ac4b-4e4f-fbd1-87767d7182f9"
      },
      "execution_count": null,
      "outputs": [
        {
          "output_type": "execute_result",
          "data": {
            "text/plain": [
              "       Status_Checking_Acc  Credit_History  Purposre_Credit_Taken  \\\n",
              "40115                    0               2                      0   \n",
              "40116                    1               4                      9   \n",
              "40117                    1               2                      0   \n",
              "40118                    1               0                      4   \n",
              "40119                    0               4                      0   \n",
              "\n",
              "       Savings_Acc  Years_At_Present_Employment  Marital_Status_Gender  \\\n",
              "40115            4                            3                      1   \n",
              "40116            0                            4                      0   \n",
              "40117            0                            3                      2   \n",
              "40118            0                            2                      1   \n",
              "40119            0                            2                      3   \n",
              "\n",
              "       Other_Debtors_Guarantors  Property  Other_Inst_Plans   Housing  Job  \\\n",
              "40115                         0         3                  2        0    2   \n",
              "40116                         0         0                  2        1    2   \n",
              "40117                         0         3                  2        1    3   \n",
              "40118                         0         2                  2        1    2   \n",
              "40119                         2         1                  0        0    2   \n",
              "\n",
              "       Telephone  Foreign_Worker  Duration_in_Months  Credit_Amount  \\\n",
              "40115          0               0                  24         1285.0   \n",
              "40116          1               0                  24         1935.0   \n",
              "40117          1               0                  60        14027.0   \n",
              "40118          1               0                  36         3804.0   \n",
              "40119          0               1                  20         2235.0   \n",
              "\n",
              "       Inst_Rt_Income  Current_Address_Yrs   Age  Num_CC  Dependents  \n",
              "40115             4.0                  4.0  32.0     1.0         1.0  \n",
              "40116             4.0                  4.0  31.0     2.0         1.0  \n",
              "40117             4.0                  2.0  27.0     1.0         1.0  \n",
              "40118             4.0                  1.0  42.0     1.0         1.0  \n",
              "40119             4.0                  2.0  33.0     2.0         1.0  "
            ],
            "text/html": [
              "\n",
              "  <div id=\"df-6868b5a7-2f39-46eb-ac55-0b4672509af8\">\n",
              "    <div class=\"colab-df-container\">\n",
              "      <div>\n",
              "<style scoped>\n",
              "    .dataframe tbody tr th:only-of-type {\n",
              "        vertical-align: middle;\n",
              "    }\n",
              "\n",
              "    .dataframe tbody tr th {\n",
              "        vertical-align: top;\n",
              "    }\n",
              "\n",
              "    .dataframe thead th {\n",
              "        text-align: right;\n",
              "    }\n",
              "</style>\n",
              "<table border=\"1\" class=\"dataframe\">\n",
              "  <thead>\n",
              "    <tr style=\"text-align: right;\">\n",
              "      <th></th>\n",
              "      <th>Status_Checking_Acc</th>\n",
              "      <th>Credit_History</th>\n",
              "      <th>Purposre_Credit_Taken</th>\n",
              "      <th>Savings_Acc</th>\n",
              "      <th>Years_At_Present_Employment</th>\n",
              "      <th>Marital_Status_Gender</th>\n",
              "      <th>Other_Debtors_Guarantors</th>\n",
              "      <th>Property</th>\n",
              "      <th>Other_Inst_Plans</th>\n",
              "      <th>Housing</th>\n",
              "      <th>Job</th>\n",
              "      <th>Telephone</th>\n",
              "      <th>Foreign_Worker</th>\n",
              "      <th>Duration_in_Months</th>\n",
              "      <th>Credit_Amount</th>\n",
              "      <th>Inst_Rt_Income</th>\n",
              "      <th>Current_Address_Yrs</th>\n",
              "      <th>Age</th>\n",
              "      <th>Num_CC</th>\n",
              "      <th>Dependents</th>\n",
              "    </tr>\n",
              "  </thead>\n",
              "  <tbody>\n",
              "    <tr>\n",
              "      <th>40115</th>\n",
              "      <td>0</td>\n",
              "      <td>2</td>\n",
              "      <td>0</td>\n",
              "      <td>4</td>\n",
              "      <td>3</td>\n",
              "      <td>1</td>\n",
              "      <td>0</td>\n",
              "      <td>3</td>\n",
              "      <td>2</td>\n",
              "      <td>0</td>\n",
              "      <td>2</td>\n",
              "      <td>0</td>\n",
              "      <td>0</td>\n",
              "      <td>24</td>\n",
              "      <td>1285.0</td>\n",
              "      <td>4.0</td>\n",
              "      <td>4.0</td>\n",
              "      <td>32.0</td>\n",
              "      <td>1.0</td>\n",
              "      <td>1.0</td>\n",
              "    </tr>\n",
              "    <tr>\n",
              "      <th>40116</th>\n",
              "      <td>1</td>\n",
              "      <td>4</td>\n",
              "      <td>9</td>\n",
              "      <td>0</td>\n",
              "      <td>4</td>\n",
              "      <td>0</td>\n",
              "      <td>0</td>\n",
              "      <td>0</td>\n",
              "      <td>2</td>\n",
              "      <td>1</td>\n",
              "      <td>2</td>\n",
              "      <td>1</td>\n",
              "      <td>0</td>\n",
              "      <td>24</td>\n",
              "      <td>1935.0</td>\n",
              "      <td>4.0</td>\n",
              "      <td>4.0</td>\n",
              "      <td>31.0</td>\n",
              "      <td>2.0</td>\n",
              "      <td>1.0</td>\n",
              "    </tr>\n",
              "    <tr>\n",
              "      <th>40117</th>\n",
              "      <td>1</td>\n",
              "      <td>2</td>\n",
              "      <td>0</td>\n",
              "      <td>0</td>\n",
              "      <td>3</td>\n",
              "      <td>2</td>\n",
              "      <td>0</td>\n",
              "      <td>3</td>\n",
              "      <td>2</td>\n",
              "      <td>1</td>\n",
              "      <td>3</td>\n",
              "      <td>1</td>\n",
              "      <td>0</td>\n",
              "      <td>60</td>\n",
              "      <td>14027.0</td>\n",
              "      <td>4.0</td>\n",
              "      <td>2.0</td>\n",
              "      <td>27.0</td>\n",
              "      <td>1.0</td>\n",
              "      <td>1.0</td>\n",
              "    </tr>\n",
              "    <tr>\n",
              "      <th>40118</th>\n",
              "      <td>1</td>\n",
              "      <td>0</td>\n",
              "      <td>4</td>\n",
              "      <td>0</td>\n",
              "      <td>2</td>\n",
              "      <td>1</td>\n",
              "      <td>0</td>\n",
              "      <td>2</td>\n",
              "      <td>2</td>\n",
              "      <td>1</td>\n",
              "      <td>2</td>\n",
              "      <td>1</td>\n",
              "      <td>0</td>\n",
              "      <td>36</td>\n",
              "      <td>3804.0</td>\n",
              "      <td>4.0</td>\n",
              "      <td>1.0</td>\n",
              "      <td>42.0</td>\n",
              "      <td>1.0</td>\n",
              "      <td>1.0</td>\n",
              "    </tr>\n",
              "    <tr>\n",
              "      <th>40119</th>\n",
              "      <td>0</td>\n",
              "      <td>4</td>\n",
              "      <td>0</td>\n",
              "      <td>0</td>\n",
              "      <td>2</td>\n",
              "      <td>3</td>\n",
              "      <td>2</td>\n",
              "      <td>1</td>\n",
              "      <td>0</td>\n",
              "      <td>0</td>\n",
              "      <td>2</td>\n",
              "      <td>0</td>\n",
              "      <td>1</td>\n",
              "      <td>20</td>\n",
              "      <td>2235.0</td>\n",
              "      <td>4.0</td>\n",
              "      <td>2.0</td>\n",
              "      <td>33.0</td>\n",
              "      <td>2.0</td>\n",
              "      <td>1.0</td>\n",
              "    </tr>\n",
              "  </tbody>\n",
              "</table>\n",
              "</div>\n",
              "      <button class=\"colab-df-convert\" onclick=\"convertToInteractive('df-6868b5a7-2f39-46eb-ac55-0b4672509af8')\"\n",
              "              title=\"Convert this dataframe to an interactive table.\"\n",
              "              style=\"display:none;\">\n",
              "        \n",
              "  <svg xmlns=\"http://www.w3.org/2000/svg\" height=\"24px\"viewBox=\"0 0 24 24\"\n",
              "       width=\"24px\">\n",
              "    <path d=\"M0 0h24v24H0V0z\" fill=\"none\"/>\n",
              "    <path d=\"M18.56 5.44l.94 2.06.94-2.06 2.06-.94-2.06-.94-.94-2.06-.94 2.06-2.06.94zm-11 1L8.5 8.5l.94-2.06 2.06-.94-2.06-.94L8.5 2.5l-.94 2.06-2.06.94zm10 10l.94 2.06.94-2.06 2.06-.94-2.06-.94-.94-2.06-.94 2.06-2.06.94z\"/><path d=\"M17.41 7.96l-1.37-1.37c-.4-.4-.92-.59-1.43-.59-.52 0-1.04.2-1.43.59L10.3 9.45l-7.72 7.72c-.78.78-.78 2.05 0 2.83L4 21.41c.39.39.9.59 1.41.59.51 0 1.02-.2 1.41-.59l7.78-7.78 2.81-2.81c.8-.78.8-2.07 0-2.86zM5.41 20L4 18.59l7.72-7.72 1.47 1.35L5.41 20z\"/>\n",
              "  </svg>\n",
              "      </button>\n",
              "      \n",
              "  <style>\n",
              "    .colab-df-container {\n",
              "      display:flex;\n",
              "      flex-wrap:wrap;\n",
              "      gap: 12px;\n",
              "    }\n",
              "\n",
              "    .colab-df-convert {\n",
              "      background-color: #E8F0FE;\n",
              "      border: none;\n",
              "      border-radius: 50%;\n",
              "      cursor: pointer;\n",
              "      display: none;\n",
              "      fill: #1967D2;\n",
              "      height: 32px;\n",
              "      padding: 0 0 0 0;\n",
              "      width: 32px;\n",
              "    }\n",
              "\n",
              "    .colab-df-convert:hover {\n",
              "      background-color: #E2EBFA;\n",
              "      box-shadow: 0px 1px 2px rgba(60, 64, 67, 0.3), 0px 1px 3px 1px rgba(60, 64, 67, 0.15);\n",
              "      fill: #174EA6;\n",
              "    }\n",
              "\n",
              "    [theme=dark] .colab-df-convert {\n",
              "      background-color: #3B4455;\n",
              "      fill: #D2E3FC;\n",
              "    }\n",
              "\n",
              "    [theme=dark] .colab-df-convert:hover {\n",
              "      background-color: #434B5C;\n",
              "      box-shadow: 0px 1px 3px 1px rgba(0, 0, 0, 0.15);\n",
              "      filter: drop-shadow(0px 1px 2px rgba(0, 0, 0, 0.3));\n",
              "      fill: #FFFFFF;\n",
              "    }\n",
              "  </style>\n",
              "\n",
              "      <script>\n",
              "        const buttonEl =\n",
              "          document.querySelector('#df-6868b5a7-2f39-46eb-ac55-0b4672509af8 button.colab-df-convert');\n",
              "        buttonEl.style.display =\n",
              "          google.colab.kernel.accessAllowed ? 'block' : 'none';\n",
              "\n",
              "        async function convertToInteractive(key) {\n",
              "          const element = document.querySelector('#df-6868b5a7-2f39-46eb-ac55-0b4672509af8');\n",
              "          const dataTable =\n",
              "            await google.colab.kernel.invokeFunction('convertToInteractive',\n",
              "                                                     [key], {});\n",
              "          if (!dataTable) return;\n",
              "\n",
              "          const docLinkHtml = 'Like what you see? Visit the ' +\n",
              "            '<a target=\"_blank\" href=https://colab.research.google.com/notebooks/data_table.ipynb>data table notebook</a>'\n",
              "            + ' to learn more about interactive tables.';\n",
              "          element.innerHTML = '';\n",
              "          dataTable['output_type'] = 'display_data';\n",
              "          await google.colab.output.renderOutput(dataTable, element);\n",
              "          const docLink = document.createElement('div');\n",
              "          docLink.innerHTML = docLinkHtml;\n",
              "          element.appendChild(docLink);\n",
              "        }\n",
              "      </script>\n",
              "    </div>\n",
              "  </div>\n",
              "  "
            ]
          },
          "metadata": {},
          "execution_count": 25
        }
      ]
    },
    {
      "cell_type": "code",
      "source": [
        "# Checking target label \"Default_On_Payment\"not present in Features.\n",
        "if 'Default_On_Payment' in x.columns:\n",
        "  print('Default_On_Payment present')\n",
        "else:\n",
        "  print('Not present')"
      ],
      "metadata": {
        "colab": {
          "base_uri": "https://localhost:8080/"
        },
        "id": "WDvFDr4v0Vii",
        "outputId": "a52e25da-e6f6-422d-9c48-3e69b7e07c2b"
      },
      "execution_count": null,
      "outputs": [
        {
          "output_type": "stream",
          "name": "stdout",
          "text": [
            "Not present\n"
          ]
        }
      ]
    },
    {
      "cell_type": "code",
      "source": [
        "x.shape"
      ],
      "metadata": {
        "colab": {
          "base_uri": "https://localhost:8080/"
        },
        "id": "sv1JTAZU1v7f",
        "outputId": "1de79fba-2a00-4bed-a059-1f71cc315731"
      },
      "execution_count": null,
      "outputs": [
        {
          "output_type": "execute_result",
          "data": {
            "text/plain": [
              "(40119, 20)"
            ]
          },
          "metadata": {},
          "execution_count": 27
        }
      ]
    },
    {
      "cell_type": "code",
      "source": [
        "#Preparing target label\n",
        "y=df['Default_On_Payment']\n",
        "y.shape"
      ],
      "metadata": {
        "colab": {
          "base_uri": "https://localhost:8080/"
        },
        "id": "oDGwzexC2Hwt",
        "outputId": "e33e1113-e80d-40a1-df65-efda97bd1117"
      },
      "execution_count": null,
      "outputs": [
        {
          "output_type": "execute_result",
          "data": {
            "text/plain": [
              "(40119,)"
            ]
          },
          "metadata": {},
          "execution_count": 28
        }
      ]
    },
    {
      "cell_type": "markdown",
      "source": [
        "## Train Model"
      ],
      "metadata": {
        "id": "WrLrClJY2P_v"
      }
    },
    {
      "cell_type": "code",
      "source": [
        "#Create training and test data\n",
        "train_x,test_x,train_y,test_y= train_test_split(x,y,test_size=0.2,random_state=999)"
      ],
      "metadata": {
        "id": "n4QOdvlO2Iv8"
      },
      "execution_count": null,
      "outputs": []
    },
    {
      "cell_type": "code",
      "source": [
        "train_x.shape"
      ],
      "metadata": {
        "colab": {
          "base_uri": "https://localhost:8080/"
        },
        "id": "2l4Kwx6f2vFb",
        "outputId": "f5f25d40-584e-40e1-fed8-38e31d4b6160"
      },
      "execution_count": null,
      "outputs": [
        {
          "output_type": "execute_result",
          "data": {
            "text/plain": [
              "(32095, 20)"
            ]
          },
          "metadata": {},
          "execution_count": 30
        }
      ]
    },
    {
      "cell_type": "code",
      "source": [
        "train_y.shape"
      ],
      "metadata": {
        "colab": {
          "base_uri": "https://localhost:8080/"
        },
        "id": "_daq0jZN22zO",
        "outputId": "9dc9a194-ecd5-4464-dc05-4084118abc5c"
      },
      "execution_count": null,
      "outputs": [
        {
          "output_type": "execute_result",
          "data": {
            "text/plain": [
              "(32095,)"
            ]
          },
          "metadata": {},
          "execution_count": 31
        }
      ]
    },
    {
      "cell_type": "code",
      "source": [
        "test_x.shape"
      ],
      "metadata": {
        "colab": {
          "base_uri": "https://localhost:8080/"
        },
        "id": "LNNbCnK625FT",
        "outputId": "1d7a3ac1-c9f3-473e-9011-534807dc3f1b"
      },
      "execution_count": null,
      "outputs": [
        {
          "output_type": "execute_result",
          "data": {
            "text/plain": [
              "(8024, 20)"
            ]
          },
          "metadata": {},
          "execution_count": 32
        }
      ]
    },
    {
      "cell_type": "code",
      "source": [
        "test_y.shape"
      ],
      "metadata": {
        "colab": {
          "base_uri": "https://localhost:8080/"
        },
        "id": "JHH-Z9hV264g",
        "outputId": "71aac55e-f596-46e9-dd97-01046d6cb05d"
      },
      "execution_count": null,
      "outputs": [
        {
          "output_type": "execute_result",
          "data": {
            "text/plain": [
              "(8024,)"
            ]
          },
          "metadata": {},
          "execution_count": 33
        }
      ]
    },
    {
      "cell_type": "code",
      "source": [
        "myTree = tree.DecisionTreeClassifier(random_state=99, class_weight='balanced')\n",
        "myTree"
      ],
      "metadata": {
        "colab": {
          "base_uri": "https://localhost:8080/"
        },
        "id": "hWMRrC7i27r5",
        "outputId": "6c78e8b4-cb51-46b4-f2eb-5e87043c1ca0"
      },
      "execution_count": null,
      "outputs": [
        {
          "output_type": "execute_result",
          "data": {
            "text/plain": [
              "DecisionTreeClassifier(class_weight='balanced', random_state=99)"
            ]
          },
          "metadata": {},
          "execution_count": 34
        }
      ]
    },
    {
      "cell_type": "code",
      "source": [
        "my_max_depth = [2,3,4]\n",
        "my_criterion = ['gini','entropy']\n",
        "my_min_sample_leaf = [2,5,10,15]\n",
        "my_min_sample_split = [2,5,10,15]"
      ],
      "metadata": {
        "id": "FmNY-7wu3xmi"
      },
      "execution_count": null,
      "outputs": []
    },
    {
      "cell_type": "code",
      "source": [
        "grid = GridSearchCV(estimator=myTree, cv=5, scoring='recall', \n",
        "                    param_grid= dict(max_depth = my_max_depth, criterion= my_criterion ,\n",
        "                                     min_samples_leaf = my_min_sample_leaf, min_samples_split = my_min_sample_split))"
      ],
      "metadata": {
        "id": "FL0_6Vo_30_r"
      },
      "execution_count": null,
      "outputs": []
    },
    {
      "cell_type": "code",
      "source": [
        "grid.fit(train_x, train_y)"
      ],
      "metadata": {
        "colab": {
          "base_uri": "https://localhost:8080/"
        },
        "id": "yENxt4uT3-cN",
        "outputId": "cb8fec07-6999-4831-ab3f-1fde0be62a5c"
      },
      "execution_count": null,
      "outputs": [
        {
          "output_type": "execute_result",
          "data": {
            "text/plain": [
              "GridSearchCV(cv=5,\n",
              "             estimator=DecisionTreeClassifier(class_weight='balanced',\n",
              "                                              random_state=99),\n",
              "             param_grid={'criterion': ['gini', 'entropy'],\n",
              "                         'max_depth': [2, 3, 4],\n",
              "                         'min_samples_leaf': [2, 5, 10, 15],\n",
              "                         'min_samples_split': [2, 5, 10, 15]},\n",
              "             scoring='recall')"
            ]
          },
          "metadata": {},
          "execution_count": 47
        }
      ]
    },
    {
      "cell_type": "code",
      "source": [
        "grid.best_params_"
      ],
      "metadata": {
        "colab": {
          "base_uri": "https://localhost:8080/"
        },
        "id": "wmUmX7vx4BDI",
        "outputId": "d04e01ff-2c22-46e5-dbbf-553008eccefa"
      },
      "execution_count": null,
      "outputs": [
        {
          "output_type": "execute_result",
          "data": {
            "text/plain": [
              "{'criterion': 'gini',\n",
              " 'max_depth': 4,\n",
              " 'min_samples_leaf': 2,\n",
              " 'min_samples_split': 2}"
            ]
          },
          "metadata": {},
          "execution_count": 48
        }
      ]
    },
    {
      "cell_type": "markdown",
      "source": [
        "## Test Model Performance"
      ],
      "metadata": {
        "id": "dgQVK56E47Y0"
      }
    },
    {
      "cell_type": "code",
      "source": [
        "predicted = grid.predict(test_x)"
      ],
      "metadata": {
        "id": "vk6rZHDd4x4f"
      },
      "execution_count": null,
      "outputs": []
    },
    {
      "cell_type": "code",
      "source": [
        "#Evaluate model perfomance\n",
        "from sklearn import metrics\n",
        "print(metrics.classification_report(test_y, predicted))"
      ],
      "metadata": {
        "colab": {
          "base_uri": "https://localhost:8080/"
        },
        "id": "kbZHDdcV5CVY",
        "outputId": "3eb881a6-980d-4c69-cb31-4a29ffa07280"
      },
      "execution_count": null,
      "outputs": [
        {
          "output_type": "stream",
          "name": "stdout",
          "text": [
            "              precision    recall  f1-score   support\n",
            "\n",
            "         0.0       0.91      0.65      0.76      5617\n",
            "         1.0       0.51      0.85      0.63      2407\n",
            "\n",
            "    accuracy                           0.71      8024\n",
            "   macro avg       0.71      0.75      0.69      8024\n",
            "weighted avg       0.79      0.71      0.72      8024\n",
            "\n"
          ]
        }
      ]
    },
    {
      "cell_type": "markdown",
      "source": [
        "## <font color=\"blue\">1.\tWork with the German Credit cards data to build a decision tree with the hyperparameter optimization and report your precision and recall for the defaulters.</font> [5 Marks]"
      ],
      "metadata": {
        "id": "S71WgVDJ74IM"
      }
    },
    {
      "cell_type": "markdown",
      "source": [
        "#### <font color=\"green\">So, Precission and Recall for Non-defaulter (0) is 91% and 65% respectively.</font>"
      ],
      "metadata": {
        "id": "P0_4pqtF8Bqc"
      }
    },
    {
      "cell_type": "markdown",
      "source": [
        "#### <font color=\"green\">and Precission and Recall for Loan Defaulter (1) is 51% and 85% respectively.</font>"
      ],
      "metadata": {
        "id": "N7WR-oW18yEr"
      }
    },
    {
      "cell_type": "markdown",
      "source": [
        "## <font color=\"blue\">2.\tIf you do not have the recall of 80% for the defaulters, please optimize the threshold to get to that level. What threshold you chose and why?</font> [5 Marks]"
      ],
      "metadata": {
        "id": "qX3ZCK98-Vaq"
      }
    },
    {
      "cell_type": "markdown",
      "source": [
        "Loan Defaulter Recall is already 85%. It is way high than 80% and good accuracy using current Hyper parameters. But, Non-defaulter Recall and Precission results are not good. Hence, further optimization is necessary."
      ],
      "metadata": {
        "id": "fXQmxuY9-nLs"
      }
    },
    {
      "cell_type": "code",
      "source": [
        "my_max_depth = [2,3,4,5,10,15]\n",
        "my_criterion = ['gini','entropy']\n",
        "my_min_sample_leaf = [2]\n",
        "my_min_sample_split = [2]"
      ],
      "metadata": {
        "id": "JogaaLpqt4x9"
      },
      "execution_count": null,
      "outputs": []
    },
    {
      "cell_type": "code",
      "source": [
        "grid = GridSearchCV(estimator=myTree, cv=5, scoring='recall', \n",
        "                    param_grid= dict(max_depth = my_max_depth, criterion= my_criterion ,\n",
        "                                     min_samples_leaf = my_min_sample_leaf, min_samples_split = my_min_sample_split))"
      ],
      "metadata": {
        "id": "1YVQ6n9uuBAI"
      },
      "execution_count": null,
      "outputs": []
    },
    {
      "cell_type": "code",
      "source": [
        "grid.fit(train_x, train_y)"
      ],
      "metadata": {
        "colab": {
          "base_uri": "https://localhost:8080/"
        },
        "id": "aMityjD9uCrL",
        "outputId": "126bbd3e-bd3e-4df4-9602-350eb7213dae"
      },
      "execution_count": null,
      "outputs": [
        {
          "output_type": "execute_result",
          "data": {
            "text/plain": [
              "GridSearchCV(cv=5,\n",
              "             estimator=DecisionTreeClassifier(class_weight='balanced',\n",
              "                                              random_state=99),\n",
              "             param_grid={'criterion': ['gini', 'entropy'],\n",
              "                         'max_depth': [2, 3, 4, 5, 10, 15],\n",
              "                         'min_samples_leaf': [2], 'min_samples_split': [2]},\n",
              "             scoring='recall')"
            ]
          },
          "metadata": {},
          "execution_count": 71
        }
      ]
    },
    {
      "cell_type": "code",
      "source": [
        "grid.best_params_"
      ],
      "metadata": {
        "colab": {
          "base_uri": "https://localhost:8080/"
        },
        "id": "2UJ0ets-uHbj",
        "outputId": "deb10e53-f83e-4275-ae5a-28146fa88f8a"
      },
      "execution_count": null,
      "outputs": [
        {
          "output_type": "execute_result",
          "data": {
            "text/plain": [
              "{'criterion': 'gini',\n",
              " 'max_depth': 15,\n",
              " 'min_samples_leaf': 2,\n",
              " 'min_samples_split': 2}"
            ]
          },
          "metadata": {},
          "execution_count": 72
        }
      ]
    },
    {
      "cell_type": "code",
      "source": [
        "predicted = grid.predict(test_x)"
      ],
      "metadata": {
        "id": "JRSXaR4NvaWU"
      },
      "execution_count": null,
      "outputs": []
    },
    {
      "cell_type": "code",
      "source": [
        "#Evaluate model perfomance\n",
        "from sklearn import metrics\n",
        "print(metrics.classification_report(test_y, predicted))"
      ],
      "metadata": {
        "colab": {
          "base_uri": "https://localhost:8080/"
        },
        "id": "rTg2lgzXvZ3E",
        "outputId": "a79a1d05-e0a3-4c45-eaf1-9f89f6432a14"
      },
      "execution_count": null,
      "outputs": [
        {
          "output_type": "stream",
          "name": "stdout",
          "text": [
            "              precision    recall  f1-score   support\n",
            "\n",
            "         0.0       1.00      0.99      0.99      5617\n",
            "         1.0       0.98      1.00      0.99      2407\n",
            "\n",
            "    accuracy                           0.99      8024\n",
            "   macro avg       0.99      0.99      0.99      8024\n",
            "weighted avg       0.99      0.99      0.99      8024\n",
            "\n"
          ]
        }
      ]
    },
    {
      "cell_type": "markdown",
      "source": [
        "### <font color=\"green\">So, model performance increased significantly by increasing Decission Tree depth. From, the earlier test it was evident, by increasing</font> <font color=\"orange\">min_samples_leaf</font> <font color=\"green\">and</font> <font color=\"orange\">min_samples_split</font> <font color=\"green\"> model performance is not going to improove, as in the previous case it was given 2 as best figure. criterion is already given as <font color=\"orange\">gini</font> and there is no point in using <font color=\"orange\">log_loss</font>, as this is the loss function used in (multinomial) logistic regression and extensions of it such as neural networks, defined as the negative log-likelihood of a logistic model. Hence, it is <font color=\"orange\">depth</font> by incresing which we can assess model performance. We got very good result with depth level of <font color=\"orange\">15</font>. Defaulter, Recall is <font color=\"orange\">1</font>."
      ],
      "metadata": {
        "id": "NMVGtrivx87m"
      }
    },
    {
      "cell_type": "markdown",
      "source": [
        "## <font color=\"blue\">3.\tWhat are the most important features to predict the default?</font> [5 Marks]"
      ],
      "metadata": {
        "id": "cHe1F7go-9eU"
      }
    },
    {
      "cell_type": "code",
      "source": [
        "np.round(grid.best_estimator_.feature_importances_,2)"
      ],
      "metadata": {
        "colab": {
          "base_uri": "https://localhost:8080/"
        },
        "id": "eg2naGdz5Gyj",
        "outputId": "90ec3766-fa77-48ac-aba8-55a6c07fa9be"
      },
      "execution_count": null,
      "outputs": [
        {
          "output_type": "execute_result",
          "data": {
            "text/plain": [
              "array([0.18, 0.04, 0.05, 0.04, 0.06, 0.02, 0.03, 0.07, 0.02, 0.  , 0.03,\n",
              "       0.01, 0.  , 0.08, 0.11, 0.03, 0.04, 0.12, 0.03, 0.01])"
            ]
          },
          "metadata": {},
          "execution_count": 75
        }
      ]
    },
    {
      "cell_type": "code",
      "source": [
        "grid.best_estimator_.feature_importances_.sum()"
      ],
      "metadata": {
        "colab": {
          "base_uri": "https://localhost:8080/"
        },
        "id": "Jffx7qjk5Pif",
        "outputId": "f0f45f75-0306-40a4-8d77-3a32f32c66a3"
      },
      "execution_count": null,
      "outputs": [
        {
          "output_type": "execute_result",
          "data": {
            "text/plain": [
              "0.9999999999999999"
            ]
          },
          "metadata": {},
          "execution_count": 76
        }
      ]
    },
    {
      "cell_type": "code",
      "source": [
        "train_x.columns"
      ],
      "metadata": {
        "colab": {
          "base_uri": "https://localhost:8080/"
        },
        "id": "2duPSTg95Zt7",
        "outputId": "4f226070-3b68-4082-d1b1-7de131dfe863"
      },
      "execution_count": null,
      "outputs": [
        {
          "output_type": "execute_result",
          "data": {
            "text/plain": [
              "Index(['Status_Checking_Acc', 'Credit_History', 'Purposre_Credit_Taken',\n",
              "       'Savings_Acc', 'Years_At_Present_Employment', 'Marital_Status_Gender',\n",
              "       'Other_Debtors_Guarantors', 'Property', 'Other_Inst_Plans ', 'Housing',\n",
              "       'Job', 'Telephone', 'Foreign_Worker', 'Duration_in_Months',\n",
              "       'Credit_Amount', 'Inst_Rt_Income', 'Current_Address_Yrs', 'Age',\n",
              "       'Num_CC', 'Dependents'],\n",
              "      dtype='object')"
            ]
          },
          "metadata": {},
          "execution_count": 77
        }
      ]
    },
    {
      "cell_type": "markdown",
      "source": [
        "## <font color=\"green\">The most important feature is \n",
        "\n",
        "1.   Status_Checking_Acc - 18%\n",
        "2.   Age - 12%\n",
        "3.   Credit_Amount -11%\n",
        "</font>\n",
        "\n",
        "\n",
        "\n"
      ],
      "metadata": {
        "id": "vRd-4gwBHSp4"
      }
    },
    {
      "cell_type": "markdown",
      "source": [
        "## <font color=\"blue\">4.\tSubmit the final DT with the optimized parameters and submit that along with your findings and HTML code. What are your conclusions? </font>[5 Marks]"
      ],
      "metadata": {
        "id": "zBBzEqJhazhI"
      }
    },
    {
      "cell_type": "code",
      "source": [
        "conf_mtrx = metrics.confusion_matrix(test_y,predicted)\n",
        "sns.heatmap(conf_mtrx, cmap='Blues', xticklabels=['prediction no','prediction yes'], yticklabels=['Actual No','Actual Yes'],annot=True, fmt='d')\n",
        "plt.show()"
      ],
      "metadata": {
        "colab": {
          "base_uri": "https://localhost:8080/",
          "height": 265
        },
        "id": "pZbHMWDF5b4T",
        "outputId": "31d5708b-07e6-483e-d6ab-0df547fac3e1"
      },
      "execution_count": null,
      "outputs": [
        {
          "output_type": "display_data",
          "data": {
            "text/plain": [
              "<Figure size 432x288 with 2 Axes>"
            ],
            "image/png": "[encoded data removed]"
          },
          "metadata": {
            "needs_background": "light"
          }
        }
      ]
    },
    {
      "cell_type": "markdown",
      "source": [
        "## <font color=\"green\">Non-Defaulter,       Precission - 1.00,      Recall -0.99,      f1-score - 0.99,      out of 5617 Non-Defaulters. <br> Defaulter,       Precission - 0.98,      Recall - 1,      f1-score - 0.99,      out of 2407 Defaulters.<br> Recall, sometimes referred to as 'sensitivity', is the fraction of retrieved instances among all relevant instances. A perfect classifier has precision and recall both equal to 1. <br> Above result shows our model is near to perfect. <br> The f1-score (or Harmonic mean of Precession and Recall) 0.99 refers , our model is pretty accurate.</font>"
      ],
      "metadata": {
        "id": "eq9m3Lo6C5rl"
      }
    },
    {
      "cell_type": "markdown",
      "source": [
        "## <font color=\"green\">Final Optimized parameters are  - <br>criterion : gini, </font>\n",
        "## <font color=\"green\">max_depth : 15, </font>\n",
        "## <font color=\"green\">min_samples_leaf : 2, </font>\n",
        "## <font color=\"green\">min_samples_split : 2 </font>"
      ],
      "metadata": {
        "id": "IFerpnhbKdJ7"
      }
    },
    {
      "cell_type": "code",
      "source": [
        ""
      ],
      "metadata": {
        "id": "owb8LcPVK8ub"
      },
      "execution_count": null,
      "outputs": []
    }
  ]
}