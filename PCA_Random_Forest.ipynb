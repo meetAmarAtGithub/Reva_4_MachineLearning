{
  "nbformat": 4,
  "nbformat_minor": 0,
  "metadata": {
    "colab": {
      "name": "PCA_Random_Forest.ipynb",
      "provenance": [],
      "collapsed_sections": [],
      "authorship_tag": "ABX9TyOCeB2kHv0ejZHpf0hLBkLY",
      "include_colab_link": true
    },
    "kernelspec": {
      "name": "python3",
      "display_name": "Python 3"
    },
    "language_info": {
      "name": "python"
    }
  },
  "cells": [
    {
      "cell_type": "markdown",
      "metadata": {
        "id": "view-in-github",
        "colab_type": "text"
      },
      "source": [
        "<a href=\"https://colab.research.google.com/github/meetAmarAtGithub/Reva_MachineLearning/blob/main/PCA_Random_Forest.ipynb\" target=\"_parent\"><img src=\"https://colab.research.google.com/assets/colab-badge.svg\" alt=\"Open In Colab\"/></a>"
      ]
    },
    {
      "cell_type": "code",
      "execution_count": null,
      "metadata": {
        "id": "_-Dg67OvNg2I"
      },
      "outputs": [],
      "source": [
        "# Import the dataset\n",
        "import pandas as pd\n",
        "import numpy as np\n",
        "\n",
        "wine = pd.read_csv('https://archive.ics.uci.edu/ml/machine-learning-databases/wine/wine.data',header=None)\n",
        "\n",
        "wine.columns = ['Class_label', 'Alcohol', 'Malic_acid', 'Ash', 'Alcalinity_of_ash', 'Magnesium', 'Total_phenols','Flavanoids', 'Nonflavanoid_phenols', 'Proanthocyanins', 'Color_intensity', 'Hue','OD280/OD315_of_diluted_wines', 'Proline']"
      ]
    },
    {
      "cell_type": "code",
      "source": [
        "wine.head(5)"
      ],
      "metadata": {
        "colab": {
          "base_uri": "https://localhost:8080/",
          "height": 270
        },
        "id": "WaP2llxARU8I",
        "outputId": "bf89e189-dc44-40c1-e067-7c459c68256d"
      },
      "execution_count": null,
      "outputs": [
        {
          "output_type": "execute_result",
          "data": {
            "text/plain": [
              "   Class_label  Alcohol  Malic_acid   Ash  Alcalinity_of_ash  Magnesium  \\\n",
              "0            1    14.23        1.71  2.43               15.6        127   \n",
              "1            1    13.20        1.78  2.14               11.2        100   \n",
              "2            1    13.16        2.36  2.67               18.6        101   \n",
              "3            1    14.37        1.95  2.50               16.8        113   \n",
              "4            1    13.24        2.59  2.87               21.0        118   \n",
              "\n",
              "   Total_phenols  Flavanoids  Nonflavanoid_phenols  Proanthocyanins  \\\n",
              "0           2.80        3.06                  0.28             2.29   \n",
              "1           2.65        2.76                  0.26             1.28   \n",
              "2           2.80        3.24                  0.30             2.81   \n",
              "3           3.85        3.49                  0.24             2.18   \n",
              "4           2.80        2.69                  0.39             1.82   \n",
              "\n",
              "   Color_intensity   Hue  OD280/OD315_of_diluted_wines  Proline  \n",
              "0             5.64  1.04                          3.92     1065  \n",
              "1             4.38  1.05                          3.40     1050  \n",
              "2             5.68  1.03                          3.17     1185  \n",
              "3             7.80  0.86                          3.45     1480  \n",
              "4             4.32  1.04                          2.93      735  "
            ],
            "text/html": [
              "\n",
              "  <div id=\"df-60d74390-f62f-49d6-a361-3dae3149dc04\">\n",
              "    <div class=\"colab-df-container\">\n",
              "      <div>\n",
              "<style scoped>\n",
              "    .dataframe tbody tr th:only-of-type {\n",
              "        vertical-align: middle;\n",
              "    }\n",
              "\n",
              "    .dataframe tbody tr th {\n",
              "        vertical-align: top;\n",
              "    }\n",
              "\n",
              "    .dataframe thead th {\n",
              "        text-align: right;\n",
              "    }\n",
              "</style>\n",
              "<table border=\"1\" class=\"dataframe\">\n",
              "  <thead>\n",
              "    <tr style=\"text-align: right;\">\n",
              "      <th></th>\n",
              "      <th>Class_label</th>\n",
              "      <th>Alcohol</th>\n",
              "      <th>Malic_acid</th>\n",
              "      <th>Ash</th>\n",
              "      <th>Alcalinity_of_ash</th>\n",
              "      <th>Magnesium</th>\n",
              "      <th>Total_phenols</th>\n",
              "      <th>Flavanoids</th>\n",
              "      <th>Nonflavanoid_phenols</th>\n",
              "      <th>Proanthocyanins</th>\n",
              "      <th>Color_intensity</th>\n",
              "      <th>Hue</th>\n",
              "      <th>OD280/OD315_of_diluted_wines</th>\n",
              "      <th>Proline</th>\n",
              "    </tr>\n",
              "  </thead>\n",
              "  <tbody>\n",
              "    <tr>\n",
              "      <th>0</th>\n",
              "      <td>1</td>\n",
              "      <td>14.23</td>\n",
              "      <td>1.71</td>\n",
              "      <td>2.43</td>\n",
              "      <td>15.6</td>\n",
              "      <td>127</td>\n",
              "      <td>2.80</td>\n",
              "      <td>3.06</td>\n",
              "      <td>0.28</td>\n",
              "      <td>2.29</td>\n",
              "      <td>5.64</td>\n",
              "      <td>1.04</td>\n",
              "      <td>3.92</td>\n",
              "      <td>1065</td>\n",
              "    </tr>\n",
              "    <tr>\n",
              "      <th>1</th>\n",
              "      <td>1</td>\n",
              "      <td>13.20</td>\n",
              "      <td>1.78</td>\n",
              "      <td>2.14</td>\n",
              "      <td>11.2</td>\n",
              "      <td>100</td>\n",
              "      <td>2.65</td>\n",
              "      <td>2.76</td>\n",
              "      <td>0.26</td>\n",
              "      <td>1.28</td>\n",
              "      <td>4.38</td>\n",
              "      <td>1.05</td>\n",
              "      <td>3.40</td>\n",
              "      <td>1050</td>\n",
              "    </tr>\n",
              "    <tr>\n",
              "      <th>2</th>\n",
              "      <td>1</td>\n",
              "      <td>13.16</td>\n",
              "      <td>2.36</td>\n",
              "      <td>2.67</td>\n",
              "      <td>18.6</td>\n",
              "      <td>101</td>\n",
              "      <td>2.80</td>\n",
              "      <td>3.24</td>\n",
              "      <td>0.30</td>\n",
              "      <td>2.81</td>\n",
              "      <td>5.68</td>\n",
              "      <td>1.03</td>\n",
              "      <td>3.17</td>\n",
              "      <td>1185</td>\n",
              "    </tr>\n",
              "    <tr>\n",
              "      <th>3</th>\n",
              "      <td>1</td>\n",
              "      <td>14.37</td>\n",
              "      <td>1.95</td>\n",
              "      <td>2.50</td>\n",
              "      <td>16.8</td>\n",
              "      <td>113</td>\n",
              "      <td>3.85</td>\n",
              "      <td>3.49</td>\n",
              "      <td>0.24</td>\n",
              "      <td>2.18</td>\n",
              "      <td>7.80</td>\n",
              "      <td>0.86</td>\n",
              "      <td>3.45</td>\n",
              "      <td>1480</td>\n",
              "    </tr>\n",
              "    <tr>\n",
              "      <th>4</th>\n",
              "      <td>1</td>\n",
              "      <td>13.24</td>\n",
              "      <td>2.59</td>\n",
              "      <td>2.87</td>\n",
              "      <td>21.0</td>\n",
              "      <td>118</td>\n",
              "      <td>2.80</td>\n",
              "      <td>2.69</td>\n",
              "      <td>0.39</td>\n",
              "      <td>1.82</td>\n",
              "      <td>4.32</td>\n",
              "      <td>1.04</td>\n",
              "      <td>2.93</td>\n",
              "      <td>735</td>\n",
              "    </tr>\n",
              "  </tbody>\n",
              "</table>\n",
              "</div>\n",
              "      <button class=\"colab-df-convert\" onclick=\"convertToInteractive('df-60d74390-f62f-49d6-a361-3dae3149dc04')\"\n",
              "              title=\"Convert this dataframe to an interactive table.\"\n",
              "              style=\"display:none;\">\n",
              "        \n",
              "  <svg xmlns=\"http://www.w3.org/2000/svg\" height=\"24px\"viewBox=\"0 0 24 24\"\n",
              "       width=\"24px\">\n",
              "    <path d=\"M0 0h24v24H0V0z\" fill=\"none\"/>\n",
              "    <path d=\"M18.56 5.44l.94 2.06.94-2.06 2.06-.94-2.06-.94-.94-2.06-.94 2.06-2.06.94zm-11 1L8.5 8.5l.94-2.06 2.06-.94-2.06-.94L8.5 2.5l-.94 2.06-2.06.94zm10 10l.94 2.06.94-2.06 2.06-.94-2.06-.94-.94-2.06-.94 2.06-2.06.94z\"/><path d=\"M17.41 7.96l-1.37-1.37c-.4-.4-.92-.59-1.43-.59-.52 0-1.04.2-1.43.59L10.3 9.45l-7.72 7.72c-.78.78-.78 2.05 0 2.83L4 21.41c.39.39.9.59 1.41.59.51 0 1.02-.2 1.41-.59l7.78-7.78 2.81-2.81c.8-.78.8-2.07 0-2.86zM5.41 20L4 18.59l7.72-7.72 1.47 1.35L5.41 20z\"/>\n",
              "  </svg>\n",
              "      </button>\n",
              "      \n",
              "  <style>\n",
              "    .colab-df-container {\n",
              "      display:flex;\n",
              "      flex-wrap:wrap;\n",
              "      gap: 12px;\n",
              "    }\n",
              "\n",
              "    .colab-df-convert {\n",
              "      background-color: #E8F0FE;\n",
              "      border: none;\n",
              "      border-radius: 50%;\n",
              "      cursor: pointer;\n",
              "      display: none;\n",
              "      fill: #1967D2;\n",
              "      height: 32px;\n",
              "      padding: 0 0 0 0;\n",
              "      width: 32px;\n",
              "    }\n",
              "\n",
              "    .colab-df-convert:hover {\n",
              "      background-color: #E2EBFA;\n",
              "      box-shadow: 0px 1px 2px rgba(60, 64, 67, 0.3), 0px 1px 3px 1px rgba(60, 64, 67, 0.15);\n",
              "      fill: #174EA6;\n",
              "    }\n",
              "\n",
              "    [theme=dark] .colab-df-convert {\n",
              "      background-color: #3B4455;\n",
              "      fill: #D2E3FC;\n",
              "    }\n",
              "\n",
              "    [theme=dark] .colab-df-convert:hover {\n",
              "      background-color: #434B5C;\n",
              "      box-shadow: 0px 1px 3px 1px rgba(0, 0, 0, 0.15);\n",
              "      filter: drop-shadow(0px 1px 2px rgba(0, 0, 0, 0.3));\n",
              "      fill: #FFFFFF;\n",
              "    }\n",
              "  </style>\n",
              "\n",
              "      <script>\n",
              "        const buttonEl =\n",
              "          document.querySelector('#df-60d74390-f62f-49d6-a361-3dae3149dc04 button.colab-df-convert');\n",
              "        buttonEl.style.display =\n",
              "          google.colab.kernel.accessAllowed ? 'block' : 'none';\n",
              "\n",
              "        async function convertToInteractive(key) {\n",
              "          const element = document.querySelector('#df-60d74390-f62f-49d6-a361-3dae3149dc04');\n",
              "          const dataTable =\n",
              "            await google.colab.kernel.invokeFunction('convertToInteractive',\n",
              "                                                     [key], {});\n",
              "          if (!dataTable) return;\n",
              "\n",
              "          const docLinkHtml = 'Like what you see? Visit the ' +\n",
              "            '<a target=\"_blank\" href=https://colab.research.google.com/notebooks/data_table.ipynb>data table notebook</a>'\n",
              "            + ' to learn more about interactive tables.';\n",
              "          element.innerHTML = '';\n",
              "          dataTable['output_type'] = 'display_data';\n",
              "          await google.colab.output.renderOutput(dataTable, element);\n",
              "          const docLink = document.createElement('div');\n",
              "          docLink.innerHTML = docLinkHtml;\n",
              "          element.appendChild(docLink);\n",
              "        }\n",
              "      </script>\n",
              "    </div>\n",
              "  </div>\n",
              "  "
            ]
          },
          "metadata": {},
          "execution_count": 2
        }
      ]
    },
    {
      "cell_type": "code",
      "source": [
        "wine.shape"
      ],
      "metadata": {
        "colab": {
          "base_uri": "https://localhost:8080/"
        },
        "id": "oQAlTfcYRXic",
        "outputId": "96ac6f38-a390-494e-be3f-f9b04240e701"
      },
      "execution_count": null,
      "outputs": [
        {
          "output_type": "execute_result",
          "data": {
            "text/plain": [
              "(178, 14)"
            ]
          },
          "metadata": {},
          "execution_count": 3
        }
      ]
    },
    {
      "cell_type": "code",
      "source": [
        "x = wine.drop(['Class_label'],axis=1, inplace=False)\n",
        "y= wine['Class_label']\n",
        "x.shape"
      ],
      "metadata": {
        "colab": {
          "base_uri": "https://localhost:8080/"
        },
        "id": "B3WE_9y-SnLB",
        "outputId": "f6091185-4ff1-490b-c0bf-1e8bf92fff50"
      },
      "execution_count": null,
      "outputs": [
        {
          "output_type": "execute_result",
          "data": {
            "text/plain": [
              "(178, 13)"
            ]
          },
          "metadata": {},
          "execution_count": 4
        }
      ]
    },
    {
      "cell_type": "code",
      "source": [
        "y.shape"
      ],
      "metadata": {
        "colab": {
          "base_uri": "https://localhost:8080/"
        },
        "id": "VDU6J181Sx0V",
        "outputId": "9bcb6734-7d9b-4d16-d0ca-457b83f698f9"
      },
      "execution_count": null,
      "outputs": [
        {
          "output_type": "execute_result",
          "data": {
            "text/plain": [
              "(178,)"
            ]
          },
          "metadata": {},
          "execution_count": 5
        }
      ]
    },
    {
      "cell_type": "code",
      "source": [
        "np.round(x.describe(),2)"
      ],
      "metadata": {
        "colab": {
          "base_uri": "https://localhost:8080/",
          "height": 364
        },
        "id": "zbDEhJmxVY39",
        "outputId": "6cd36e45-893d-493b-af28-bdb477418547"
      },
      "execution_count": null,
      "outputs": [
        {
          "output_type": "execute_result",
          "data": {
            "text/plain": [
              "       Alcohol  Malic_acid     Ash  Alcalinity_of_ash  Magnesium  \\\n",
              "count   178.00      178.00  178.00             178.00     178.00   \n",
              "mean     13.00        2.34    2.37              19.49      99.74   \n",
              "std       0.81        1.12    0.27               3.34      14.28   \n",
              "min      11.03        0.74    1.36              10.60      70.00   \n",
              "25%      12.36        1.60    2.21              17.20      88.00   \n",
              "50%      13.05        1.87    2.36              19.50      98.00   \n",
              "75%      13.68        3.08    2.56              21.50     107.00   \n",
              "max      14.83        5.80    3.23              30.00     162.00   \n",
              "\n",
              "       Total_phenols  Flavanoids  Nonflavanoid_phenols  Proanthocyanins  \\\n",
              "count         178.00      178.00                178.00           178.00   \n",
              "mean            2.30        2.03                  0.36             1.59   \n",
              "std             0.63        1.00                  0.12             0.57   \n",
              "min             0.98        0.34                  0.13             0.41   \n",
              "25%             1.74        1.20                  0.27             1.25   \n",
              "50%             2.36        2.13                  0.34             1.56   \n",
              "75%             2.80        2.88                  0.44             1.95   \n",
              "max             3.88        5.08                  0.66             3.58   \n",
              "\n",
              "       Color_intensity     Hue  OD280/OD315_of_diluted_wines  Proline  \n",
              "count           178.00  178.00                        178.00   178.00  \n",
              "mean              5.06    0.96                          2.61   746.89  \n",
              "std               2.32    0.23                          0.71   314.91  \n",
              "min               1.28    0.48                          1.27   278.00  \n",
              "25%               3.22    0.78                          1.94   500.50  \n",
              "50%               4.69    0.96                          2.78   673.50  \n",
              "75%               6.20    1.12                          3.17   985.00  \n",
              "max              13.00    1.71                          4.00  1680.00  "
            ],
            "text/html": [
              "\n",
              "  <div id=\"df-cb74a063-6ab7-47f3-9bd9-cabef061a296\">\n",
              "    <div class=\"colab-df-container\">\n",
              "      <div>\n",
              "<style scoped>\n",
              "    .dataframe tbody tr th:only-of-type {\n",
              "        vertical-align: middle;\n",
              "    }\n",
              "\n",
              "    .dataframe tbody tr th {\n",
              "        vertical-align: top;\n",
              "    }\n",
              "\n",
              "    .dataframe thead th {\n",
              "        text-align: right;\n",
              "    }\n",
              "</style>\n",
              "<table border=\"1\" class=\"dataframe\">\n",
              "  <thead>\n",
              "    <tr style=\"text-align: right;\">\n",
              "      <th></th>\n",
              "      <th>Alcohol</th>\n",
              "      <th>Malic_acid</th>\n",
              "      <th>Ash</th>\n",
              "      <th>Alcalinity_of_ash</th>\n",
              "      <th>Magnesium</th>\n",
              "      <th>Total_phenols</th>\n",
              "      <th>Flavanoids</th>\n",
              "      <th>Nonflavanoid_phenols</th>\n",
              "      <th>Proanthocyanins</th>\n",
              "      <th>Color_intensity</th>\n",
              "      <th>Hue</th>\n",
              "      <th>OD280/OD315_of_diluted_wines</th>\n",
              "      <th>Proline</th>\n",
              "    </tr>\n",
              "  </thead>\n",
              "  <tbody>\n",
              "    <tr>\n",
              "      <th>count</th>\n",
              "      <td>178.00</td>\n",
              "      <td>178.00</td>\n",
              "      <td>178.00</td>\n",
              "      <td>178.00</td>\n",
              "      <td>178.00</td>\n",
              "      <td>178.00</td>\n",
              "      <td>178.00</td>\n",
              "      <td>178.00</td>\n",
              "      <td>178.00</td>\n",
              "      <td>178.00</td>\n",
              "      <td>178.00</td>\n",
              "      <td>178.00</td>\n",
              "      <td>178.00</td>\n",
              "    </tr>\n",
              "    <tr>\n",
              "      <th>mean</th>\n",
              "      <td>13.00</td>\n",
              "      <td>2.34</td>\n",
              "      <td>2.37</td>\n",
              "      <td>19.49</td>\n",
              "      <td>99.74</td>\n",
              "      <td>2.30</td>\n",
              "      <td>2.03</td>\n",
              "      <td>0.36</td>\n",
              "      <td>1.59</td>\n",
              "      <td>5.06</td>\n",
              "      <td>0.96</td>\n",
              "      <td>2.61</td>\n",
              "      <td>746.89</td>\n",
              "    </tr>\n",
              "    <tr>\n",
              "      <th>std</th>\n",
              "      <td>0.81</td>\n",
              "      <td>1.12</td>\n",
              "      <td>0.27</td>\n",
              "      <td>3.34</td>\n",
              "      <td>14.28</td>\n",
              "      <td>0.63</td>\n",
              "      <td>1.00</td>\n",
              "      <td>0.12</td>\n",
              "      <td>0.57</td>\n",
              "      <td>2.32</td>\n",
              "      <td>0.23</td>\n",
              "      <td>0.71</td>\n",
              "      <td>314.91</td>\n",
              "    </tr>\n",
              "    <tr>\n",
              "      <th>min</th>\n",
              "      <td>11.03</td>\n",
              "      <td>0.74</td>\n",
              "      <td>1.36</td>\n",
              "      <td>10.60</td>\n",
              "      <td>70.00</td>\n",
              "      <td>0.98</td>\n",
              "      <td>0.34</td>\n",
              "      <td>0.13</td>\n",
              "      <td>0.41</td>\n",
              "      <td>1.28</td>\n",
              "      <td>0.48</td>\n",
              "      <td>1.27</td>\n",
              "      <td>278.00</td>\n",
              "    </tr>\n",
              "    <tr>\n",
              "      <th>25%</th>\n",
              "      <td>12.36</td>\n",
              "      <td>1.60</td>\n",
              "      <td>2.21</td>\n",
              "      <td>17.20</td>\n",
              "      <td>88.00</td>\n",
              "      <td>1.74</td>\n",
              "      <td>1.20</td>\n",
              "      <td>0.27</td>\n",
              "      <td>1.25</td>\n",
              "      <td>3.22</td>\n",
              "      <td>0.78</td>\n",
              "      <td>1.94</td>\n",
              "      <td>500.50</td>\n",
              "    </tr>\n",
              "    <tr>\n",
              "      <th>50%</th>\n",
              "      <td>13.05</td>\n",
              "      <td>1.87</td>\n",
              "      <td>2.36</td>\n",
              "      <td>19.50</td>\n",
              "      <td>98.00</td>\n",
              "      <td>2.36</td>\n",
              "      <td>2.13</td>\n",
              "      <td>0.34</td>\n",
              "      <td>1.56</td>\n",
              "      <td>4.69</td>\n",
              "      <td>0.96</td>\n",
              "      <td>2.78</td>\n",
              "      <td>673.50</td>\n",
              "    </tr>\n",
              "    <tr>\n",
              "      <th>75%</th>\n",
              "      <td>13.68</td>\n",
              "      <td>3.08</td>\n",
              "      <td>2.56</td>\n",
              "      <td>21.50</td>\n",
              "      <td>107.00</td>\n",
              "      <td>2.80</td>\n",
              "      <td>2.88</td>\n",
              "      <td>0.44</td>\n",
              "      <td>1.95</td>\n",
              "      <td>6.20</td>\n",
              "      <td>1.12</td>\n",
              "      <td>3.17</td>\n",
              "      <td>985.00</td>\n",
              "    </tr>\n",
              "    <tr>\n",
              "      <th>max</th>\n",
              "      <td>14.83</td>\n",
              "      <td>5.80</td>\n",
              "      <td>3.23</td>\n",
              "      <td>30.00</td>\n",
              "      <td>162.00</td>\n",
              "      <td>3.88</td>\n",
              "      <td>5.08</td>\n",
              "      <td>0.66</td>\n",
              "      <td>3.58</td>\n",
              "      <td>13.00</td>\n",
              "      <td>1.71</td>\n",
              "      <td>4.00</td>\n",
              "      <td>1680.00</td>\n",
              "    </tr>\n",
              "  </tbody>\n",
              "</table>\n",
              "</div>\n",
              "      <button class=\"colab-df-convert\" onclick=\"convertToInteractive('df-cb74a063-6ab7-47f3-9bd9-cabef061a296')\"\n",
              "              title=\"Convert this dataframe to an interactive table.\"\n",
              "              style=\"display:none;\">\n",
              "        \n",
              "  <svg xmlns=\"http://www.w3.org/2000/svg\" height=\"24px\"viewBox=\"0 0 24 24\"\n",
              "       width=\"24px\">\n",
              "    <path d=\"M0 0h24v24H0V0z\" fill=\"none\"/>\n",
              "    <path d=\"M18.56 5.44l.94 2.06.94-2.06 2.06-.94-2.06-.94-.94-2.06-.94 2.06-2.06.94zm-11 1L8.5 8.5l.94-2.06 2.06-.94-2.06-.94L8.5 2.5l-.94 2.06-2.06.94zm10 10l.94 2.06.94-2.06 2.06-.94-2.06-.94-.94-2.06-.94 2.06-2.06.94z\"/><path d=\"M17.41 7.96l-1.37-1.37c-.4-.4-.92-.59-1.43-.59-.52 0-1.04.2-1.43.59L10.3 9.45l-7.72 7.72c-.78.78-.78 2.05 0 2.83L4 21.41c.39.39.9.59 1.41.59.51 0 1.02-.2 1.41-.59l7.78-7.78 2.81-2.81c.8-.78.8-2.07 0-2.86zM5.41 20L4 18.59l7.72-7.72 1.47 1.35L5.41 20z\"/>\n",
              "  </svg>\n",
              "      </button>\n",
              "      \n",
              "  <style>\n",
              "    .colab-df-container {\n",
              "      display:flex;\n",
              "      flex-wrap:wrap;\n",
              "      gap: 12px;\n",
              "    }\n",
              "\n",
              "    .colab-df-convert {\n",
              "      background-color: #E8F0FE;\n",
              "      border: none;\n",
              "      border-radius: 50%;\n",
              "      cursor: pointer;\n",
              "      display: none;\n",
              "      fill: #1967D2;\n",
              "      height: 32px;\n",
              "      padding: 0 0 0 0;\n",
              "      width: 32px;\n",
              "    }\n",
              "\n",
              "    .colab-df-convert:hover {\n",
              "      background-color: #E2EBFA;\n",
              "      box-shadow: 0px 1px 2px rgba(60, 64, 67, 0.3), 0px 1px 3px 1px rgba(60, 64, 67, 0.15);\n",
              "      fill: #174EA6;\n",
              "    }\n",
              "\n",
              "    [theme=dark] .colab-df-convert {\n",
              "      background-color: #3B4455;\n",
              "      fill: #D2E3FC;\n",
              "    }\n",
              "\n",
              "    [theme=dark] .colab-df-convert:hover {\n",
              "      background-color: #434B5C;\n",
              "      box-shadow: 0px 1px 3px 1px rgba(0, 0, 0, 0.15);\n",
              "      filter: drop-shadow(0px 1px 2px rgba(0, 0, 0, 0.3));\n",
              "      fill: #FFFFFF;\n",
              "    }\n",
              "  </style>\n",
              "\n",
              "      <script>\n",
              "        const buttonEl =\n",
              "          document.querySelector('#df-cb74a063-6ab7-47f3-9bd9-cabef061a296 button.colab-df-convert');\n",
              "        buttonEl.style.display =\n",
              "          google.colab.kernel.accessAllowed ? 'block' : 'none';\n",
              "\n",
              "        async function convertToInteractive(key) {\n",
              "          const element = document.querySelector('#df-cb74a063-6ab7-47f3-9bd9-cabef061a296');\n",
              "          const dataTable =\n",
              "            await google.colab.kernel.invokeFunction('convertToInteractive',\n",
              "                                                     [key], {});\n",
              "          if (!dataTable) return;\n",
              "\n",
              "          const docLinkHtml = 'Like what you see? Visit the ' +\n",
              "            '<a target=\"_blank\" href=https://colab.research.google.com/notebooks/data_table.ipynb>data table notebook</a>'\n",
              "            + ' to learn more about interactive tables.';\n",
              "          element.innerHTML = '';\n",
              "          dataTable['output_type'] = 'display_data';\n",
              "          await google.colab.output.renderOutput(dataTable, element);\n",
              "          const docLink = document.createElement('div');\n",
              "          docLink.innerHTML = docLinkHtml;\n",
              "          element.appendChild(docLink);\n",
              "        }\n",
              "      </script>\n",
              "    </div>\n",
              "  </div>\n",
              "  "
            ]
          },
          "metadata": {},
          "execution_count": 10
        }
      ]
    },
    {
      "cell_type": "code",
      "source": [
        "sns.heatmap(np.round(x.corr(),2), annot=True)"
      ],
      "metadata": {
        "colab": {
          "base_uri": "https://localhost:8080/",
          "height": 437
        },
        "id": "AZm7seL7fZvg",
        "outputId": "90b312b0-2f62-4512-fedd-f3806cbb46da"
      },
      "execution_count": null,
      "outputs": [
        {
          "output_type": "execute_result",
          "data": {
            "text/plain": [
              "<matplotlib.axes._subplots.AxesSubplot at 0x7f73cc3f4c50>"
            ]
          },
          "metadata": {},
          "execution_count": 32
        },
        {
          "output_type": "display_data",
          "data": {
            "text/plain": [
              "<Figure size 432x288 with 2 Axes>"
            ],
            "image/png": "[encoded data removed]"
          },
          "metadata": {
            "needs_background": "light"
          }
        }
      ]
    },
    {
      "cell_type": "markdown",
      "source": [
        "There is a lot of correlation between features."
      ],
      "metadata": {
        "id": "yYxngHSAfp0F"
      }
    },
    {
      "cell_type": "code",
      "source": [
        "from sklearn.preprocessing import scale\n",
        "x_scaled = scale(x)\n",
        "x_scaled = pd.DataFrame(x_scaled, columns=x.columns)\n",
        "x_scaled.head()"
      ],
      "metadata": {
        "colab": {
          "base_uri": "https://localhost:8080/",
          "height": 270
        },
        "id": "vql1Ej9JSzK_",
        "outputId": "b19ad70c-417f-42c4-a477-52fa8fd23869"
      },
      "execution_count": null,
      "outputs": [
        {
          "output_type": "execute_result",
          "data": {
            "text/plain": [
              "    Alcohol  Malic_acid       Ash  Alcalinity_of_ash  Magnesium  \\\n",
              "0  1.518613   -0.562250  0.232053          -1.169593   1.913905   \n",
              "1  0.246290   -0.499413 -0.827996          -2.490847   0.018145   \n",
              "2  0.196879    0.021231  1.109334          -0.268738   0.088358   \n",
              "3  1.691550   -0.346811  0.487926          -0.809251   0.930918   \n",
              "4  0.295700    0.227694  1.840403           0.451946   1.281985   \n",
              "\n",
              "   Total_phenols  Flavanoids  Nonflavanoid_phenols  Proanthocyanins  \\\n",
              "0       0.808997    1.034819             -0.659563         1.224884   \n",
              "1       0.568648    0.733629             -0.820719        -0.544721   \n",
              "2       0.808997    1.215533             -0.498407         2.135968   \n",
              "3       2.491446    1.466525             -0.981875         1.032155   \n",
              "4       0.808997    0.663351              0.226796         0.401404   \n",
              "\n",
              "   Color_intensity       Hue  OD280/OD315_of_diluted_wines   Proline  \n",
              "0         0.251717  0.362177                      1.847920  1.013009  \n",
              "1        -0.293321  0.406051                      1.113449  0.965242  \n",
              "2         0.269020  0.318304                      0.788587  1.395148  \n",
              "3         1.186068 -0.427544                      1.184071  2.334574  \n",
              "4        -0.319276  0.362177                      0.449601 -0.037874  "
            ],
            "text/html": [
              "\n",
              "  <div id=\"df-c04b487f-9d91-4a75-a698-c82d37d0fd6a\">\n",
              "    <div class=\"colab-df-container\">\n",
              "      <div>\n",
              "<style scoped>\n",
              "    .dataframe tbody tr th:only-of-type {\n",
              "        vertical-align: middle;\n",
              "    }\n",
              "\n",
              "    .dataframe tbody tr th {\n",
              "        vertical-align: top;\n",
              "    }\n",
              "\n",
              "    .dataframe thead th {\n",
              "        text-align: right;\n",
              "    }\n",
              "</style>\n",
              "<table border=\"1\" class=\"dataframe\">\n",
              "  <thead>\n",
              "    <tr style=\"text-align: right;\">\n",
              "      <th></th>\n",
              "      <th>Alcohol</th>\n",
              "      <th>Malic_acid</th>\n",
              "      <th>Ash</th>\n",
              "      <th>Alcalinity_of_ash</th>\n",
              "      <th>Magnesium</th>\n",
              "      <th>Total_phenols</th>\n",
              "      <th>Flavanoids</th>\n",
              "      <th>Nonflavanoid_phenols</th>\n",
              "      <th>Proanthocyanins</th>\n",
              "      <th>Color_intensity</th>\n",
              "      <th>Hue</th>\n",
              "      <th>OD280/OD315_of_diluted_wines</th>\n",
              "      <th>Proline</th>\n",
              "    </tr>\n",
              "  </thead>\n",
              "  <tbody>\n",
              "    <tr>\n",
              "      <th>0</th>\n",
              "      <td>1.518613</td>\n",
              "      <td>-0.562250</td>\n",
              "      <td>0.232053</td>\n",
              "      <td>-1.169593</td>\n",
              "      <td>1.913905</td>\n",
              "      <td>0.808997</td>\n",
              "      <td>1.034819</td>\n",
              "      <td>-0.659563</td>\n",
              "      <td>1.224884</td>\n",
              "      <td>0.251717</td>\n",
              "      <td>0.362177</td>\n",
              "      <td>1.847920</td>\n",
              "      <td>1.013009</td>\n",
              "    </tr>\n",
              "    <tr>\n",
              "      <th>1</th>\n",
              "      <td>0.246290</td>\n",
              "      <td>-0.499413</td>\n",
              "      <td>-0.827996</td>\n",
              "      <td>-2.490847</td>\n",
              "      <td>0.018145</td>\n",
              "      <td>0.568648</td>\n",
              "      <td>0.733629</td>\n",
              "      <td>-0.820719</td>\n",
              "      <td>-0.544721</td>\n",
              "      <td>-0.293321</td>\n",
              "      <td>0.406051</td>\n",
              "      <td>1.113449</td>\n",
              "      <td>0.965242</td>\n",
              "    </tr>\n",
              "    <tr>\n",
              "      <th>2</th>\n",
              "      <td>0.196879</td>\n",
              "      <td>0.021231</td>\n",
              "      <td>1.109334</td>\n",
              "      <td>-0.268738</td>\n",
              "      <td>0.088358</td>\n",
              "      <td>0.808997</td>\n",
              "      <td>1.215533</td>\n",
              "      <td>-0.498407</td>\n",
              "      <td>2.135968</td>\n",
              "      <td>0.269020</td>\n",
              "      <td>0.318304</td>\n",
              "      <td>0.788587</td>\n",
              "      <td>1.395148</td>\n",
              "    </tr>\n",
              "    <tr>\n",
              "      <th>3</th>\n",
              "      <td>1.691550</td>\n",
              "      <td>-0.346811</td>\n",
              "      <td>0.487926</td>\n",
              "      <td>-0.809251</td>\n",
              "      <td>0.930918</td>\n",
              "      <td>2.491446</td>\n",
              "      <td>1.466525</td>\n",
              "      <td>-0.981875</td>\n",
              "      <td>1.032155</td>\n",
              "      <td>1.186068</td>\n",
              "      <td>-0.427544</td>\n",
              "      <td>1.184071</td>\n",
              "      <td>2.334574</td>\n",
              "    </tr>\n",
              "    <tr>\n",
              "      <th>4</th>\n",
              "      <td>0.295700</td>\n",
              "      <td>0.227694</td>\n",
              "      <td>1.840403</td>\n",
              "      <td>0.451946</td>\n",
              "      <td>1.281985</td>\n",
              "      <td>0.808997</td>\n",
              "      <td>0.663351</td>\n",
              "      <td>0.226796</td>\n",
              "      <td>0.401404</td>\n",
              "      <td>-0.319276</td>\n",
              "      <td>0.362177</td>\n",
              "      <td>0.449601</td>\n",
              "      <td>-0.037874</td>\n",
              "    </tr>\n",
              "  </tbody>\n",
              "</table>\n",
              "</div>\n",
              "      <button class=\"colab-df-convert\" onclick=\"convertToInteractive('df-c04b487f-9d91-4a75-a698-c82d37d0fd6a')\"\n",
              "              title=\"Convert this dataframe to an interactive table.\"\n",
              "              style=\"display:none;\">\n",
              "        \n",
              "  <svg xmlns=\"http://www.w3.org/2000/svg\" height=\"24px\"viewBox=\"0 0 24 24\"\n",
              "       width=\"24px\">\n",
              "    <path d=\"M0 0h24v24H0V0z\" fill=\"none\"/>\n",
              "    <path d=\"M18.56 5.44l.94 2.06.94-2.06 2.06-.94-2.06-.94-.94-2.06-.94 2.06-2.06.94zm-11 1L8.5 8.5l.94-2.06 2.06-.94-2.06-.94L8.5 2.5l-.94 2.06-2.06.94zm10 10l.94 2.06.94-2.06 2.06-.94-2.06-.94-.94-2.06-.94 2.06-2.06.94z\"/><path d=\"M17.41 7.96l-1.37-1.37c-.4-.4-.92-.59-1.43-.59-.52 0-1.04.2-1.43.59L10.3 9.45l-7.72 7.72c-.78.78-.78 2.05 0 2.83L4 21.41c.39.39.9.59 1.41.59.51 0 1.02-.2 1.41-.59l7.78-7.78 2.81-2.81c.8-.78.8-2.07 0-2.86zM5.41 20L4 18.59l7.72-7.72 1.47 1.35L5.41 20z\"/>\n",
              "  </svg>\n",
              "      </button>\n",
              "      \n",
              "  <style>\n",
              "    .colab-df-container {\n",
              "      display:flex;\n",
              "      flex-wrap:wrap;\n",
              "      gap: 12px;\n",
              "    }\n",
              "\n",
              "    .colab-df-convert {\n",
              "      background-color: #E8F0FE;\n",
              "      border: none;\n",
              "      border-radius: 50%;\n",
              "      cursor: pointer;\n",
              "      display: none;\n",
              "      fill: #1967D2;\n",
              "      height: 32px;\n",
              "      padding: 0 0 0 0;\n",
              "      width: 32px;\n",
              "    }\n",
              "\n",
              "    .colab-df-convert:hover {\n",
              "      background-color: #E2EBFA;\n",
              "      box-shadow: 0px 1px 2px rgba(60, 64, 67, 0.3), 0px 1px 3px 1px rgba(60, 64, 67, 0.15);\n",
              "      fill: #174EA6;\n",
              "    }\n",
              "\n",
              "    [theme=dark] .colab-df-convert {\n",
              "      background-color: #3B4455;\n",
              "      fill: #D2E3FC;\n",
              "    }\n",
              "\n",
              "    [theme=dark] .colab-df-convert:hover {\n",
              "      background-color: #434B5C;\n",
              "      box-shadow: 0px 1px 3px 1px rgba(0, 0, 0, 0.15);\n",
              "      filter: drop-shadow(0px 1px 2px rgba(0, 0, 0, 0.3));\n",
              "      fill: #FFFFFF;\n",
              "    }\n",
              "  </style>\n",
              "\n",
              "      <script>\n",
              "        const buttonEl =\n",
              "          document.querySelector('#df-c04b487f-9d91-4a75-a698-c82d37d0fd6a button.colab-df-convert');\n",
              "        buttonEl.style.display =\n",
              "          google.colab.kernel.accessAllowed ? 'block' : 'none';\n",
              "\n",
              "        async function convertToInteractive(key) {\n",
              "          const element = document.querySelector('#df-c04b487f-9d91-4a75-a698-c82d37d0fd6a');\n",
              "          const dataTable =\n",
              "            await google.colab.kernel.invokeFunction('convertToInteractive',\n",
              "                                                     [key], {});\n",
              "          if (!dataTable) return;\n",
              "\n",
              "          const docLinkHtml = 'Like what you see? Visit the ' +\n",
              "            '<a target=\"_blank\" href=https://colab.research.google.com/notebooks/data_table.ipynb>data table notebook</a>'\n",
              "            + ' to learn more about interactive tables.';\n",
              "          element.innerHTML = '';\n",
              "          dataTable['output_type'] = 'display_data';\n",
              "          await google.colab.output.renderOutput(dataTable, element);\n",
              "          const docLink = document.createElement('div');\n",
              "          docLink.innerHTML = docLinkHtml;\n",
              "          element.appendChild(docLink);\n",
              "        }\n",
              "      </script>\n",
              "    </div>\n",
              "  </div>\n",
              "  "
            ]
          },
          "metadata": {},
          "execution_count": 6
        }
      ]
    },
    {
      "cell_type": "code",
      "source": [
        "x_scaled.describe()"
      ],
      "metadata": {
        "colab": {
          "base_uri": "https://localhost:8080/",
          "height": 364
        },
        "id": "NIsnLg01TNF4",
        "outputId": "5cd6d1f3-b44c-4037-d671-214c0123835a"
      },
      "execution_count": null,
      "outputs": [
        {
          "output_type": "execute_result",
          "data": {
            "text/plain": [
              "            Alcohol    Malic_acid           Ash  Alcalinity_of_ash  \\\n",
              "count  1.780000e+02  1.780000e+02  1.780000e+02       1.780000e+02   \n",
              "mean  -8.382808e-16 -1.197544e-16 -8.370333e-16      -3.991813e-17   \n",
              "std    1.002821e+00  1.002821e+00  1.002821e+00       1.002821e+00   \n",
              "min   -2.434235e+00 -1.432983e+00 -3.679162e+00      -2.671018e+00   \n",
              "25%   -7.882448e-01 -6.587486e-01 -5.721225e-01      -6.891372e-01   \n",
              "50%    6.099988e-02 -4.231120e-01 -2.382132e-02       1.518295e-03   \n",
              "75%    8.361286e-01  6.697929e-01  6.981085e-01       6.020883e-01   \n",
              "max    2.259772e+00  3.109192e+00  3.156325e+00       3.154511e+00   \n",
              "\n",
              "          Magnesium  Total_phenols    Flavanoids  Nonflavanoid_phenols  \\\n",
              "count  1.780000e+02     178.000000  1.780000e+02          1.780000e+02   \n",
              "mean  -3.991813e-17       0.000000 -3.991813e-16          3.592632e-16   \n",
              "std    1.002821e+00       1.002821  1.002821e+00          1.002821e+00   \n",
              "min   -2.088255e+00      -2.107246 -1.695971e+00         -1.868234e+00   \n",
              "25%   -8.244151e-01      -0.885468 -8.275393e-01         -7.401412e-01   \n",
              "50%   -1.222817e-01       0.095960  1.061497e-01         -1.760948e-01   \n",
              "75%    5.096384e-01       0.808997  8.490851e-01          6.095413e-01   \n",
              "max    4.371372e+00       2.539515  3.062832e+00          2.402403e+00   \n",
              "\n",
              "       Proanthocyanins  Color_intensity           Hue  \\\n",
              "count     1.780000e+02     1.780000e+02  1.780000e+02   \n",
              "mean     -1.197544e-16     2.494883e-17  1.995907e-16   \n",
              "std       1.002821e+00     1.002821e+00  1.002821e+00   \n",
              "min      -2.069034e+00    -1.634288e+00 -2.094732e+00   \n",
              "25%      -5.972835e-01    -7.951025e-01 -7.675624e-01   \n",
              "50%      -6.289785e-02    -1.592246e-01  3.312687e-02   \n",
              "75%       6.291754e-01     4.939560e-01  7.131644e-01   \n",
              "max       3.485073e+00     3.435432e+00  3.301694e+00   \n",
              "\n",
              "       OD280/OD315_of_diluted_wines       Proline  \n",
              "count                  1.780000e+02  1.780000e+02  \n",
              "mean                   3.193450e-16 -1.596725e-16  \n",
              "std                    1.002821e+00  1.002821e+00  \n",
              "min                   -1.895054e+00 -1.493188e+00  \n",
              "25%                   -9.522483e-01 -7.846378e-01  \n",
              "50%                    2.377348e-01 -2.337204e-01  \n",
              "75%                    7.885875e-01  7.582494e-01  \n",
              "max                    1.960915e+00  2.971473e+00  "
            ],
            "text/html": [
              "\n",
              "  <div id=\"df-2ba37225-159d-476b-9863-bf5321acbdba\">\n",
              "    <div class=\"colab-df-container\">\n",
              "      <div>\n",
              "<style scoped>\n",
              "    .dataframe tbody tr th:only-of-type {\n",
              "        vertical-align: middle;\n",
              "    }\n",
              "\n",
              "    .dataframe tbody tr th {\n",
              "        vertical-align: top;\n",
              "    }\n",
              "\n",
              "    .dataframe thead th {\n",
              "        text-align: right;\n",
              "    }\n",
              "</style>\n",
              "<table border=\"1\" class=\"dataframe\">\n",
              "  <thead>\n",
              "    <tr style=\"text-align: right;\">\n",
              "      <th></th>\n",
              "      <th>Alcohol</th>\n",
              "      <th>Malic_acid</th>\n",
              "      <th>Ash</th>\n",
              "      <th>Alcalinity_of_ash</th>\n",
              "      <th>Magnesium</th>\n",
              "      <th>Total_phenols</th>\n",
              "      <th>Flavanoids</th>\n",
              "      <th>Nonflavanoid_phenols</th>\n",
              "      <th>Proanthocyanins</th>\n",
              "      <th>Color_intensity</th>\n",
              "      <th>Hue</th>\n",
              "      <th>OD280/OD315_of_diluted_wines</th>\n",
              "      <th>Proline</th>\n",
              "    </tr>\n",
              "  </thead>\n",
              "  <tbody>\n",
              "    <tr>\n",
              "      <th>count</th>\n",
              "      <td>1.780000e+02</td>\n",
              "      <td>1.780000e+02</td>\n",
              "      <td>1.780000e+02</td>\n",
              "      <td>1.780000e+02</td>\n",
              "      <td>1.780000e+02</td>\n",
              "      <td>178.000000</td>\n",
              "      <td>1.780000e+02</td>\n",
              "      <td>1.780000e+02</td>\n",
              "      <td>1.780000e+02</td>\n",
              "      <td>1.780000e+02</td>\n",
              "      <td>1.780000e+02</td>\n",
              "      <td>1.780000e+02</td>\n",
              "      <td>1.780000e+02</td>\n",
              "    </tr>\n",
              "    <tr>\n",
              "      <th>mean</th>\n",
              "      <td>-8.382808e-16</td>\n",
              "      <td>-1.197544e-16</td>\n",
              "      <td>-8.370333e-16</td>\n",
              "      <td>-3.991813e-17</td>\n",
              "      <td>-3.991813e-17</td>\n",
              "      <td>0.000000</td>\n",
              "      <td>-3.991813e-16</td>\n",
              "      <td>3.592632e-16</td>\n",
              "      <td>-1.197544e-16</td>\n",
              "      <td>2.494883e-17</td>\n",
              "      <td>1.995907e-16</td>\n",
              "      <td>3.193450e-16</td>\n",
              "      <td>-1.596725e-16</td>\n",
              "    </tr>\n",
              "    <tr>\n",
              "      <th>std</th>\n",
              "      <td>1.002821e+00</td>\n",
              "      <td>1.002821e+00</td>\n",
              "      <td>1.002821e+00</td>\n",
              "      <td>1.002821e+00</td>\n",
              "      <td>1.002821e+00</td>\n",
              "      <td>1.002821</td>\n",
              "      <td>1.002821e+00</td>\n",
              "      <td>1.002821e+00</td>\n",
              "      <td>1.002821e+00</td>\n",
              "      <td>1.002821e+00</td>\n",
              "      <td>1.002821e+00</td>\n",
              "      <td>1.002821e+00</td>\n",
              "      <td>1.002821e+00</td>\n",
              "    </tr>\n",
              "    <tr>\n",
              "      <th>min</th>\n",
              "      <td>-2.434235e+00</td>\n",
              "      <td>-1.432983e+00</td>\n",
              "      <td>-3.679162e+00</td>\n",
              "      <td>-2.671018e+00</td>\n",
              "      <td>-2.088255e+00</td>\n",
              "      <td>-2.107246</td>\n",
              "      <td>-1.695971e+00</td>\n",
              "      <td>-1.868234e+00</td>\n",
              "      <td>-2.069034e+00</td>\n",
              "      <td>-1.634288e+00</td>\n",
              "      <td>-2.094732e+00</td>\n",
              "      <td>-1.895054e+00</td>\n",
              "      <td>-1.493188e+00</td>\n",
              "    </tr>\n",
              "    <tr>\n",
              "      <th>25%</th>\n",
              "      <td>-7.882448e-01</td>\n",
              "      <td>-6.587486e-01</td>\n",
              "      <td>-5.721225e-01</td>\n",
              "      <td>-6.891372e-01</td>\n",
              "      <td>-8.244151e-01</td>\n",
              "      <td>-0.885468</td>\n",
              "      <td>-8.275393e-01</td>\n",
              "      <td>-7.401412e-01</td>\n",
              "      <td>-5.972835e-01</td>\n",
              "      <td>-7.951025e-01</td>\n",
              "      <td>-7.675624e-01</td>\n",
              "      <td>-9.522483e-01</td>\n",
              "      <td>-7.846378e-01</td>\n",
              "    </tr>\n",
              "    <tr>\n",
              "      <th>50%</th>\n",
              "      <td>6.099988e-02</td>\n",
              "      <td>-4.231120e-01</td>\n",
              "      <td>-2.382132e-02</td>\n",
              "      <td>1.518295e-03</td>\n",
              "      <td>-1.222817e-01</td>\n",
              "      <td>0.095960</td>\n",
              "      <td>1.061497e-01</td>\n",
              "      <td>-1.760948e-01</td>\n",
              "      <td>-6.289785e-02</td>\n",
              "      <td>-1.592246e-01</td>\n",
              "      <td>3.312687e-02</td>\n",
              "      <td>2.377348e-01</td>\n",
              "      <td>-2.337204e-01</td>\n",
              "    </tr>\n",
              "    <tr>\n",
              "      <th>75%</th>\n",
              "      <td>8.361286e-01</td>\n",
              "      <td>6.697929e-01</td>\n",
              "      <td>6.981085e-01</td>\n",
              "      <td>6.020883e-01</td>\n",
              "      <td>5.096384e-01</td>\n",
              "      <td>0.808997</td>\n",
              "      <td>8.490851e-01</td>\n",
              "      <td>6.095413e-01</td>\n",
              "      <td>6.291754e-01</td>\n",
              "      <td>4.939560e-01</td>\n",
              "      <td>7.131644e-01</td>\n",
              "      <td>7.885875e-01</td>\n",
              "      <td>7.582494e-01</td>\n",
              "    </tr>\n",
              "    <tr>\n",
              "      <th>max</th>\n",
              "      <td>2.259772e+00</td>\n",
              "      <td>3.109192e+00</td>\n",
              "      <td>3.156325e+00</td>\n",
              "      <td>3.154511e+00</td>\n",
              "      <td>4.371372e+00</td>\n",
              "      <td>2.539515</td>\n",
              "      <td>3.062832e+00</td>\n",
              "      <td>2.402403e+00</td>\n",
              "      <td>3.485073e+00</td>\n",
              "      <td>3.435432e+00</td>\n",
              "      <td>3.301694e+00</td>\n",
              "      <td>1.960915e+00</td>\n",
              "      <td>2.971473e+00</td>\n",
              "    </tr>\n",
              "  </tbody>\n",
              "</table>\n",
              "</div>\n",
              "      <button class=\"colab-df-convert\" onclick=\"convertToInteractive('df-2ba37225-159d-476b-9863-bf5321acbdba')\"\n",
              "              title=\"Convert this dataframe to an interactive table.\"\n",
              "              style=\"display:none;\">\n",
              "        \n",
              "  <svg xmlns=\"http://www.w3.org/2000/svg\" height=\"24px\"viewBox=\"0 0 24 24\"\n",
              "       width=\"24px\">\n",
              "    <path d=\"M0 0h24v24H0V0z\" fill=\"none\"/>\n",
              "    <path d=\"M18.56 5.44l.94 2.06.94-2.06 2.06-.94-2.06-.94-.94-2.06-.94 2.06-2.06.94zm-11 1L8.5 8.5l.94-2.06 2.06-.94-2.06-.94L8.5 2.5l-.94 2.06-2.06.94zm10 10l.94 2.06.94-2.06 2.06-.94-2.06-.94-.94-2.06-.94 2.06-2.06.94z\"/><path d=\"M17.41 7.96l-1.37-1.37c-.4-.4-.92-.59-1.43-.59-.52 0-1.04.2-1.43.59L10.3 9.45l-7.72 7.72c-.78.78-.78 2.05 0 2.83L4 21.41c.39.39.9.59 1.41.59.51 0 1.02-.2 1.41-.59l7.78-7.78 2.81-2.81c.8-.78.8-2.07 0-2.86zM5.41 20L4 18.59l7.72-7.72 1.47 1.35L5.41 20z\"/>\n",
              "  </svg>\n",
              "      </button>\n",
              "      \n",
              "  <style>\n",
              "    .colab-df-container {\n",
              "      display:flex;\n",
              "      flex-wrap:wrap;\n",
              "      gap: 12px;\n",
              "    }\n",
              "\n",
              "    .colab-df-convert {\n",
              "      background-color: #E8F0FE;\n",
              "      border: none;\n",
              "      border-radius: 50%;\n",
              "      cursor: pointer;\n",
              "      display: none;\n",
              "      fill: #1967D2;\n",
              "      height: 32px;\n",
              "      padding: 0 0 0 0;\n",
              "      width: 32px;\n",
              "    }\n",
              "\n",
              "    .colab-df-convert:hover {\n",
              "      background-color: #E2EBFA;\n",
              "      box-shadow: 0px 1px 2px rgba(60, 64, 67, 0.3), 0px 1px 3px 1px rgba(60, 64, 67, 0.15);\n",
              "      fill: #174EA6;\n",
              "    }\n",
              "\n",
              "    [theme=dark] .colab-df-convert {\n",
              "      background-color: #3B4455;\n",
              "      fill: #D2E3FC;\n",
              "    }\n",
              "\n",
              "    [theme=dark] .colab-df-convert:hover {\n",
              "      background-color: #434B5C;\n",
              "      box-shadow: 0px 1px 3px 1px rgba(0, 0, 0, 0.15);\n",
              "      filter: drop-shadow(0px 1px 2px rgba(0, 0, 0, 0.3));\n",
              "      fill: #FFFFFF;\n",
              "    }\n",
              "  </style>\n",
              "\n",
              "      <script>\n",
              "        const buttonEl =\n",
              "          document.querySelector('#df-2ba37225-159d-476b-9863-bf5321acbdba button.colab-df-convert');\n",
              "        buttonEl.style.display =\n",
              "          google.colab.kernel.accessAllowed ? 'block' : 'none';\n",
              "\n",
              "        async function convertToInteractive(key) {\n",
              "          const element = document.querySelector('#df-2ba37225-159d-476b-9863-bf5321acbdba');\n",
              "          const dataTable =\n",
              "            await google.colab.kernel.invokeFunction('convertToInteractive',\n",
              "                                                     [key], {});\n",
              "          if (!dataTable) return;\n",
              "\n",
              "          const docLinkHtml = 'Like what you see? Visit the ' +\n",
              "            '<a target=\"_blank\" href=https://colab.research.google.com/notebooks/data_table.ipynb>data table notebook</a>'\n",
              "            + ' to learn more about interactive tables.';\n",
              "          element.innerHTML = '';\n",
              "          dataTable['output_type'] = 'display_data';\n",
              "          await google.colab.output.renderOutput(dataTable, element);\n",
              "          const docLink = document.createElement('div');\n",
              "          docLink.innerHTML = docLinkHtml;\n",
              "          element.appendChild(docLink);\n",
              "        }\n",
              "      </script>\n",
              "    </div>\n",
              "  </div>\n",
              "  "
            ]
          },
          "metadata": {},
          "execution_count": 7
        }
      ]
    },
    {
      "cell_type": "code",
      "source": [
        "# Here, mean is 0 and std. deviation is 1\n",
        "np.round(x_scaled.describe(),2)"
      ],
      "metadata": {
        "colab": {
          "base_uri": "https://localhost:8080/",
          "height": 364
        },
        "id": "4jGsGZkGTZo2",
        "outputId": "0c01124c-5edc-4729-fa36-29865c62a028"
      },
      "execution_count": null,
      "outputs": [
        {
          "output_type": "execute_result",
          "data": {
            "text/plain": [
              "       Alcohol  Malic_acid     Ash  Alcalinity_of_ash  Magnesium  \\\n",
              "count   178.00      178.00  178.00             178.00     178.00   \n",
              "mean     -0.00       -0.00   -0.00              -0.00      -0.00   \n",
              "std       1.00        1.00    1.00               1.00       1.00   \n",
              "min      -2.43       -1.43   -3.68              -2.67      -2.09   \n",
              "25%      -0.79       -0.66   -0.57              -0.69      -0.82   \n",
              "50%       0.06       -0.42   -0.02               0.00      -0.12   \n",
              "75%       0.84        0.67    0.70               0.60       0.51   \n",
              "max       2.26        3.11    3.16               3.15       4.37   \n",
              "\n",
              "       Total_phenols  Flavanoids  Nonflavanoid_phenols  Proanthocyanins  \\\n",
              "count         178.00      178.00                178.00           178.00   \n",
              "mean            0.00       -0.00                  0.00            -0.00   \n",
              "std             1.00        1.00                  1.00             1.00   \n",
              "min            -2.11       -1.70                 -1.87            -2.07   \n",
              "25%            -0.89       -0.83                 -0.74            -0.60   \n",
              "50%             0.10        0.11                 -0.18            -0.06   \n",
              "75%             0.81        0.85                  0.61             0.63   \n",
              "max             2.54        3.06                  2.40             3.49   \n",
              "\n",
              "       Color_intensity     Hue  OD280/OD315_of_diluted_wines  Proline  \n",
              "count           178.00  178.00                        178.00   178.00  \n",
              "mean              0.00    0.00                          0.00    -0.00  \n",
              "std               1.00    1.00                          1.00     1.00  \n",
              "min              -1.63   -2.09                         -1.90    -1.49  \n",
              "25%              -0.80   -0.77                         -0.95    -0.78  \n",
              "50%              -0.16    0.03                          0.24    -0.23  \n",
              "75%               0.49    0.71                          0.79     0.76  \n",
              "max               3.44    3.30                          1.96     2.97  "
            ],
            "text/html": [
              "\n",
              "  <div id=\"df-737da44f-2f99-412c-9a78-7fe4b4602a99\">\n",
              "    <div class=\"colab-df-container\">\n",
              "      <div>\n",
              "<style scoped>\n",
              "    .dataframe tbody tr th:only-of-type {\n",
              "        vertical-align: middle;\n",
              "    }\n",
              "\n",
              "    .dataframe tbody tr th {\n",
              "        vertical-align: top;\n",
              "    }\n",
              "\n",
              "    .dataframe thead th {\n",
              "        text-align: right;\n",
              "    }\n",
              "</style>\n",
              "<table border=\"1\" class=\"dataframe\">\n",
              "  <thead>\n",
              "    <tr style=\"text-align: right;\">\n",
              "      <th></th>\n",
              "      <th>Alcohol</th>\n",
              "      <th>Malic_acid</th>\n",
              "      <th>Ash</th>\n",
              "      <th>Alcalinity_of_ash</th>\n",
              "      <th>Magnesium</th>\n",
              "      <th>Total_phenols</th>\n",
              "      <th>Flavanoids</th>\n",
              "      <th>Nonflavanoid_phenols</th>\n",
              "      <th>Proanthocyanins</th>\n",
              "      <th>Color_intensity</th>\n",
              "      <th>Hue</th>\n",
              "      <th>OD280/OD315_of_diluted_wines</th>\n",
              "      <th>Proline</th>\n",
              "    </tr>\n",
              "  </thead>\n",
              "  <tbody>\n",
              "    <tr>\n",
              "      <th>count</th>\n",
              "      <td>178.00</td>\n",
              "      <td>178.00</td>\n",
              "      <td>178.00</td>\n",
              "      <td>178.00</td>\n",
              "      <td>178.00</td>\n",
              "      <td>178.00</td>\n",
              "      <td>178.00</td>\n",
              "      <td>178.00</td>\n",
              "      <td>178.00</td>\n",
              "      <td>178.00</td>\n",
              "      <td>178.00</td>\n",
              "      <td>178.00</td>\n",
              "      <td>178.00</td>\n",
              "    </tr>\n",
              "    <tr>\n",
              "      <th>mean</th>\n",
              "      <td>-0.00</td>\n",
              "      <td>-0.00</td>\n",
              "      <td>-0.00</td>\n",
              "      <td>-0.00</td>\n",
              "      <td>-0.00</td>\n",
              "      <td>0.00</td>\n",
              "      <td>-0.00</td>\n",
              "      <td>0.00</td>\n",
              "      <td>-0.00</td>\n",
              "      <td>0.00</td>\n",
              "      <td>0.00</td>\n",
              "      <td>0.00</td>\n",
              "      <td>-0.00</td>\n",
              "    </tr>\n",
              "    <tr>\n",
              "      <th>std</th>\n",
              "      <td>1.00</td>\n",
              "      <td>1.00</td>\n",
              "      <td>1.00</td>\n",
              "      <td>1.00</td>\n",
              "      <td>1.00</td>\n",
              "      <td>1.00</td>\n",
              "      <td>1.00</td>\n",
              "      <td>1.00</td>\n",
              "      <td>1.00</td>\n",
              "      <td>1.00</td>\n",
              "      <td>1.00</td>\n",
              "      <td>1.00</td>\n",
              "      <td>1.00</td>\n",
              "    </tr>\n",
              "    <tr>\n",
              "      <th>min</th>\n",
              "      <td>-2.43</td>\n",
              "      <td>-1.43</td>\n",
              "      <td>-3.68</td>\n",
              "      <td>-2.67</td>\n",
              "      <td>-2.09</td>\n",
              "      <td>-2.11</td>\n",
              "      <td>-1.70</td>\n",
              "      <td>-1.87</td>\n",
              "      <td>-2.07</td>\n",
              "      <td>-1.63</td>\n",
              "      <td>-2.09</td>\n",
              "      <td>-1.90</td>\n",
              "      <td>-1.49</td>\n",
              "    </tr>\n",
              "    <tr>\n",
              "      <th>25%</th>\n",
              "      <td>-0.79</td>\n",
              "      <td>-0.66</td>\n",
              "      <td>-0.57</td>\n",
              "      <td>-0.69</td>\n",
              "      <td>-0.82</td>\n",
              "      <td>-0.89</td>\n",
              "      <td>-0.83</td>\n",
              "      <td>-0.74</td>\n",
              "      <td>-0.60</td>\n",
              "      <td>-0.80</td>\n",
              "      <td>-0.77</td>\n",
              "      <td>-0.95</td>\n",
              "      <td>-0.78</td>\n",
              "    </tr>\n",
              "    <tr>\n",
              "      <th>50%</th>\n",
              "      <td>0.06</td>\n",
              "      <td>-0.42</td>\n",
              "      <td>-0.02</td>\n",
              "      <td>0.00</td>\n",
              "      <td>-0.12</td>\n",
              "      <td>0.10</td>\n",
              "      <td>0.11</td>\n",
              "      <td>-0.18</td>\n",
              "      <td>-0.06</td>\n",
              "      <td>-0.16</td>\n",
              "      <td>0.03</td>\n",
              "      <td>0.24</td>\n",
              "      <td>-0.23</td>\n",
              "    </tr>\n",
              "    <tr>\n",
              "      <th>75%</th>\n",
              "      <td>0.84</td>\n",
              "      <td>0.67</td>\n",
              "      <td>0.70</td>\n",
              "      <td>0.60</td>\n",
              "      <td>0.51</td>\n",
              "      <td>0.81</td>\n",
              "      <td>0.85</td>\n",
              "      <td>0.61</td>\n",
              "      <td>0.63</td>\n",
              "      <td>0.49</td>\n",
              "      <td>0.71</td>\n",
              "      <td>0.79</td>\n",
              "      <td>0.76</td>\n",
              "    </tr>\n",
              "    <tr>\n",
              "      <th>max</th>\n",
              "      <td>2.26</td>\n",
              "      <td>3.11</td>\n",
              "      <td>3.16</td>\n",
              "      <td>3.15</td>\n",
              "      <td>4.37</td>\n",
              "      <td>2.54</td>\n",
              "      <td>3.06</td>\n",
              "      <td>2.40</td>\n",
              "      <td>3.49</td>\n",
              "      <td>3.44</td>\n",
              "      <td>3.30</td>\n",
              "      <td>1.96</td>\n",
              "      <td>2.97</td>\n",
              "    </tr>\n",
              "  </tbody>\n",
              "</table>\n",
              "</div>\n",
              "      <button class=\"colab-df-convert\" onclick=\"convertToInteractive('df-737da44f-2f99-412c-9a78-7fe4b4602a99')\"\n",
              "              title=\"Convert this dataframe to an interactive table.\"\n",
              "              style=\"display:none;\">\n",
              "        \n",
              "  <svg xmlns=\"http://www.w3.org/2000/svg\" height=\"24px\"viewBox=\"0 0 24 24\"\n",
              "       width=\"24px\">\n",
              "    <path d=\"M0 0h24v24H0V0z\" fill=\"none\"/>\n",
              "    <path d=\"M18.56 5.44l.94 2.06.94-2.06 2.06-.94-2.06-.94-.94-2.06-.94 2.06-2.06.94zm-11 1L8.5 8.5l.94-2.06 2.06-.94-2.06-.94L8.5 2.5l-.94 2.06-2.06.94zm10 10l.94 2.06.94-2.06 2.06-.94-2.06-.94-.94-2.06-.94 2.06-2.06.94z\"/><path d=\"M17.41 7.96l-1.37-1.37c-.4-.4-.92-.59-1.43-.59-.52 0-1.04.2-1.43.59L10.3 9.45l-7.72 7.72c-.78.78-.78 2.05 0 2.83L4 21.41c.39.39.9.59 1.41.59.51 0 1.02-.2 1.41-.59l7.78-7.78 2.81-2.81c.8-.78.8-2.07 0-2.86zM5.41 20L4 18.59l7.72-7.72 1.47 1.35L5.41 20z\"/>\n",
              "  </svg>\n",
              "      </button>\n",
              "      \n",
              "  <style>\n",
              "    .colab-df-container {\n",
              "      display:flex;\n",
              "      flex-wrap:wrap;\n",
              "      gap: 12px;\n",
              "    }\n",
              "\n",
              "    .colab-df-convert {\n",
              "      background-color: #E8F0FE;\n",
              "      border: none;\n",
              "      border-radius: 50%;\n",
              "      cursor: pointer;\n",
              "      display: none;\n",
              "      fill: #1967D2;\n",
              "      height: 32px;\n",
              "      padding: 0 0 0 0;\n",
              "      width: 32px;\n",
              "    }\n",
              "\n",
              "    .colab-df-convert:hover {\n",
              "      background-color: #E2EBFA;\n",
              "      box-shadow: 0px 1px 2px rgba(60, 64, 67, 0.3), 0px 1px 3px 1px rgba(60, 64, 67, 0.15);\n",
              "      fill: #174EA6;\n",
              "    }\n",
              "\n",
              "    [theme=dark] .colab-df-convert {\n",
              "      background-color: #3B4455;\n",
              "      fill: #D2E3FC;\n",
              "    }\n",
              "\n",
              "    [theme=dark] .colab-df-convert:hover {\n",
              "      background-color: #434B5C;\n",
              "      box-shadow: 0px 1px 3px 1px rgba(0, 0, 0, 0.15);\n",
              "      filter: drop-shadow(0px 1px 2px rgba(0, 0, 0, 0.3));\n",
              "      fill: #FFFFFF;\n",
              "    }\n",
              "  </style>\n",
              "\n",
              "      <script>\n",
              "        const buttonEl =\n",
              "          document.querySelector('#df-737da44f-2f99-412c-9a78-7fe4b4602a99 button.colab-df-convert');\n",
              "        buttonEl.style.display =\n",
              "          google.colab.kernel.accessAllowed ? 'block' : 'none';\n",
              "\n",
              "        async function convertToInteractive(key) {\n",
              "          const element = document.querySelector('#df-737da44f-2f99-412c-9a78-7fe4b4602a99');\n",
              "          const dataTable =\n",
              "            await google.colab.kernel.invokeFunction('convertToInteractive',\n",
              "                                                     [key], {});\n",
              "          if (!dataTable) return;\n",
              "\n",
              "          const docLinkHtml = 'Like what you see? Visit the ' +\n",
              "            '<a target=\"_blank\" href=https://colab.research.google.com/notebooks/data_table.ipynb>data table notebook</a>'\n",
              "            + ' to learn more about interactive tables.';\n",
              "          element.innerHTML = '';\n",
              "          dataTable['output_type'] = 'display_data';\n",
              "          await google.colab.output.renderOutput(dataTable, element);\n",
              "          const docLink = document.createElement('div');\n",
              "          docLink.innerHTML = docLinkHtml;\n",
              "          element.appendChild(docLink);\n",
              "        }\n",
              "      </script>\n",
              "    </div>\n",
              "  </div>\n",
              "  "
            ]
          },
          "metadata": {},
          "execution_count": 8
        }
      ]
    },
    {
      "cell_type": "code",
      "source": [
        "from sklearn.decomposition import PCA\n",
        "pca = PCA().fit(x_scaled)"
      ],
      "metadata": {
        "id": "VvfRdaKbU2su"
      },
      "execution_count": null,
      "outputs": []
    },
    {
      "cell_type": "code",
      "source": [
        "pca"
      ],
      "metadata": {
        "colab": {
          "base_uri": "https://localhost:8080/"
        },
        "id": "TTdn8JS9YET9",
        "outputId": "cca3553d-55d2-4943-9b9e-24a9096ea570"
      },
      "execution_count": null,
      "outputs": [
        {
          "output_type": "execute_result",
          "data": {
            "text/plain": [
              "PCA()"
            ]
          },
          "metadata": {},
          "execution_count": 12
        }
      ]
    },
    {
      "cell_type": "code",
      "source": [
        "np.round(pca.explained_variance_ratio_,3)"
      ],
      "metadata": {
        "colab": {
          "base_uri": "https://localhost:8080/"
        },
        "id": "LsU9ad_oYFyA",
        "outputId": "b2f45954-028a-48e4-b050-bfb197a5d8b2"
      },
      "execution_count": null,
      "outputs": [
        {
          "output_type": "execute_result",
          "data": {
            "text/plain": [
              "array([0.362, 0.192, 0.111, 0.071, 0.066, 0.049, 0.042, 0.027, 0.022,\n",
              "       0.019, 0.017, 0.013, 0.008])"
            ]
          },
          "metadata": {},
          "execution_count": 13
        }
      ]
    },
    {
      "cell_type": "markdown",
      "source": [
        "It means first component has 36%, component has 19%, third component 11%, fourth componet 7% like that."
      ],
      "metadata": {
        "id": "tQWayE6fZSPG"
      }
    },
    {
      "cell_type": "code",
      "source": [
        "str(pca.explained_variance_ratio_.sum())"
      ],
      "metadata": {
        "colab": {
          "base_uri": "https://localhost:8080/",
          "height": 35
        },
        "id": "Fub1674UYSU1",
        "outputId": "60f5db86-1bf9-4af1-d19b-a6b136767561"
      },
      "execution_count": null,
      "outputs": [
        {
          "output_type": "execute_result",
          "data": {
            "text/plain": [
              "'1.0'"
            ],
            "application/vnd.google.colaboratory.intrinsic+json": {
              "type": "string"
            }
          },
          "metadata": {},
          "execution_count": 14
        }
      ]
    },
    {
      "cell_type": "code",
      "source": [
        "pca = PCA(5).fit(x_scaled)"
      ],
      "metadata": {
        "id": "yEkuXJHUYc0_"
      },
      "execution_count": null,
      "outputs": []
    },
    {
      "cell_type": "code",
      "source": [
        "str(pca.explained_variance_ratio_.sum())"
      ],
      "metadata": {
        "colab": {
          "base_uri": "https://localhost:8080/",
          "height": 35
        },
        "id": "uSQV-Wm9Z1Rg",
        "outputId": "f950af62-8a99-4d31-dc65-43b905faf774"
      },
      "execution_count": null,
      "outputs": [
        {
          "output_type": "execute_result",
          "data": {
            "text/plain": [
              "'0.8016229275554786'"
            ],
            "application/vnd.google.colaboratory.intrinsic+json": {
              "type": "string"
            }
          },
          "metadata": {},
          "execution_count": 16
        }
      ]
    },
    {
      "cell_type": "markdown",
      "source": [
        "First 5 coponent gives 80% of data explaining power."
      ],
      "metadata": {
        "id": "M-PLmSJdZ7Dh"
      }
    },
    {
      "cell_type": "code",
      "source": [
        "#Eigen value part\n",
        "pca.explained_variance_"
      ],
      "metadata": {
        "colab": {
          "base_uri": "https://localhost:8080/"
        },
        "id": "i4hQcp07Z4jK",
        "outputId": "30907831-ca84-4dea-c618-2595b85eabed"
      },
      "execution_count": null,
      "outputs": [
        {
          "output_type": "execute_result",
          "data": {
            "text/plain": [
              "array([4.73243698, 2.51108093, 1.45424187, 0.92416587, 0.85804868])"
            ]
          },
          "metadata": {},
          "execution_count": 18
        }
      ]
    },
    {
      "cell_type": "markdown",
      "source": [
        "This is eigen values of 5 components. It says first component has 4.73 explaining power like that."
      ],
      "metadata": {
        "id": "jm4NORPCanuw"
      }
    },
    {
      "cell_type": "code",
      "source": [
        "pca_df= pd.DataFrame(pca.components_, columns = x.columns)"
      ],
      "metadata": {
        "id": "-CX5xoqxaF55"
      },
      "execution_count": null,
      "outputs": []
    },
    {
      "cell_type": "code",
      "source": [
        "pca_df"
      ],
      "metadata": {
        "colab": {
          "base_uri": "https://localhost:8080/",
          "height": 270
        },
        "id": "ladZJEpjbfxS",
        "outputId": "ed5eaa89-0ae5-462b-8137-df594f53a02a"
      },
      "execution_count": null,
      "outputs": [
        {
          "output_type": "execute_result",
          "data": {
            "text/plain": [
              "    Alcohol  Malic_acid       Ash  Alcalinity_of_ash  Magnesium  \\\n",
              "0  0.144329   -0.245188 -0.002051          -0.239320   0.141992   \n",
              "1 -0.483652   -0.224931 -0.316069           0.010591  -0.299634   \n",
              "2 -0.207383    0.089013  0.626224           0.612080   0.130757   \n",
              "3 -0.017856    0.536890 -0.214176           0.060859  -0.351797   \n",
              "4 -0.265664    0.035214 -0.143025           0.066103   0.727049   \n",
              "\n",
              "   Total_phenols  Flavanoids  Nonflavanoid_phenols  Proanthocyanins  \\\n",
              "0       0.394661    0.422934             -0.298533         0.313429   \n",
              "1      -0.065040    0.003360             -0.028779        -0.039302   \n",
              "2       0.146179    0.150682              0.170368         0.149454   \n",
              "3       0.198068    0.152295             -0.203301         0.399057   \n",
              "4      -0.149318   -0.109026             -0.500703         0.136860   \n",
              "\n",
              "   Color_intensity       Hue  OD280/OD315_of_diluted_wines   Proline  \n",
              "0        -0.088617  0.296715                      0.376167  0.286752  \n",
              "1        -0.529996  0.279235                      0.164496 -0.364903  \n",
              "2        -0.137306  0.085222                      0.166005 -0.126746  \n",
              "3         0.065926 -0.427771                      0.184121 -0.232071  \n",
              "4        -0.076437 -0.173615                     -0.101161 -0.157869  "
            ],
            "text/html": [
              "\n",
              "  <div id=\"df-12de35b1-b3a2-46aa-9d3d-246a13ff4f1a\">\n",
              "    <div class=\"colab-df-container\">\n",
              "      <div>\n",
              "<style scoped>\n",
              "    .dataframe tbody tr th:only-of-type {\n",
              "        vertical-align: middle;\n",
              "    }\n",
              "\n",
              "    .dataframe tbody tr th {\n",
              "        vertical-align: top;\n",
              "    }\n",
              "\n",
              "    .dataframe thead th {\n",
              "        text-align: right;\n",
              "    }\n",
              "</style>\n",
              "<table border=\"1\" class=\"dataframe\">\n",
              "  <thead>\n",
              "    <tr style=\"text-align: right;\">\n",
              "      <th></th>\n",
              "      <th>Alcohol</th>\n",
              "      <th>Malic_acid</th>\n",
              "      <th>Ash</th>\n",
              "      <th>Alcalinity_of_ash</th>\n",
              "      <th>Magnesium</th>\n",
              "      <th>Total_phenols</th>\n",
              "      <th>Flavanoids</th>\n",
              "      <th>Nonflavanoid_phenols</th>\n",
              "      <th>Proanthocyanins</th>\n",
              "      <th>Color_intensity</th>\n",
              "      <th>Hue</th>\n",
              "      <th>OD280/OD315_of_diluted_wines</th>\n",
              "      <th>Proline</th>\n",
              "    </tr>\n",
              "  </thead>\n",
              "  <tbody>\n",
              "    <tr>\n",
              "      <th>0</th>\n",
              "      <td>0.144329</td>\n",
              "      <td>-0.245188</td>\n",
              "      <td>-0.002051</td>\n",
              "      <td>-0.239320</td>\n",
              "      <td>0.141992</td>\n",
              "      <td>0.394661</td>\n",
              "      <td>0.422934</td>\n",
              "      <td>-0.298533</td>\n",
              "      <td>0.313429</td>\n",
              "      <td>-0.088617</td>\n",
              "      <td>0.296715</td>\n",
              "      <td>0.376167</td>\n",
              "      <td>0.286752</td>\n",
              "    </tr>\n",
              "    <tr>\n",
              "      <th>1</th>\n",
              "      <td>-0.483652</td>\n",
              "      <td>-0.224931</td>\n",
              "      <td>-0.316069</td>\n",
              "      <td>0.010591</td>\n",
              "      <td>-0.299634</td>\n",
              "      <td>-0.065040</td>\n",
              "      <td>0.003360</td>\n",
              "      <td>-0.028779</td>\n",
              "      <td>-0.039302</td>\n",
              "      <td>-0.529996</td>\n",
              "      <td>0.279235</td>\n",
              "      <td>0.164496</td>\n",
              "      <td>-0.364903</td>\n",
              "    </tr>\n",
              "    <tr>\n",
              "      <th>2</th>\n",
              "      <td>-0.207383</td>\n",
              "      <td>0.089013</td>\n",
              "      <td>0.626224</td>\n",
              "      <td>0.612080</td>\n",
              "      <td>0.130757</td>\n",
              "      <td>0.146179</td>\n",
              "      <td>0.150682</td>\n",
              "      <td>0.170368</td>\n",
              "      <td>0.149454</td>\n",
              "      <td>-0.137306</td>\n",
              "      <td>0.085222</td>\n",
              "      <td>0.166005</td>\n",
              "      <td>-0.126746</td>\n",
              "    </tr>\n",
              "    <tr>\n",
              "      <th>3</th>\n",
              "      <td>-0.017856</td>\n",
              "      <td>0.536890</td>\n",
              "      <td>-0.214176</td>\n",
              "      <td>0.060859</td>\n",
              "      <td>-0.351797</td>\n",
              "      <td>0.198068</td>\n",
              "      <td>0.152295</td>\n",
              "      <td>-0.203301</td>\n",
              "      <td>0.399057</td>\n",
              "      <td>0.065926</td>\n",
              "      <td>-0.427771</td>\n",
              "      <td>0.184121</td>\n",
              "      <td>-0.232071</td>\n",
              "    </tr>\n",
              "    <tr>\n",
              "      <th>4</th>\n",
              "      <td>-0.265664</td>\n",
              "      <td>0.035214</td>\n",
              "      <td>-0.143025</td>\n",
              "      <td>0.066103</td>\n",
              "      <td>0.727049</td>\n",
              "      <td>-0.149318</td>\n",
              "      <td>-0.109026</td>\n",
              "      <td>-0.500703</td>\n",
              "      <td>0.136860</td>\n",
              "      <td>-0.076437</td>\n",
              "      <td>-0.173615</td>\n",
              "      <td>-0.101161</td>\n",
              "      <td>-0.157869</td>\n",
              "    </tr>\n",
              "  </tbody>\n",
              "</table>\n",
              "</div>\n",
              "      <button class=\"colab-df-convert\" onclick=\"convertToInteractive('df-12de35b1-b3a2-46aa-9d3d-246a13ff4f1a')\"\n",
              "              title=\"Convert this dataframe to an interactive table.\"\n",
              "              style=\"display:none;\">\n",
              "        \n",
              "  <svg xmlns=\"http://www.w3.org/2000/svg\" height=\"24px\"viewBox=\"0 0 24 24\"\n",
              "       width=\"24px\">\n",
              "    <path d=\"M0 0h24v24H0V0z\" fill=\"none\"/>\n",
              "    <path d=\"M18.56 5.44l.94 2.06.94-2.06 2.06-.94-2.06-.94-.94-2.06-.94 2.06-2.06.94zm-11 1L8.5 8.5l.94-2.06 2.06-.94-2.06-.94L8.5 2.5l-.94 2.06-2.06.94zm10 10l.94 2.06.94-2.06 2.06-.94-2.06-.94-.94-2.06-.94 2.06-2.06.94z\"/><path d=\"M17.41 7.96l-1.37-1.37c-.4-.4-.92-.59-1.43-.59-.52 0-1.04.2-1.43.59L10.3 9.45l-7.72 7.72c-.78.78-.78 2.05 0 2.83L4 21.41c.39.39.9.59 1.41.59.51 0 1.02-.2 1.41-.59l7.78-7.78 2.81-2.81c.8-.78.8-2.07 0-2.86zM5.41 20L4 18.59l7.72-7.72 1.47 1.35L5.41 20z\"/>\n",
              "  </svg>\n",
              "      </button>\n",
              "      \n",
              "  <style>\n",
              "    .colab-df-container {\n",
              "      display:flex;\n",
              "      flex-wrap:wrap;\n",
              "      gap: 12px;\n",
              "    }\n",
              "\n",
              "    .colab-df-convert {\n",
              "      background-color: #E8F0FE;\n",
              "      border: none;\n",
              "      border-radius: 50%;\n",
              "      cursor: pointer;\n",
              "      display: none;\n",
              "      fill: #1967D2;\n",
              "      height: 32px;\n",
              "      padding: 0 0 0 0;\n",
              "      width: 32px;\n",
              "    }\n",
              "\n",
              "    .colab-df-convert:hover {\n",
              "      background-color: #E2EBFA;\n",
              "      box-shadow: 0px 1px 2px rgba(60, 64, 67, 0.3), 0px 1px 3px 1px rgba(60, 64, 67, 0.15);\n",
              "      fill: #174EA6;\n",
              "    }\n",
              "\n",
              "    [theme=dark] .colab-df-convert {\n",
              "      background-color: #3B4455;\n",
              "      fill: #D2E3FC;\n",
              "    }\n",
              "\n",
              "    [theme=dark] .colab-df-convert:hover {\n",
              "      background-color: #434B5C;\n",
              "      box-shadow: 0px 1px 3px 1px rgba(0, 0, 0, 0.15);\n",
              "      filter: drop-shadow(0px 1px 2px rgba(0, 0, 0, 0.3));\n",
              "      fill: #FFFFFF;\n",
              "    }\n",
              "  </style>\n",
              "\n",
              "      <script>\n",
              "        const buttonEl =\n",
              "          document.querySelector('#df-12de35b1-b3a2-46aa-9d3d-246a13ff4f1a button.colab-df-convert');\n",
              "        buttonEl.style.display =\n",
              "          google.colab.kernel.accessAllowed ? 'block' : 'none';\n",
              "\n",
              "        async function convertToInteractive(key) {\n",
              "          const element = document.querySelector('#df-12de35b1-b3a2-46aa-9d3d-246a13ff4f1a');\n",
              "          const dataTable =\n",
              "            await google.colab.kernel.invokeFunction('convertToInteractive',\n",
              "                                                     [key], {});\n",
              "          if (!dataTable) return;\n",
              "\n",
              "          const docLinkHtml = 'Like what you see? Visit the ' +\n",
              "            '<a target=\"_blank\" href=https://colab.research.google.com/notebooks/data_table.ipynb>data table notebook</a>'\n",
              "            + ' to learn more about interactive tables.';\n",
              "          element.innerHTML = '';\n",
              "          dataTable['output_type'] = 'display_data';\n",
              "          await google.colab.output.renderOutput(dataTable, element);\n",
              "          const docLink = document.createElement('div');\n",
              "          docLink.innerHTML = docLinkHtml;\n",
              "          element.appendChild(docLink);\n",
              "        }\n",
              "      </script>\n",
              "    </div>\n",
              "  </div>\n",
              "  "
            ]
          },
          "metadata": {},
          "execution_count": 21
        }
      ]
    },
    {
      "cell_type": "code",
      "source": [
        "import numpy as np\n",
        "import pandas as pd\n",
        "from matplotlib import pyplot as plt\n",
        "import seaborn as sns\n",
        "%matplotlib inline"
      ],
      "metadata": {
        "id": "c8jsblA1bh7y"
      },
      "execution_count": null,
      "outputs": []
    },
    {
      "cell_type": "code",
      "source": [
        "plt.figure(figsize=(10,10))\n",
        "sns.heatmap(pca_df, annot=True)\n",
        "plt.show()"
      ],
      "metadata": {
        "colab": {
          "base_uri": "https://localhost:8080/",
          "height": 742
        },
        "id": "GKq3nS34cBHD",
        "outputId": "22de2c58-9cb3-417c-a69d-f6611f5cca2d"
      },
      "execution_count": null,
      "outputs": [
        {
          "output_type": "display_data",
          "data": {
            "text/plain": [
              "<Figure size 720x720 with 2 Axes>"
            ],
            "image/png": "[encoded data removed]"
          },
          "metadata": {
            "needs_background": "light"
          }
        }
      ]
    },
    {
      "cell_type": "code",
      "source": [
        "x_scaled.shape"
      ],
      "metadata": {
        "colab": {
          "base_uri": "https://localhost:8080/"
        },
        "id": "rUkeAdx8cR-V",
        "outputId": "75485d55-aae3-4462-fdee-d269582c9cee"
      },
      "execution_count": null,
      "outputs": [
        {
          "output_type": "execute_result",
          "data": {
            "text/plain": [
              "(178, 13)"
            ]
          },
          "metadata": {},
          "execution_count": 25
        }
      ]
    },
    {
      "cell_type": "code",
      "source": [
        "x_scaled_transform=pca.fit_transform(x_scaled)\n",
        "x_scaled_transform.shape"
      ],
      "metadata": {
        "colab": {
          "base_uri": "https://localhost:8080/"
        },
        "id": "Z5QnqsI1dIj6",
        "outputId": "fcce9125-2218-4f2a-c404-175a03c5643c"
      },
      "execution_count": null,
      "outputs": [
        {
          "output_type": "execute_result",
          "data": {
            "text/plain": [
              "(178, 5)"
            ]
          },
          "metadata": {},
          "execution_count": 26
        }
      ]
    },
    {
      "cell_type": "code",
      "source": [
        "x_scaled_trnsf= pd.DataFrame(x_scaled_transform, columns = ('p1','p2','p3','p4','p5'))\n",
        "x_scaled_trnsf.head()"
      ],
      "metadata": {
        "colab": {
          "base_uri": "https://localhost:8080/",
          "height": 206
        },
        "id": "2S3bzArkd4li",
        "outputId": "183557d1-a073-492f-b957-b44565092f22"
      },
      "execution_count": null,
      "outputs": [
        {
          "output_type": "execute_result",
          "data": {
            "text/plain": [
              "         p1        p2        p3        p4        p5\n",
              "0  3.316751 -1.443463 -0.165739 -0.215631  0.693043\n",
              "1  2.209465  0.333393 -2.026457 -0.291358 -0.257655\n",
              "2  2.516740 -1.031151  0.982819  0.724902 -0.251033\n",
              "3  3.757066 -2.756372 -0.176192  0.567983 -0.311842\n",
              "4  1.008908 -0.869831  2.026688 -0.409766  0.298458"
            ],
            "text/html": [
              "\n",
              "  <div id=\"df-a4f34928-1b0e-48bf-af7d-07e921cbea74\">\n",
              "    <div class=\"colab-df-container\">\n",
              "      <div>\n",
              "<style scoped>\n",
              "    .dataframe tbody tr th:only-of-type {\n",
              "        vertical-align: middle;\n",
              "    }\n",
              "\n",
              "    .dataframe tbody tr th {\n",
              "        vertical-align: top;\n",
              "    }\n",
              "\n",
              "    .dataframe thead th {\n",
              "        text-align: right;\n",
              "    }\n",
              "</style>\n",
              "<table border=\"1\" class=\"dataframe\">\n",
              "  <thead>\n",
              "    <tr style=\"text-align: right;\">\n",
              "      <th></th>\n",
              "      <th>p1</th>\n",
              "      <th>p2</th>\n",
              "      <th>p3</th>\n",
              "      <th>p4</th>\n",
              "      <th>p5</th>\n",
              "    </tr>\n",
              "  </thead>\n",
              "  <tbody>\n",
              "    <tr>\n",
              "      <th>0</th>\n",
              "      <td>3.316751</td>\n",
              "      <td>-1.443463</td>\n",
              "      <td>-0.165739</td>\n",
              "      <td>-0.215631</td>\n",
              "      <td>0.693043</td>\n",
              "    </tr>\n",
              "    <tr>\n",
              "      <th>1</th>\n",
              "      <td>2.209465</td>\n",
              "      <td>0.333393</td>\n",
              "      <td>-2.026457</td>\n",
              "      <td>-0.291358</td>\n",
              "      <td>-0.257655</td>\n",
              "    </tr>\n",
              "    <tr>\n",
              "      <th>2</th>\n",
              "      <td>2.516740</td>\n",
              "      <td>-1.031151</td>\n",
              "      <td>0.982819</td>\n",
              "      <td>0.724902</td>\n",
              "      <td>-0.251033</td>\n",
              "    </tr>\n",
              "    <tr>\n",
              "      <th>3</th>\n",
              "      <td>3.757066</td>\n",
              "      <td>-2.756372</td>\n",
              "      <td>-0.176192</td>\n",
              "      <td>0.567983</td>\n",
              "      <td>-0.311842</td>\n",
              "    </tr>\n",
              "    <tr>\n",
              "      <th>4</th>\n",
              "      <td>1.008908</td>\n",
              "      <td>-0.869831</td>\n",
              "      <td>2.026688</td>\n",
              "      <td>-0.409766</td>\n",
              "      <td>0.298458</td>\n",
              "    </tr>\n",
              "  </tbody>\n",
              "</table>\n",
              "</div>\n",
              "      <button class=\"colab-df-convert\" onclick=\"convertToInteractive('df-a4f34928-1b0e-48bf-af7d-07e921cbea74')\"\n",
              "              title=\"Convert this dataframe to an interactive table.\"\n",
              "              style=\"display:none;\">\n",
              "        \n",
              "  <svg xmlns=\"http://www.w3.org/2000/svg\" height=\"24px\"viewBox=\"0 0 24 24\"\n",
              "       width=\"24px\">\n",
              "    <path d=\"M0 0h24v24H0V0z\" fill=\"none\"/>\n",
              "    <path d=\"M18.56 5.44l.94 2.06.94-2.06 2.06-.94-2.06-.94-.94-2.06-.94 2.06-2.06.94zm-11 1L8.5 8.5l.94-2.06 2.06-.94-2.06-.94L8.5 2.5l-.94 2.06-2.06.94zm10 10l.94 2.06.94-2.06 2.06-.94-2.06-.94-.94-2.06-.94 2.06-2.06.94z\"/><path d=\"M17.41 7.96l-1.37-1.37c-.4-.4-.92-.59-1.43-.59-.52 0-1.04.2-1.43.59L10.3 9.45l-7.72 7.72c-.78.78-.78 2.05 0 2.83L4 21.41c.39.39.9.59 1.41.59.51 0 1.02-.2 1.41-.59l7.78-7.78 2.81-2.81c.8-.78.8-2.07 0-2.86zM5.41 20L4 18.59l7.72-7.72 1.47 1.35L5.41 20z\"/>\n",
              "  </svg>\n",
              "      </button>\n",
              "      \n",
              "  <style>\n",
              "    .colab-df-container {\n",
              "      display:flex;\n",
              "      flex-wrap:wrap;\n",
              "      gap: 12px;\n",
              "    }\n",
              "\n",
              "    .colab-df-convert {\n",
              "      background-color: #E8F0FE;\n",
              "      border: none;\n",
              "      border-radius: 50%;\n",
              "      cursor: pointer;\n",
              "      display: none;\n",
              "      fill: #1967D2;\n",
              "      height: 32px;\n",
              "      padding: 0 0 0 0;\n",
              "      width: 32px;\n",
              "    }\n",
              "\n",
              "    .colab-df-convert:hover {\n",
              "      background-color: #E2EBFA;\n",
              "      box-shadow: 0px 1px 2px rgba(60, 64, 67, 0.3), 0px 1px 3px 1px rgba(60, 64, 67, 0.15);\n",
              "      fill: #174EA6;\n",
              "    }\n",
              "\n",
              "    [theme=dark] .colab-df-convert {\n",
              "      background-color: #3B4455;\n",
              "      fill: #D2E3FC;\n",
              "    }\n",
              "\n",
              "    [theme=dark] .colab-df-convert:hover {\n",
              "      background-color: #434B5C;\n",
              "      box-shadow: 0px 1px 3px 1px rgba(0, 0, 0, 0.15);\n",
              "      filter: drop-shadow(0px 1px 2px rgba(0, 0, 0, 0.3));\n",
              "      fill: #FFFFFF;\n",
              "    }\n",
              "  </style>\n",
              "\n",
              "      <script>\n",
              "        const buttonEl =\n",
              "          document.querySelector('#df-a4f34928-1b0e-48bf-af7d-07e921cbea74 button.colab-df-convert');\n",
              "        buttonEl.style.display =\n",
              "          google.colab.kernel.accessAllowed ? 'block' : 'none';\n",
              "\n",
              "        async function convertToInteractive(key) {\n",
              "          const element = document.querySelector('#df-a4f34928-1b0e-48bf-af7d-07e921cbea74');\n",
              "          const dataTable =\n",
              "            await google.colab.kernel.invokeFunction('convertToInteractive',\n",
              "                                                     [key], {});\n",
              "          if (!dataTable) return;\n",
              "\n",
              "          const docLinkHtml = 'Like what you see? Visit the ' +\n",
              "            '<a target=\"_blank\" href=https://colab.research.google.com/notebooks/data_table.ipynb>data table notebook</a>'\n",
              "            + ' to learn more about interactive tables.';\n",
              "          element.innerHTML = '';\n",
              "          dataTable['output_type'] = 'display_data';\n",
              "          await google.colab.output.renderOutput(dataTable, element);\n",
              "          const docLink = document.createElement('div');\n",
              "          docLink.innerHTML = docLinkHtml;\n",
              "          element.appendChild(docLink);\n",
              "        }\n",
              "      </script>\n",
              "    </div>\n",
              "  </div>\n",
              "  "
            ]
          },
          "metadata": {},
          "execution_count": 27
        }
      ]
    },
    {
      "cell_type": "code",
      "source": [
        "x_scaled_trnsf.shape"
      ],
      "metadata": {
        "colab": {
          "base_uri": "https://localhost:8080/"
        },
        "id": "3-3MOhzdeRkb",
        "outputId": "7dcf78c5-1470-41b6-cd0d-4d54dd76980e"
      },
      "execution_count": null,
      "outputs": [
        {
          "output_type": "execute_result",
          "data": {
            "text/plain": [
              "(178, 5)"
            ]
          },
          "metadata": {},
          "execution_count": 28
        }
      ]
    },
    {
      "cell_type": "code",
      "source": [
        "x_scaled_trnsf.corr()"
      ],
      "metadata": {
        "colab": {
          "base_uri": "https://localhost:8080/",
          "height": 206
        },
        "id": "apygSqejeVC_",
        "outputId": "7929b931-3481-4147-ebc3-6b1506365884"
      },
      "execution_count": null,
      "outputs": [
        {
          "output_type": "execute_result",
          "data": {
            "text/plain": [
              "              p1            p2            p3            p4            p5\n",
              "p1  1.000000e+00 -2.707492e-16  3.270863e-16 -1.949544e-16  5.104843e-17\n",
              "p2 -2.707492e-16  1.000000e+00  2.415829e-16  5.846824e-17  9.571911e-17\n",
              "p3  3.270863e-16  2.415829e-16  1.000000e+00 -1.845007e-16  2.414522e-16\n",
              "p4 -1.949544e-16  5.846824e-17 -1.845007e-16  1.000000e+00  1.443976e-16\n",
              "p5  5.104843e-17  9.571911e-17  2.414522e-16  1.443976e-16  1.000000e+00"
            ],
            "text/html": [
              "\n",
              "  <div id=\"df-7cc33505-1c52-4a87-809c-e2a8386d1460\">\n",
              "    <div class=\"colab-df-container\">\n",
              "      <div>\n",
              "<style scoped>\n",
              "    .dataframe tbody tr th:only-of-type {\n",
              "        vertical-align: middle;\n",
              "    }\n",
              "\n",
              "    .dataframe tbody tr th {\n",
              "        vertical-align: top;\n",
              "    }\n",
              "\n",
              "    .dataframe thead th {\n",
              "        text-align: right;\n",
              "    }\n",
              "</style>\n",
              "<table border=\"1\" class=\"dataframe\">\n",
              "  <thead>\n",
              "    <tr style=\"text-align: right;\">\n",
              "      <th></th>\n",
              "      <th>p1</th>\n",
              "      <th>p2</th>\n",
              "      <th>p3</th>\n",
              "      <th>p4</th>\n",
              "      <th>p5</th>\n",
              "    </tr>\n",
              "  </thead>\n",
              "  <tbody>\n",
              "    <tr>\n",
              "      <th>p1</th>\n",
              "      <td>1.000000e+00</td>\n",
              "      <td>-2.707492e-16</td>\n",
              "      <td>3.270863e-16</td>\n",
              "      <td>-1.949544e-16</td>\n",
              "      <td>5.104843e-17</td>\n",
              "    </tr>\n",
              "    <tr>\n",
              "      <th>p2</th>\n",
              "      <td>-2.707492e-16</td>\n",
              "      <td>1.000000e+00</td>\n",
              "      <td>2.415829e-16</td>\n",
              "      <td>5.846824e-17</td>\n",
              "      <td>9.571911e-17</td>\n",
              "    </tr>\n",
              "    <tr>\n",
              "      <th>p3</th>\n",
              "      <td>3.270863e-16</td>\n",
              "      <td>2.415829e-16</td>\n",
              "      <td>1.000000e+00</td>\n",
              "      <td>-1.845007e-16</td>\n",
              "      <td>2.414522e-16</td>\n",
              "    </tr>\n",
              "    <tr>\n",
              "      <th>p4</th>\n",
              "      <td>-1.949544e-16</td>\n",
              "      <td>5.846824e-17</td>\n",
              "      <td>-1.845007e-16</td>\n",
              "      <td>1.000000e+00</td>\n",
              "      <td>1.443976e-16</td>\n",
              "    </tr>\n",
              "    <tr>\n",
              "      <th>p5</th>\n",
              "      <td>5.104843e-17</td>\n",
              "      <td>9.571911e-17</td>\n",
              "      <td>2.414522e-16</td>\n",
              "      <td>1.443976e-16</td>\n",
              "      <td>1.000000e+00</td>\n",
              "    </tr>\n",
              "  </tbody>\n",
              "</table>\n",
              "</div>\n",
              "      <button class=\"colab-df-convert\" onclick=\"convertToInteractive('df-7cc33505-1c52-4a87-809c-e2a8386d1460')\"\n",
              "              title=\"Convert this dataframe to an interactive table.\"\n",
              "              style=\"display:none;\">\n",
              "        \n",
              "  <svg xmlns=\"http://www.w3.org/2000/svg\" height=\"24px\"viewBox=\"0 0 24 24\"\n",
              "       width=\"24px\">\n",
              "    <path d=\"M0 0h24v24H0V0z\" fill=\"none\"/>\n",
              "    <path d=\"M18.56 5.44l.94 2.06.94-2.06 2.06-.94-2.06-.94-.94-2.06-.94 2.06-2.06.94zm-11 1L8.5 8.5l.94-2.06 2.06-.94-2.06-.94L8.5 2.5l-.94 2.06-2.06.94zm10 10l.94 2.06.94-2.06 2.06-.94-2.06-.94-.94-2.06-.94 2.06-2.06.94z\"/><path d=\"M17.41 7.96l-1.37-1.37c-.4-.4-.92-.59-1.43-.59-.52 0-1.04.2-1.43.59L10.3 9.45l-7.72 7.72c-.78.78-.78 2.05 0 2.83L4 21.41c.39.39.9.59 1.41.59.51 0 1.02-.2 1.41-.59l7.78-7.78 2.81-2.81c.8-.78.8-2.07 0-2.86zM5.41 20L4 18.59l7.72-7.72 1.47 1.35L5.41 20z\"/>\n",
              "  </svg>\n",
              "      </button>\n",
              "      \n",
              "  <style>\n",
              "    .colab-df-container {\n",
              "      display:flex;\n",
              "      flex-wrap:wrap;\n",
              "      gap: 12px;\n",
              "    }\n",
              "\n",
              "    .colab-df-convert {\n",
              "      background-color: #E8F0FE;\n",
              "      border: none;\n",
              "      border-radius: 50%;\n",
              "      cursor: pointer;\n",
              "      display: none;\n",
              "      fill: #1967D2;\n",
              "      height: 32px;\n",
              "      padding: 0 0 0 0;\n",
              "      width: 32px;\n",
              "    }\n",
              "\n",
              "    .colab-df-convert:hover {\n",
              "      background-color: #E2EBFA;\n",
              "      box-shadow: 0px 1px 2px rgba(60, 64, 67, 0.3), 0px 1px 3px 1px rgba(60, 64, 67, 0.15);\n",
              "      fill: #174EA6;\n",
              "    }\n",
              "\n",
              "    [theme=dark] .colab-df-convert {\n",
              "      background-color: #3B4455;\n",
              "      fill: #D2E3FC;\n",
              "    }\n",
              "\n",
              "    [theme=dark] .colab-df-convert:hover {\n",
              "      background-color: #434B5C;\n",
              "      box-shadow: 0px 1px 3px 1px rgba(0, 0, 0, 0.15);\n",
              "      filter: drop-shadow(0px 1px 2px rgba(0, 0, 0, 0.3));\n",
              "      fill: #FFFFFF;\n",
              "    }\n",
              "  </style>\n",
              "\n",
              "      <script>\n",
              "        const buttonEl =\n",
              "          document.querySelector('#df-7cc33505-1c52-4a87-809c-e2a8386d1460 button.colab-df-convert');\n",
              "        buttonEl.style.display =\n",
              "          google.colab.kernel.accessAllowed ? 'block' : 'none';\n",
              "\n",
              "        async function convertToInteractive(key) {\n",
              "          const element = document.querySelector('#df-7cc33505-1c52-4a87-809c-e2a8386d1460');\n",
              "          const dataTable =\n",
              "            await google.colab.kernel.invokeFunction('convertToInteractive',\n",
              "                                                     [key], {});\n",
              "          if (!dataTable) return;\n",
              "\n",
              "          const docLinkHtml = 'Like what you see? Visit the ' +\n",
              "            '<a target=\"_blank\" href=https://colab.research.google.com/notebooks/data_table.ipynb>data table notebook</a>'\n",
              "            + ' to learn more about interactive tables.';\n",
              "          element.innerHTML = '';\n",
              "          dataTable['output_type'] = 'display_data';\n",
              "          await google.colab.output.renderOutput(dataTable, element);\n",
              "          const docLink = document.createElement('div');\n",
              "          docLink.innerHTML = docLinkHtml;\n",
              "          element.appendChild(docLink);\n",
              "        }\n",
              "      </script>\n",
              "    </div>\n",
              "  </div>\n",
              "  "
            ]
          },
          "metadata": {},
          "execution_count": 29
        }
      ]
    },
    {
      "cell_type": "code",
      "source": [
        "sns.heatmap(np.round(x_scaled_trnsf.corr(),2), annot=True, cmap='Blues')"
      ],
      "metadata": {
        "colab": {
          "base_uri": "https://localhost:8080/",
          "height": 286
        },
        "id": "B55zXn1re9Dy",
        "outputId": "705bd21e-5b0f-4783-b9f7-577aeceb5288"
      },
      "execution_count": null,
      "outputs": [
        {
          "output_type": "execute_result",
          "data": {
            "text/plain": [
              "<matplotlib.axes._subplots.AxesSubplot at 0x7f73d0006050>"
            ]
          },
          "metadata": {},
          "execution_count": 33
        },
        {
          "output_type": "display_data",
          "data": {
            "text/plain": [
              "<Figure size 432x288 with 2 Axes>"
            ],
            "image/png": "[encoded data removed]"
          },
          "metadata": {
            "needs_background": "light"
          }
        }
      ]
    },
    {
      "cell_type": "code",
      "source": [
        "from sklearn.model_selection import GridSearchCV"
      ],
      "metadata": {
        "id": "KeBukBRDfJAC"
      },
      "execution_count": null,
      "outputs": []
    },
    {
      "cell_type": "code",
      "source": [
        "#Import SK Learn model for doing ML Modeling\n",
        "from sklearn.model_selection import train_test_split\n",
        "from sklearn import metrics\n",
        "from sklearn import tree\n",
        "import sklearn"
      ],
      "metadata": {
        "id": "P83_gcrzmIty"
      },
      "execution_count": null,
      "outputs": []
    },
    {
      "cell_type": "code",
      "source": [
        "from sklearn.ensemble import RandomForestClassifier\n",
        "\n",
        "forest = RandomForestClassifier(class_weight='balanced', random_state=23)"
      ],
      "metadata": {
        "id": "Q2tgjyuml0OS"
      },
      "execution_count": null,
      "outputs": []
    },
    {
      "cell_type": "code",
      "source": [
        "my_estimator = [10,100,1000]\n",
        "my_max_depth = [5,10,15]\n",
        "my_criterion = ['gini','entropy']\n",
        "my_mean_sample_leaf = [2,5,10.15]\n",
        "my_mean_sample_split =[2,5,10]\n",
        "scorer = sklearn.metrics.make_scorer(sklearn.metrics.recall_score, average = 'weighted')"
      ],
      "metadata": {
        "id": "XsxdBN8SmBH0"
      },
      "execution_count": null,
      "outputs": []
    },
    {
      "cell_type": "code",
      "source": [
        "import time\n",
        "\n",
        "#start time\n",
        "start = time.time()\n",
        "\n",
        "#Building the model\n",
        "grid_rf = GridSearchCV(estimator=forest, cv=4, scoring=scorer, \n",
        "                    param_grid= dict(max_depth = my_max_depth, criterion= my_criterion ,\n",
        "                                     min_samples_leaf = my_mean_sample_leaf, min_samples_split = my_mean_sample_split, n_estimators = my_estimator))\n",
        "\n",
        "grid_rf.fit(x_scaled_trnsf, y)\n",
        "\n",
        "end= time.time()\n",
        "\n",
        "training_time= end-start"
      ],
      "metadata": {
        "colab": {
          "base_uri": "https://localhost:8080/"
        },
        "id": "XzcF0T5ultpH",
        "outputId": "c97eac7d-4ddc-4d68-d0e5-0c128cf0de4c"
      },
      "execution_count": null,
      "outputs": [
        {
          "output_type": "stream",
          "name": "stderr",
          "text": [
            "/usr/local/lib/python3.7/dist-packages/sklearn/model_selection/_validation.py:372: FitFailedWarning: \n",
            "216 fits failed out of a total of 648.\n",
            "The score on these train-test partitions for these parameters will be set to nan.\n",
            "If these failures are not expected, you can try to debug them by setting error_score='raise'.\n",
            "\n",
            "Below are more details about the failures:\n",
            "--------------------------------------------------------------------------------\n",
            "216 fits failed with the following error:\n",
            "Traceback (most recent call last):\n",
            "  File \"/usr/local/lib/python3.7/dist-packages/sklearn/model_selection/_validation.py\", line 680, in _fit_and_score\n",
            "    estimator.fit(X_train, y_train, **fit_params)\n",
            "  File \"/usr/local/lib/python3.7/dist-packages/sklearn/ensemble/_forest.py\", line 467, in fit\n",
            "    for i, t in enumerate(trees)\n",
            "  File \"/usr/local/lib/python3.7/dist-packages/joblib/parallel.py\", line 1043, in __call__\n",
            "    if self.dispatch_one_batch(iterator):\n",
            "  File \"/usr/local/lib/python3.7/dist-packages/joblib/parallel.py\", line 861, in dispatch_one_batch\n",
            "    self._dispatch(tasks)\n",
            "  File \"/usr/local/lib/python3.7/dist-packages/joblib/parallel.py\", line 779, in _dispatch\n",
            "    job = self._backend.apply_async(batch, callback=cb)\n",
            "  File \"/usr/local/lib/python3.7/dist-packages/joblib/_parallel_backends.py\", line 208, in apply_async\n",
            "    result = ImmediateResult(func)\n",
            "  File \"/usr/local/lib/python3.7/dist-packages/joblib/_parallel_backends.py\", line 572, in __init__\n",
            "    self.results = batch()\n",
            "  File \"/usr/local/lib/python3.7/dist-packages/joblib/parallel.py\", line 263, in __call__\n",
            "    for func, args, kwargs in self.items]\n",
            "  File \"/usr/local/lib/python3.7/dist-packages/joblib/parallel.py\", line 263, in <listcomp>\n",
            "    for func, args, kwargs in self.items]\n",
            "  File \"/usr/local/lib/python3.7/dist-packages/sklearn/utils/fixes.py\", line 216, in __call__\n",
            "    return self.function(*args, **kwargs)\n",
            "  File \"/usr/local/lib/python3.7/dist-packages/sklearn/ensemble/_forest.py\", line 185, in _parallel_build_trees\n",
            "    tree.fit(X, y, sample_weight=curr_sample_weight, check_input=False)\n",
            "  File \"/usr/local/lib/python3.7/dist-packages/sklearn/tree/_classes.py\", line 942, in fit\n",
            "    X_idx_sorted=X_idx_sorted,\n",
            "  File \"/usr/local/lib/python3.7/dist-packages/sklearn/tree/_classes.py\", line 244, in fit\n",
            "    % self.min_samples_leaf\n",
            "ValueError: min_samples_leaf must be at least 1 or in (0, 0.5], got 10.15\n",
            "\n",
            "  warnings.warn(some_fits_failed_message, FitFailedWarning)\n",
            "/usr/local/lib/python3.7/dist-packages/sklearn/model_selection/_search.py:972: UserWarning: One or more of the test scores are non-finite: [0.96073232 0.96628788 0.96628788 0.95505051 0.96628788 0.96628788\n",
            " 0.94949495 0.95505051 0.96628788 0.95517677 0.96628788 0.96628788\n",
            " 0.95517677 0.96628788 0.96628788 0.95517677 0.96628788 0.96628788\n",
            "        nan        nan        nan        nan        nan        nan\n",
            "        nan        nan        nan 0.96073232 0.96628788 0.96628788\n",
            " 0.95505051 0.96628788 0.96628788 0.96073232 0.96073232 0.96628788\n",
            " 0.94949495 0.96628788 0.96628788 0.94949495 0.96628788 0.96628788\n",
            " 0.94949495 0.96628788 0.96628788        nan        nan        nan\n",
            "        nan        nan        nan        nan        nan        nan\n",
            " 0.96073232 0.96628788 0.96628788 0.95505051 0.96628788 0.96628788\n",
            " 0.96073232 0.96073232 0.96628788 0.94949495 0.96628788 0.96628788\n",
            " 0.94949495 0.96628788 0.96628788 0.94949495 0.96628788 0.96628788\n",
            "        nan        nan        nan        nan        nan        nan\n",
            "        nan        nan        nan 0.94393939 0.95517677 0.96628788\n",
            " 0.93838384 0.95517677 0.95517677 0.96085859 0.95517677 0.96628788\n",
            " 0.95530303 0.96628788 0.96628788 0.95530303 0.96628788 0.96628788\n",
            " 0.95530303 0.96628788 0.96628788        nan        nan        nan\n",
            "        nan        nan        nan        nan        nan        nan\n",
            " 0.94962121 0.94962121 0.96628788 0.92727273 0.95517677 0.96073232\n",
            " 0.94406566 0.95517677 0.96628788 0.94406566 0.96628788 0.96628788\n",
            " 0.94406566 0.96628788 0.96628788 0.94406566 0.96628788 0.96628788\n",
            "        nan        nan        nan        nan        nan        nan\n",
            "        nan        nan        nan 0.94393939 0.94962121 0.96628788\n",
            " 0.92727273 0.95517677 0.96073232 0.94406566 0.95517677 0.96628788\n",
            " 0.94406566 0.96628788 0.96628788 0.94406566 0.96628788 0.96628788\n",
            " 0.94406566 0.96628788 0.96628788        nan        nan        nan\n",
            "        nan        nan        nan        nan        nan        nan]\n",
            "  category=UserWarning,\n"
          ]
        }
      ]
    },
    {
      "cell_type": "code",
      "source": [
        "print(\"Time taken to train Random Forest: \", training_time)"
      ],
      "metadata": {
        "colab": {
          "base_uri": "https://localhost:8080/"
        },
        "id": "aOEM_vqbmgCy",
        "outputId": "1903b111-1a40-420a-a41b-9d6f6fec2642"
      },
      "execution_count": null,
      "outputs": [
        {
          "output_type": "stream",
          "name": "stdout",
          "text": [
            "Time taken to train Random Forest:  308.44279384613037\n"
          ]
        }
      ]
    },
    {
      "cell_type": "code",
      "source": [
        "grid_rf.best_params_"
      ],
      "metadata": {
        "colab": {
          "base_uri": "https://localhost:8080/"
        },
        "id": "aNw6CY5nmw5a",
        "outputId": "5ec4c298-27ca-49a6-9830-11382ce632e3"
      },
      "execution_count": null,
      "outputs": [
        {
          "output_type": "execute_result",
          "data": {
            "text/plain": [
              "{'criterion': 'gini',\n",
              " 'max_depth': 5,\n",
              " 'min_samples_leaf': 2,\n",
              " 'min_samples_split': 2,\n",
              " 'n_estimators': 100}"
            ]
          },
          "metadata": {},
          "execution_count": 41
        }
      ]
    },
    {
      "cell_type": "code",
      "source": [
        "grid_rf.best_score_"
      ],
      "metadata": {
        "colab": {
          "base_uri": "https://localhost:8080/"
        },
        "id": "bIIpdY00m0aq",
        "outputId": "76548737-2d94-4f04-d7ff-24684b76df2d"
      },
      "execution_count": null,
      "outputs": [
        {
          "output_type": "execute_result",
          "data": {
            "text/plain": [
              "0.9662878787878788"
            ]
          },
          "metadata": {},
          "execution_count": 42
        }
      ]
    },
    {
      "cell_type": "code",
      "source": [
        "grid_rf.best_estimator_.feature_importances_\n",
        "x_scaled_trnsf.columns"
      ],
      "metadata": {
        "colab": {
          "base_uri": "https://localhost:8080/"
        },
        "id": "0Rvo5rk7m7EW",
        "outputId": "8831759c-511d-47d2-efdf-6d9b838ed5d6"
      },
      "execution_count": null,
      "outputs": [
        {
          "output_type": "execute_result",
          "data": {
            "text/plain": [
              "Index(['p1', 'p2', 'p3', 'p4', 'p5'], dtype='object')"
            ]
          },
          "metadata": {},
          "execution_count": 47
        }
      ]
    },
    {
      "cell_type": "code",
      "source": [
        "import matplotlib.pyplot as plt"
      ],
      "metadata": {
        "id": "xX5WzKJvnGMs"
      },
      "execution_count": null,
      "outputs": []
    },
    {
      "cell_type": "code",
      "source": [
        "plt.figure=(10,10)\n",
        "ft_importances = pd.Series(grid_rf.best_estimator_.feature_importances_, index = [x_scaled_trnsf.columns]).sort_values(axis=0, ascending=False)"
      ],
      "metadata": {
        "id": "PN2BGmw6nHYV"
      },
      "execution_count": null,
      "outputs": []
    },
    {
      "cell_type": "code",
      "source": [
        "predicted = grid_rf.predict(x_scaled_trnsf)\n",
        "from sklearn import metrics\n",
        "print(metrics.classification_report(y, predicted))"
      ],
      "metadata": {
        "colab": {
          "base_uri": "https://localhost:8080/"
        },
        "id": "tSLVUXfxnI9U",
        "outputId": "39e75140-3985-4f93-9943-fcaca6a849e2"
      },
      "execution_count": null,
      "outputs": [
        {
          "output_type": "stream",
          "name": "stdout",
          "text": [
            "              precision    recall  f1-score   support\n",
            "\n",
            "           1       0.98      0.98      0.98        59\n",
            "           2       0.99      0.97      0.98        71\n",
            "           3       0.98      1.00      0.99        48\n",
            "\n",
            "    accuracy                           0.98       178\n",
            "   macro avg       0.98      0.98      0.98       178\n",
            "weighted avg       0.98      0.98      0.98       178\n",
            "\n"
          ]
        }
      ]
    },
    {
      "cell_type": "code",
      "source": [
        "df_confusion = metrics.confusion_matrix(y, predicted)\n",
        "df_confusion"
      ],
      "metadata": {
        "colab": {
          "base_uri": "https://localhost:8080/"
        },
        "id": "bLBzHMT7ncjT",
        "outputId": "f8f9a28e-f4a8-4099-e71d-4f775f44124f"
      },
      "execution_count": null,
      "outputs": [
        {
          "output_type": "execute_result",
          "data": {
            "text/plain": [
              "array([[58,  1,  0],\n",
              "       [ 1, 69,  1],\n",
              "       [ 0,  0, 48]])"
            ]
          },
          "metadata": {},
          "execution_count": 51
        }
      ]
    }
  ]
}