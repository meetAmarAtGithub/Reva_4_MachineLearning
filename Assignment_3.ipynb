{
  "cells": [
    {
      "cell_type": "markdown",
      "metadata": {
        "id": "view-in-github",
        "colab_type": "text"
      },
      "source": [
        "<a href=\"https://colab.research.google.com/github/meetAmarAtGithub/Reva_MachineLearning/blob/main/Assignment_3.ipynb\" target=\"_parent\"><img src=\"https://colab.research.google.com/assets/colab-badge.svg\" alt=\"Open In Colab\"/></a>"
      ]
    },
    {
      "cell_type": "code",
      "execution_count": null,
      "id": "c3b2da4f",
      "metadata": {
        "id": "c3b2da4f"
      },
      "outputs": [],
      "source": [
        "import pandas as pd\n",
        "import seaborn as sns\n",
        "from matplotlib.backends.backend_pdf import PdfPages\n",
        "import matplotlib.pyplot as plt\n",
        "import scipy.stats as stat\n",
        "from sklearn.model_selection import train_test_split\n",
        "from sklearn.linear_model import LogisticRegression\n",
        "import math\n",
        "from sklearn import metrics\n",
        "from sklearn.metrics import roc_curve, auc, recall_score, precision_score, accuracy_score, f1_score\n",
        "from scipy import stats"
      ]
    },
    {
      "cell_type": "code",
      "execution_count": null,
      "id": "8bd059c5",
      "metadata": {
        "id": "8bd059c5",
        "outputId": "dc206c81-18f3-4f08-9ab2-ffae1ef50896"
      },
      "outputs": [
        {
          "name": "stderr",
          "output_type": "stream",
          "text": [
            "C:\\Users\\JAYA_U~1\\AppData\\Local\\Temp/ipykernel_9844/3627607188.py:2: DtypeWarning: Columns (2,5) have mixed types. Specify dtype option on import or set low_memory=False.\n",
            "  df = pd.read_csv(\"Default_On_Payment.csv\")\n"
          ]
        },
        {
          "data": {
            "text/html": [
              "<div>\n",
              "<style scoped>\n",
              "    .dataframe tbody tr th:only-of-type {\n",
              "        vertical-align: middle;\n",
              "    }\n",
              "\n",
              "    .dataframe tbody tr th {\n",
              "        vertical-align: top;\n",
              "    }\n",
              "\n",
              "    .dataframe thead th {\n",
              "        text-align: right;\n",
              "    }\n",
              "</style>\n",
              "<table border=\"1\" class=\"dataframe\">\n",
              "  <thead>\n",
              "    <tr style=\"text-align: right;\">\n",
              "      <th></th>\n",
              "      <th>Customer_ID</th>\n",
              "      <th>Status_Checking_Acc</th>\n",
              "      <th>Duration_in_Months</th>\n",
              "      <th>Credit_History</th>\n",
              "      <th>Purposre_Credit_Taken</th>\n",
              "      <th>Credit_Amount</th>\n",
              "      <th>Savings_Acc</th>\n",
              "      <th>Years_At_Present_Employment</th>\n",
              "      <th>Inst_Rt_Income</th>\n",
              "      <th>Marital_Status_Gender</th>\n",
              "      <th>...</th>\n",
              "      <th>Property</th>\n",
              "      <th>Age</th>\n",
              "      <th>Other_Inst_Plans</th>\n",
              "      <th>Housing</th>\n",
              "      <th>Num_CC</th>\n",
              "      <th>Job</th>\n",
              "      <th>Dependents</th>\n",
              "      <th>Telephone</th>\n",
              "      <th>Foreign_Worker</th>\n",
              "      <th>Default_On_Payment</th>\n",
              "    </tr>\n",
              "  </thead>\n",
              "  <tbody>\n",
              "    <tr>\n",
              "      <th>0</th>\n",
              "      <td>100015.0</td>\n",
              "      <td>A14</td>\n",
              "      <td>27</td>\n",
              "      <td>A32</td>\n",
              "      <td>A40</td>\n",
              "      <td>2570</td>\n",
              "      <td>A61</td>\n",
              "      <td>A73</td>\n",
              "      <td>3.0</td>\n",
              "      <td>A92</td>\n",
              "      <td>...</td>\n",
              "      <td>A121</td>\n",
              "      <td>21.0</td>\n",
              "      <td>A143</td>\n",
              "      <td>A151</td>\n",
              "      <td>1.0</td>\n",
              "      <td>A173</td>\n",
              "      <td>1.0</td>\n",
              "      <td>A191</td>\n",
              "      <td>A201</td>\n",
              "      <td>1.0</td>\n",
              "    </tr>\n",
              "    <tr>\n",
              "      <th>1</th>\n",
              "      <td>100031.0</td>\n",
              "      <td>A11</td>\n",
              "      <td>12</td>\n",
              "      <td>A34</td>\n",
              "      <td>A43</td>\n",
              "      <td>385</td>\n",
              "      <td>A61</td>\n",
              "      <td>A74</td>\n",
              "      <td>4.0</td>\n",
              "      <td>A92</td>\n",
              "      <td>...</td>\n",
              "      <td>A121</td>\n",
              "      <td>58.0</td>\n",
              "      <td>A143</td>\n",
              "      <td>A152</td>\n",
              "      <td>4.0</td>\n",
              "      <td>A172</td>\n",
              "      <td>1.0</td>\n",
              "      <td>A192</td>\n",
              "      <td>A201</td>\n",
              "      <td>0.0</td>\n",
              "    </tr>\n",
              "    <tr>\n",
              "      <th>2</th>\n",
              "      <td>100046.0</td>\n",
              "      <td>A12</td>\n",
              "      <td>13</td>\n",
              "      <td>A34</td>\n",
              "      <td>A43</td>\n",
              "      <td>882</td>\n",
              "      <td>A61</td>\n",
              "      <td>A72</td>\n",
              "      <td>4.0</td>\n",
              "      <td>A93</td>\n",
              "      <td>...</td>\n",
              "      <td>A121</td>\n",
              "      <td>23.0</td>\n",
              "      <td>A143</td>\n",
              "      <td>A152</td>\n",
              "      <td>2.0</td>\n",
              "      <td>A173</td>\n",
              "      <td>1.0</td>\n",
              "      <td>A191</td>\n",
              "      <td>A201</td>\n",
              "      <td>0.0</td>\n",
              "    </tr>\n",
              "    <tr>\n",
              "      <th>3</th>\n",
              "      <td>100103.0</td>\n",
              "      <td>A14</td>\n",
              "      <td>24</td>\n",
              "      <td>A32</td>\n",
              "      <td>A40</td>\n",
              "      <td>1393</td>\n",
              "      <td>A61</td>\n",
              "      <td>A73</td>\n",
              "      <td>2.0</td>\n",
              "      <td>A93</td>\n",
              "      <td>...</td>\n",
              "      <td>A121</td>\n",
              "      <td>31.0</td>\n",
              "      <td>A143</td>\n",
              "      <td>A152</td>\n",
              "      <td>1.0</td>\n",
              "      <td>A173</td>\n",
              "      <td>1.0</td>\n",
              "      <td>A192</td>\n",
              "      <td>A201</td>\n",
              "      <td>0.0</td>\n",
              "    </tr>\n",
              "    <tr>\n",
              "      <th>4</th>\n",
              "      <td>100104.0</td>\n",
              "      <td>A11</td>\n",
              "      <td>24</td>\n",
              "      <td>A32</td>\n",
              "      <td>A40</td>\n",
              "      <td>3123</td>\n",
              "      <td>A61</td>\n",
              "      <td>A72</td>\n",
              "      <td>4.0</td>\n",
              "      <td>A92</td>\n",
              "      <td>...</td>\n",
              "      <td>A122</td>\n",
              "      <td>27.0</td>\n",
              "      <td>A143</td>\n",
              "      <td>A152</td>\n",
              "      <td>1.0</td>\n",
              "      <td>A173</td>\n",
              "      <td>1.0</td>\n",
              "      <td>A191</td>\n",
              "      <td>A201</td>\n",
              "      <td>1.0</td>\n",
              "    </tr>\n",
              "  </tbody>\n",
              "</table>\n",
              "<p>5 rows × 22 columns</p>\n",
              "</div>"
            ],
            "text/plain": [
              "   Customer_ID Status_Checking_Acc Duration_in_Months Credit_History  \\\n",
              "0     100015.0                 A14                 27            A32   \n",
              "1     100031.0                 A11                 12            A34   \n",
              "2     100046.0                 A12                 13            A34   \n",
              "3     100103.0                 A14                 24            A32   \n",
              "4     100104.0                 A11                 24            A32   \n",
              "\n",
              "  Purposre_Credit_Taken Credit_Amount Savings_Acc Years_At_Present_Employment  \\\n",
              "0                   A40          2570         A61                         A73   \n",
              "1                   A43           385         A61                         A74   \n",
              "2                   A43           882         A61                         A72   \n",
              "3                   A40          1393         A61                         A73   \n",
              "4                   A40          3123         A61                         A72   \n",
              "\n",
              "   Inst_Rt_Income Marital_Status_Gender  ... Property   Age Other_Inst_Plans   \\\n",
              "0             3.0                   A92  ...     A121  21.0              A143   \n",
              "1             4.0                   A92  ...     A121  58.0              A143   \n",
              "2             4.0                   A93  ...     A121  23.0              A143   \n",
              "3             2.0                   A93  ...     A121  31.0              A143   \n",
              "4             4.0                   A92  ...     A122  27.0              A143   \n",
              "\n",
              "   Housing Num_CC   Job  Dependents Telephone  Foreign_Worker  \\\n",
              "0     A151    1.0  A173         1.0      A191            A201   \n",
              "1     A152    4.0  A172         1.0      A192            A201   \n",
              "2     A152    2.0  A173         1.0      A191            A201   \n",
              "3     A152    1.0  A173         1.0      A192            A201   \n",
              "4     A152    1.0  A173         1.0      A191            A201   \n",
              "\n",
              "  Default_On_Payment  \n",
              "0                1.0  \n",
              "1                0.0  \n",
              "2                0.0  \n",
              "3                0.0  \n",
              "4                1.0  \n",
              "\n",
              "[5 rows x 22 columns]"
            ]
          },
          "execution_count": 2,
          "metadata": {},
          "output_type": "execute_result"
        }
      ],
      "source": [
        "#import pandas as pd\n",
        "df = pd.read_csv(\"Default_On_Payment.csv\")\n",
        "df.head(5)"
      ]
    },
    {
      "cell_type": "markdown",
      "id": "5f9b5f01",
      "metadata": {
        "id": "5f9b5f01"
      },
      "source": [
        "## Exploratory Data Analysis"
      ]
    },
    {
      "cell_type": "code",
      "execution_count": null,
      "id": "db23edc4",
      "metadata": {
        "id": "db23edc4",
        "outputId": "24a883b7-ec74-45b0-dc6f-3b48bd736216"
      },
      "outputs": [
        {
          "name": "stdout",
          "output_type": "stream",
          "text": [
            "<class 'pandas.core.frame.DataFrame'>\n",
            "RangeIndex: 40121 entries, 0 to 40120\n",
            "Data columns (total 22 columns):\n",
            " #   Column                       Non-Null Count  Dtype  \n",
            "---  ------                       --------------  -----  \n",
            " 0   Customer_ID                  40120 non-null  float64\n",
            " 1   Status_Checking_Acc          40121 non-null  object \n",
            " 2   Duration_in_Months           40121 non-null  object \n",
            " 3   Credit_History               40121 non-null  object \n",
            " 4   Purposre_Credit_Taken        40120 non-null  object \n",
            " 5   Credit_Amount                40120 non-null  object \n",
            " 6   Savings_Acc                  40120 non-null  object \n",
            " 7   Years_At_Present_Employment  40120 non-null  object \n",
            " 8   Inst_Rt_Income               40120 non-null  float64\n",
            " 9   Marital_Status_Gender        40120 non-null  object \n",
            " 10  Other_Debtors_Guarantors     40120 non-null  object \n",
            " 11  Current_Address_Yrs          40120 non-null  float64\n",
            " 12  Property                     40119 non-null  object \n",
            " 13  Age                          40119 non-null  float64\n",
            " 14  Other_Inst_Plans             40119 non-null  object \n",
            " 15  Housing                      40119 non-null  object \n",
            " 16  Num_CC                       40119 non-null  float64\n",
            " 17  Job                          40119 non-null  object \n",
            " 18  Dependents                   40119 non-null  float64\n",
            " 19  Telephone                    40119 non-null  object \n",
            " 20  Foreign_Worker               40119 non-null  object \n",
            " 21  Default_On_Payment           40119 non-null  float64\n",
            "dtypes: float64(7), object(15)\n",
            "memory usage: 6.7+ MB\n"
          ]
        }
      ],
      "source": [
        "df.info()"
      ]
    },
    {
      "cell_type": "code",
      "execution_count": null,
      "id": "b4b91d41",
      "metadata": {
        "id": "b4b91d41",
        "outputId": "bdedd9b1-cc35-43ff-c5d3-7afd2851398c"
      },
      "outputs": [
        {
          "data": {
            "text/plain": [
              "Customer_ID                    1\n",
              "Status_Checking_Acc            0\n",
              "Duration_in_Months             0\n",
              "Credit_History                 0\n",
              "Purposre_Credit_Taken          1\n",
              "Credit_Amount                  1\n",
              "Savings_Acc                    1\n",
              "Years_At_Present_Employment    1\n",
              "Inst_Rt_Income                 1\n",
              "Marital_Status_Gender          1\n",
              "Other_Debtors_Guarantors       1\n",
              "Current_Address_Yrs            1\n",
              "Property                       2\n",
              "Age                            2\n",
              "Other_Inst_Plans               2\n",
              "Housing                        2\n",
              "Num_CC                         2\n",
              "Job                            2\n",
              "Dependents                     2\n",
              "Telephone                      2\n",
              "Foreign_Worker                 2\n",
              "Default_On_Payment             2\n",
              "dtype: int64"
            ]
          },
          "execution_count": 4,
          "metadata": {},
          "output_type": "execute_result"
        }
      ],
      "source": [
        "pd.isnull(df).sum()"
      ]
    },
    {
      "cell_type": "code",
      "execution_count": null,
      "id": "2613c6a9",
      "metadata": {
        "id": "2613c6a9",
        "outputId": "89e2e8bf-e337-4249-b9e3-ddb62e7f3bd7"
      },
      "outputs": [
        {
          "name": "stdout",
          "output_type": "stream",
          "text": [
            "Rows     :  40121\n"
          ]
        }
      ],
      "source": [
        "#get number of rows/observations\n",
        "print (\"Rows     : \" , df.shape[0])  "
      ]
    },
    {
      "cell_type": "code",
      "execution_count": null,
      "id": "0d9b5f7f",
      "metadata": {
        "id": "0d9b5f7f",
        "outputId": "211e4b46-d5be-409c-812f-d8758dd4590d"
      },
      "outputs": [
        {
          "name": "stdout",
          "output_type": "stream",
          "text": [
            "Columns  :  22\n"
          ]
        }
      ],
      "source": [
        "#get number of columns\n",
        "print (\"Columns  : \" , df.shape[1]) "
      ]
    },
    {
      "cell_type": "code",
      "execution_count": null,
      "id": "05bc022f",
      "metadata": {
        "id": "05bc022f",
        "outputId": "5abb4d28-39f4-4b9b-c4d8-c60e700a88a7"
      },
      "outputs": [
        {
          "name": "stdout",
          "output_type": "stream",
          "text": [
            "################################################## \n",
            " Features : \n",
            "\n",
            " ['Customer_ID', 'Status_Checking_Acc', 'Duration_in_Months', 'Credit_History', 'Purposre_Credit_Taken', 'Credit_Amount', 'Savings_Acc', 'Years_At_Present_Employment', 'Inst_Rt_Income', 'Marital_Status_Gender', 'Other_Debtors_Guarantors', 'Current_Address_Yrs', 'Property', 'Age', 'Other_Inst_Plans ', 'Housing', 'Num_CC', 'Job', 'Dependents', 'Telephone', 'Foreign_Worker', 'Default_On_Payment']\n"
          ]
        }
      ],
      "source": [
        "#get name of columns/features\n",
        "print (\"#\"*50,\"\\n\",\"Features : \\n\\n\", df.columns.tolist()) "
      ]
    },
    {
      "cell_type": "code",
      "execution_count": null,
      "id": "12c280f4",
      "metadata": {
        "id": "12c280f4",
        "outputId": "7a5b0027-0da0-4b5b-d861-450369c9e751"
      },
      "outputs": [
        {
          "name": "stdout",
          "output_type": "stream",
          "text": [
            "#################### \n",
            "Missing values :\n",
            "\n",
            " Default_On_Payment             2\n",
            "Property                       2\n",
            "Foreign_Worker                 2\n",
            "Telephone                      2\n",
            "Dependents                     2\n",
            "Job                            2\n",
            "Num_CC                         2\n",
            "Housing                        2\n",
            "Other_Inst_Plans               2\n",
            "Age                            2\n",
            "Customer_ID                    1\n",
            "Other_Debtors_Guarantors       1\n",
            "Marital_Status_Gender          1\n",
            "Inst_Rt_Income                 1\n",
            "Years_At_Present_Employment    1\n",
            "Savings_Acc                    1\n",
            "Credit_Amount                  1\n",
            "Purposre_Credit_Taken          1\n",
            "Current_Address_Yrs            1\n",
            "Status_Checking_Acc            0\n",
            "Credit_History                 0\n",
            "Duration_in_Months             0\n",
            "dtype: int64\n"
          ]
        }
      ],
      "source": [
        "print (\"#\"*20,\"\\nMissing values :\\n\\n\", df.isnull().sum().sort_values(ascending=False))"
      ]
    },
    {
      "cell_type": "code",
      "execution_count": null,
      "id": "eb13b8d4",
      "metadata": {
        "id": "eb13b8d4",
        "outputId": "512ed865-3436-4bd0-9e12-4385baeef53c"
      },
      "outputs": [
        {
          "name": "stdout",
          "output_type": "stream",
          "text": [
            "#################### \n",
            "Percent of missing :\n",
            "\n",
            " Customer_ID                    0.0\n",
            "Status_Checking_Acc            0.0\n",
            "Duration_in_Months             0.0\n",
            "Credit_History                 0.0\n",
            "Purposre_Credit_Taken          0.0\n",
            "Credit_Amount                  0.0\n",
            "Savings_Acc                    0.0\n",
            "Years_At_Present_Employment    0.0\n",
            "Inst_Rt_Income                 0.0\n",
            "Marital_Status_Gender          0.0\n",
            "Other_Debtors_Guarantors       0.0\n",
            "Current_Address_Yrs            0.0\n",
            "Property                       0.0\n",
            "Age                            0.0\n",
            "Other_Inst_Plans               0.0\n",
            "Housing                        0.0\n",
            "Num_CC                         0.0\n",
            "Job                            0.0\n",
            "Dependents                     0.0\n",
            "Telephone                      0.0\n",
            "Foreign_Worker                 0.0\n",
            "Default_On_Payment             0.0\n",
            "dtype: float64\n"
          ]
        }
      ],
      "source": [
        "# looking at columns with most Missing Values\n",
        "print( \"#\"*20,\"\\nPercent of missing :\\n\\n\", round(df.isna().sum() / df.isna().count() * 100, 2)) "
      ]
    },
    {
      "cell_type": "code",
      "execution_count": null,
      "id": "ffce2e8c",
      "metadata": {
        "id": "ffce2e8c",
        "outputId": "5e0a5204-83cd-46d1-d02d-9cf5581a968a"
      },
      "outputs": [
        {
          "name": "stdout",
          "output_type": "stream",
          "text": [
            "#################### \n",
            "Unique values :  \n",
            "\n",
            " Customer_ID                    39133\n",
            "Status_Checking_Acc                5\n",
            "Duration_in_Months                67\n",
            "Credit_History                     6\n",
            "Purposre_Credit_Taken             11\n",
            "Credit_Amount                   1843\n",
            "Savings_Acc                        6\n",
            "Years_At_Present_Employment        6\n",
            "Inst_Rt_Income                     4\n",
            "Marital_Status_Gender              5\n",
            "Other_Debtors_Guarantors           4\n",
            "Current_Address_Yrs                5\n",
            "Property                           4\n",
            "Age                               53\n",
            "Other_Inst_Plans                   3\n",
            "Housing                            3\n",
            "Num_CC                             4\n",
            "Job                                4\n",
            "Dependents                         2\n",
            "Telephone                          2\n",
            "Foreign_Worker                     2\n",
            "Default_On_Payment                 2\n",
            "dtype: int64\n"
          ]
        }
      ],
      "source": [
        "#  count of unique values\n",
        "print (\"#\"*20,\"\\nUnique values :  \\n\\n\", df.nunique())  "
      ]
    },
    {
      "cell_type": "markdown",
      "id": "9a4f7901",
      "metadata": {
        "id": "9a4f7901"
      },
      "source": [
        "## Data Cleaning"
      ]
    },
    {
      "cell_type": "code",
      "execution_count": null,
      "id": "5a0e8735",
      "metadata": {
        "id": "5a0e8735",
        "outputId": "70f64657-5ece-47a6-8237-290393432e14"
      },
      "outputs": [
        {
          "data": {
            "text/plain": [
              "(40119, 22)"
            ]
          },
          "execution_count": 11,
          "metadata": {},
          "output_type": "execute_result"
        }
      ],
      "source": [
        "#Drop NA\n",
        "df =df.dropna()\n",
        "df.shape"
      ]
    },
    {
      "cell_type": "code",
      "execution_count": null,
      "id": "22b0ec89",
      "metadata": {
        "id": "22b0ec89",
        "outputId": "fd6cae9b-fedc-454e-e380-bdace7e41a84"
      },
      "outputs": [
        {
          "data": {
            "text/html": [
              "<div>\n",
              "<style scoped>\n",
              "    .dataframe tbody tr th:only-of-type {\n",
              "        vertical-align: middle;\n",
              "    }\n",
              "\n",
              "    .dataframe tbody tr th {\n",
              "        vertical-align: top;\n",
              "    }\n",
              "\n",
              "    .dataframe thead th {\n",
              "        text-align: right;\n",
              "    }\n",
              "</style>\n",
              "<table border=\"1\" class=\"dataframe\">\n",
              "  <thead>\n",
              "    <tr style=\"text-align: right;\">\n",
              "      <th></th>\n",
              "      <th>Status_Checking_Acc</th>\n",
              "      <th>Duration_in_Months</th>\n",
              "      <th>Credit_History</th>\n",
              "      <th>Purposre_Credit_Taken</th>\n",
              "      <th>Credit_Amount</th>\n",
              "      <th>Savings_Acc</th>\n",
              "      <th>Years_At_Present_Employment</th>\n",
              "      <th>Inst_Rt_Income</th>\n",
              "      <th>Marital_Status_Gender</th>\n",
              "      <th>Other_Debtors_Guarantors</th>\n",
              "      <th>...</th>\n",
              "      <th>Property</th>\n",
              "      <th>Age</th>\n",
              "      <th>Other_Inst_Plans</th>\n",
              "      <th>Housing</th>\n",
              "      <th>Num_CC</th>\n",
              "      <th>Job</th>\n",
              "      <th>Dependents</th>\n",
              "      <th>Telephone</th>\n",
              "      <th>Foreign_Worker</th>\n",
              "      <th>Default_On_Payment</th>\n",
              "    </tr>\n",
              "  </thead>\n",
              "  <tbody>\n",
              "    <tr>\n",
              "      <th>0</th>\n",
              "      <td>A14</td>\n",
              "      <td>27</td>\n",
              "      <td>A32</td>\n",
              "      <td>A40</td>\n",
              "      <td>2570</td>\n",
              "      <td>A61</td>\n",
              "      <td>A73</td>\n",
              "      <td>3.0</td>\n",
              "      <td>A92</td>\n",
              "      <td>A101</td>\n",
              "      <td>...</td>\n",
              "      <td>A121</td>\n",
              "      <td>21.0</td>\n",
              "      <td>A143</td>\n",
              "      <td>A151</td>\n",
              "      <td>1.0</td>\n",
              "      <td>A173</td>\n",
              "      <td>1.0</td>\n",
              "      <td>A191</td>\n",
              "      <td>A201</td>\n",
              "      <td>1.0</td>\n",
              "    </tr>\n",
              "    <tr>\n",
              "      <th>1</th>\n",
              "      <td>A11</td>\n",
              "      <td>12</td>\n",
              "      <td>A34</td>\n",
              "      <td>A43</td>\n",
              "      <td>385</td>\n",
              "      <td>A61</td>\n",
              "      <td>A74</td>\n",
              "      <td>4.0</td>\n",
              "      <td>A92</td>\n",
              "      <td>A101</td>\n",
              "      <td>...</td>\n",
              "      <td>A121</td>\n",
              "      <td>58.0</td>\n",
              "      <td>A143</td>\n",
              "      <td>A152</td>\n",
              "      <td>4.0</td>\n",
              "      <td>A172</td>\n",
              "      <td>1.0</td>\n",
              "      <td>A192</td>\n",
              "      <td>A201</td>\n",
              "      <td>0.0</td>\n",
              "    </tr>\n",
              "    <tr>\n",
              "      <th>2</th>\n",
              "      <td>A12</td>\n",
              "      <td>13</td>\n",
              "      <td>A34</td>\n",
              "      <td>A43</td>\n",
              "      <td>882</td>\n",
              "      <td>A61</td>\n",
              "      <td>A72</td>\n",
              "      <td>4.0</td>\n",
              "      <td>A93</td>\n",
              "      <td>A103</td>\n",
              "      <td>...</td>\n",
              "      <td>A121</td>\n",
              "      <td>23.0</td>\n",
              "      <td>A143</td>\n",
              "      <td>A152</td>\n",
              "      <td>2.0</td>\n",
              "      <td>A173</td>\n",
              "      <td>1.0</td>\n",
              "      <td>A191</td>\n",
              "      <td>A201</td>\n",
              "      <td>0.0</td>\n",
              "    </tr>\n",
              "    <tr>\n",
              "      <th>3</th>\n",
              "      <td>A14</td>\n",
              "      <td>24</td>\n",
              "      <td>A32</td>\n",
              "      <td>A40</td>\n",
              "      <td>1393</td>\n",
              "      <td>A61</td>\n",
              "      <td>A73</td>\n",
              "      <td>2.0</td>\n",
              "      <td>A93</td>\n",
              "      <td>A103</td>\n",
              "      <td>...</td>\n",
              "      <td>A121</td>\n",
              "      <td>31.0</td>\n",
              "      <td>A143</td>\n",
              "      <td>A152</td>\n",
              "      <td>1.0</td>\n",
              "      <td>A173</td>\n",
              "      <td>1.0</td>\n",
              "      <td>A192</td>\n",
              "      <td>A201</td>\n",
              "      <td>0.0</td>\n",
              "    </tr>\n",
              "    <tr>\n",
              "      <th>4</th>\n",
              "      <td>A11</td>\n",
              "      <td>24</td>\n",
              "      <td>A32</td>\n",
              "      <td>A40</td>\n",
              "      <td>3123</td>\n",
              "      <td>A61</td>\n",
              "      <td>A72</td>\n",
              "      <td>4.0</td>\n",
              "      <td>A92</td>\n",
              "      <td>A101</td>\n",
              "      <td>...</td>\n",
              "      <td>A122</td>\n",
              "      <td>27.0</td>\n",
              "      <td>A143</td>\n",
              "      <td>A152</td>\n",
              "      <td>1.0</td>\n",
              "      <td>A173</td>\n",
              "      <td>1.0</td>\n",
              "      <td>A191</td>\n",
              "      <td>A201</td>\n",
              "      <td>1.0</td>\n",
              "    </tr>\n",
              "  </tbody>\n",
              "</table>\n",
              "<p>5 rows × 21 columns</p>\n",
              "</div>"
            ],
            "text/plain": [
              "  Status_Checking_Acc Duration_in_Months Credit_History Purposre_Credit_Taken  \\\n",
              "0                 A14                 27            A32                   A40   \n",
              "1                 A11                 12            A34                   A43   \n",
              "2                 A12                 13            A34                   A43   \n",
              "3                 A14                 24            A32                   A40   \n",
              "4                 A11                 24            A32                   A40   \n",
              "\n",
              "  Credit_Amount Savings_Acc Years_At_Present_Employment  Inst_Rt_Income  \\\n",
              "0          2570         A61                         A73             3.0   \n",
              "1           385         A61                         A74             4.0   \n",
              "2           882         A61                         A72             4.0   \n",
              "3          1393         A61                         A73             2.0   \n",
              "4          3123         A61                         A72             4.0   \n",
              "\n",
              "  Marital_Status_Gender Other_Debtors_Guarantors  ...  Property   Age  \\\n",
              "0                   A92                     A101  ...      A121  21.0   \n",
              "1                   A92                     A101  ...      A121  58.0   \n",
              "2                   A93                     A103  ...      A121  23.0   \n",
              "3                   A93                     A103  ...      A121  31.0   \n",
              "4                   A92                     A101  ...      A122  27.0   \n",
              "\n",
              "   Other_Inst_Plans  Housing Num_CC   Job Dependents  Telephone  \\\n",
              "0               A143    A151    1.0  A173        1.0       A191   \n",
              "1               A143    A152    4.0  A172        1.0       A192   \n",
              "2               A143    A152    2.0  A173        1.0       A191   \n",
              "3               A143    A152    1.0  A173        1.0       A192   \n",
              "4               A143    A152    1.0  A173        1.0       A191   \n",
              "\n",
              "  Foreign_Worker Default_On_Payment  \n",
              "0           A201                1.0  \n",
              "1           A201                0.0  \n",
              "2           A201                0.0  \n",
              "3           A201                0.0  \n",
              "4           A201                1.0  \n",
              "\n",
              "[5 rows x 21 columns]"
            ]
          },
          "execution_count": 12,
          "metadata": {},
          "output_type": "execute_result"
        }
      ],
      "source": [
        "#Dropping customer id field as it is unique field and no relation with default payment\n",
        "df = df.drop(['Customer_ID'],axis=1)\n",
        "df.head(5)"
      ]
    },
    {
      "cell_type": "markdown",
      "id": "0201db24",
      "metadata": {
        "id": "0201db24"
      },
      "source": [
        "### Converting  \"Duration_in_Months\" and \"Credit_Amount\" column types to Numeric and Float respectively."
      ]
    },
    {
      "cell_type": "code",
      "execution_count": null,
      "id": "3c24cc58",
      "metadata": {
        "id": "3c24cc58"
      },
      "outputs": [],
      "source": [
        "df['Duration_in_Months']=pd.to_numeric(df.Duration_in_Months,errors='coerce')"
      ]
    },
    {
      "cell_type": "code",
      "execution_count": null,
      "id": "bb5b1b21",
      "metadata": {
        "id": "bb5b1b21"
      },
      "outputs": [],
      "source": [
        "df['Credit_Amount']=pd.to_numeric(df.Credit_Amount,downcast=\"float\",errors='coerce')"
      ]
    },
    {
      "cell_type": "code",
      "execution_count": null,
      "id": "d00737d5",
      "metadata": {
        "id": "d00737d5",
        "outputId": "81a07045-9736-473d-ace7-695c513ded87"
      },
      "outputs": [
        {
          "name": "stdout",
          "output_type": "stream",
          "text": [
            "<class 'pandas.core.frame.DataFrame'>\n",
            "Int64Index: 40119 entries, 0 to 40119\n",
            "Data columns (total 21 columns):\n",
            " #   Column                       Non-Null Count  Dtype  \n",
            "---  ------                       --------------  -----  \n",
            " 0   Status_Checking_Acc          40119 non-null  object \n",
            " 1   Duration_in_Months           40119 non-null  int64  \n",
            " 2   Credit_History               40119 non-null  object \n",
            " 3   Purposre_Credit_Taken        40119 non-null  object \n",
            " 4   Credit_Amount                40119 non-null  float32\n",
            " 5   Savings_Acc                  40119 non-null  object \n",
            " 6   Years_At_Present_Employment  40119 non-null  object \n",
            " 7   Inst_Rt_Income               40119 non-null  float64\n",
            " 8   Marital_Status_Gender        40119 non-null  object \n",
            " 9   Other_Debtors_Guarantors     40119 non-null  object \n",
            " 10  Current_Address_Yrs          40119 non-null  float64\n",
            " 11  Property                     40119 non-null  object \n",
            " 12  Age                          40119 non-null  float64\n",
            " 13  Other_Inst_Plans             40119 non-null  object \n",
            " 14  Housing                      40119 non-null  object \n",
            " 15  Num_CC                       40119 non-null  float64\n",
            " 16  Job                          40119 non-null  object \n",
            " 17  Dependents                   40119 non-null  float64\n",
            " 18  Telephone                    40119 non-null  object \n",
            " 19  Foreign_Worker               40119 non-null  object \n",
            " 20  Default_On_Payment           40119 non-null  float64\n",
            "dtypes: float32(1), float64(6), int64(1), object(13)\n",
            "memory usage: 6.6+ MB\n"
          ]
        }
      ],
      "source": [
        "df.info()"
      ]
    },
    {
      "cell_type": "code",
      "execution_count": null,
      "id": "cce37425",
      "metadata": {
        "id": "cce37425",
        "outputId": "8e316468-150c-4309-8be4-05e9df632a88"
      },
      "outputs": [
        {
          "data": {
            "text/plain": [
              "['Duration_in_Months',\n",
              " 'Credit_Amount',\n",
              " 'Inst_Rt_Income',\n",
              " 'Current_Address_Yrs',\n",
              " 'Age',\n",
              " 'Num_CC',\n",
              " 'Dependents',\n",
              " 'Default_On_Payment']"
            ]
          },
          "execution_count": 16,
          "metadata": {},
          "output_type": "execute_result"
        }
      ],
      "source": [
        "numeric_var_names=[key for key in dict(df.dtypes) if dict(df.dtypes)[key] in ['float64', 'int64', 'float32', 'int32']]\n",
        "numeric_var_names"
      ]
    },
    {
      "cell_type": "code",
      "execution_count": null,
      "id": "b7255731",
      "metadata": {
        "id": "b7255731",
        "outputId": "3f39b024-afb9-44c2-bca5-b5c50c5cfb4e"
      },
      "outputs": [
        {
          "data": {
            "text/plain": [
              "['Duration_in_Months',\n",
              " 'Credit_Amount',\n",
              " 'Inst_Rt_Income',\n",
              " 'Current_Address_Yrs',\n",
              " 'Age',\n",
              " 'Num_CC',\n",
              " 'Dependents']"
            ]
          },
          "execution_count": 17,
          "metadata": {},
          "output_type": "execute_result"
        }
      ],
      "source": [
        "#Removing  ['Default_On_Payment'] target from input parameters\n",
        "numeric_var_names.pop()\n",
        "numeric_var_names"
      ]
    },
    {
      "cell_type": "code",
      "execution_count": null,
      "id": "b4526466",
      "metadata": {
        "id": "b4526466",
        "outputId": "c48e9ca4-cf04-49bb-c365-a9861611d56b"
      },
      "outputs": [
        {
          "data": {
            "text/plain": [
              "['Status_Checking_Acc',\n",
              " 'Credit_History',\n",
              " 'Purposre_Credit_Taken',\n",
              " 'Savings_Acc',\n",
              " 'Years_At_Present_Employment',\n",
              " 'Marital_Status_Gender',\n",
              " 'Other_Debtors_Guarantors',\n",
              " 'Property',\n",
              " 'Other_Inst_Plans ',\n",
              " 'Housing',\n",
              " 'Job',\n",
              " 'Telephone',\n",
              " 'Foreign_Worker']"
            ]
          },
          "execution_count": 18,
          "metadata": {},
          "output_type": "execute_result"
        }
      ],
      "source": [
        "cat_var_names=[key for key in dict(df.dtypes) if dict(df.dtypes)[key] in ['object']]\n",
        "cat_var_names"
      ]
    },
    {
      "cell_type": "code",
      "execution_count": null,
      "id": "8037135e",
      "metadata": {
        "id": "8037135e",
        "outputId": "07f37523-579e-4d55-e13b-eb469a12d32d"
      },
      "outputs": [
        {
          "data": {
            "text/html": [
              "<div>\n",
              "<style scoped>\n",
              "    .dataframe tbody tr th:only-of-type {\n",
              "        vertical-align: middle;\n",
              "    }\n",
              "\n",
              "    .dataframe tbody tr th {\n",
              "        vertical-align: top;\n",
              "    }\n",
              "\n",
              "    .dataframe thead th {\n",
              "        text-align: right;\n",
              "    }\n",
              "</style>\n",
              "<table border=\"1\" class=\"dataframe\">\n",
              "  <thead>\n",
              "    <tr style=\"text-align: right;\">\n",
              "      <th></th>\n",
              "      <th>Duration_in_Months</th>\n",
              "      <th>Credit_Amount</th>\n",
              "      <th>Inst_Rt_Income</th>\n",
              "      <th>Current_Address_Yrs</th>\n",
              "      <th>Age</th>\n",
              "      <th>Num_CC</th>\n",
              "      <th>Dependents</th>\n",
              "    </tr>\n",
              "  </thead>\n",
              "  <tbody>\n",
              "    <tr>\n",
              "      <th>40115</th>\n",
              "      <td>24</td>\n",
              "      <td>1285.0</td>\n",
              "      <td>4.0</td>\n",
              "      <td>4.0</td>\n",
              "      <td>32.0</td>\n",
              "      <td>1.0</td>\n",
              "      <td>1.0</td>\n",
              "    </tr>\n",
              "    <tr>\n",
              "      <th>40116</th>\n",
              "      <td>24</td>\n",
              "      <td>1935.0</td>\n",
              "      <td>4.0</td>\n",
              "      <td>4.0</td>\n",
              "      <td>31.0</td>\n",
              "      <td>2.0</td>\n",
              "      <td>1.0</td>\n",
              "    </tr>\n",
              "    <tr>\n",
              "      <th>40117</th>\n",
              "      <td>60</td>\n",
              "      <td>14027.0</td>\n",
              "      <td>4.0</td>\n",
              "      <td>2.0</td>\n",
              "      <td>27.0</td>\n",
              "      <td>1.0</td>\n",
              "      <td>1.0</td>\n",
              "    </tr>\n",
              "    <tr>\n",
              "      <th>40118</th>\n",
              "      <td>36</td>\n",
              "      <td>3804.0</td>\n",
              "      <td>4.0</td>\n",
              "      <td>1.0</td>\n",
              "      <td>42.0</td>\n",
              "      <td>1.0</td>\n",
              "      <td>1.0</td>\n",
              "    </tr>\n",
              "    <tr>\n",
              "      <th>40119</th>\n",
              "      <td>20</td>\n",
              "      <td>2235.0</td>\n",
              "      <td>4.0</td>\n",
              "      <td>2.0</td>\n",
              "      <td>33.0</td>\n",
              "      <td>2.0</td>\n",
              "      <td>1.0</td>\n",
              "    </tr>\n",
              "  </tbody>\n",
              "</table>\n",
              "</div>"
            ],
            "text/plain": [
              "       Duration_in_Months  Credit_Amount  Inst_Rt_Income  Current_Address_Yrs  \\\n",
              "40115                  24         1285.0             4.0                  4.0   \n",
              "40116                  24         1935.0             4.0                  4.0   \n",
              "40117                  60        14027.0             4.0                  2.0   \n",
              "40118                  36         3804.0             4.0                  1.0   \n",
              "40119                  20         2235.0             4.0                  2.0   \n",
              "\n",
              "        Age  Num_CC  Dependents  \n",
              "40115  32.0     1.0         1.0  \n",
              "40116  31.0     2.0         1.0  \n",
              "40117  27.0     1.0         1.0  \n",
              "40118  42.0     1.0         1.0  \n",
              "40119  33.0     2.0         1.0  "
            ]
          },
          "execution_count": 19,
          "metadata": {},
          "output_type": "execute_result"
        }
      ],
      "source": [
        "#numeric_var_names.pop() #Removing \"Dependents\" as it is not required scaling\n",
        "\n",
        "x_num=df.loc[:,(numeric_var_names)]\n",
        "x_num.tail(5)"
      ]
    },
    {
      "cell_type": "code",
      "execution_count": null,
      "id": "7068f3f8",
      "metadata": {
        "id": "7068f3f8"
      },
      "outputs": [],
      "source": [
        "# #Scale all values between 0 and 1\n",
        "# from sklearn.preprocessing import MinMaxScaler\n",
        "# scld = MinMaxScaler(feature_range=(0,1))\n",
        "# arr_scld = scld.fit_transform(x_num.Credit_Amount)\n",
        "# df_scld = pd.DataFrame(arr_scld, columns= x_num.columns)"
      ]
    },
    {
      "cell_type": "code",
      "execution_count": null,
      "id": "f43bfb59",
      "metadata": {
        "id": "f43bfb59"
      },
      "outputs": [],
      "source": [
        "# df_scld.tail(5)"
      ]
    },
    {
      "cell_type": "code",
      "execution_count": null,
      "id": "1468ea87",
      "metadata": {
        "id": "1468ea87"
      },
      "outputs": [],
      "source": [
        "# df_scld['Dependents'] = df.Dependents\n",
        "# df_scld.tail(5)"
      ]
    },
    {
      "cell_type": "code",
      "execution_count": null,
      "id": "acba9614",
      "metadata": {
        "id": "acba9614"
      },
      "outputs": [],
      "source": [
        "# df_scld.shape"
      ]
    },
    {
      "cell_type": "code",
      "execution_count": null,
      "id": "f8d9ff0b",
      "metadata": {
        "id": "f8d9ff0b",
        "outputId": "9c2f9c4e-663f-42e3-b735-6926c4ab2249"
      },
      "outputs": [
        {
          "data": {
            "text/html": [
              "<div>\n",
              "<style scoped>\n",
              "    .dataframe tbody tr th:only-of-type {\n",
              "        vertical-align: middle;\n",
              "    }\n",
              "\n",
              "    .dataframe tbody tr th {\n",
              "        vertical-align: top;\n",
              "    }\n",
              "\n",
              "    .dataframe thead th {\n",
              "        text-align: right;\n",
              "    }\n",
              "</style>\n",
              "<table border=\"1\" class=\"dataframe\">\n",
              "  <thead>\n",
              "    <tr style=\"text-align: right;\">\n",
              "      <th></th>\n",
              "      <th>Status_Checking_Acc_A11</th>\n",
              "      <th>Status_Checking_Acc_A12</th>\n",
              "      <th>Status_Checking_Acc_A13</th>\n",
              "      <th>Status_Checking_Acc_A14</th>\n",
              "      <th>Credit_History_A30</th>\n",
              "      <th>Credit_History_A31</th>\n",
              "      <th>Credit_History_A32</th>\n",
              "      <th>Credit_History_A33</th>\n",
              "      <th>Credit_History_A34</th>\n",
              "      <th>Purposre_Credit_Taken_A40</th>\n",
              "      <th>...</th>\n",
              "      <th>Housing_A152</th>\n",
              "      <th>Housing_A153</th>\n",
              "      <th>Job_A171</th>\n",
              "      <th>Job_A172</th>\n",
              "      <th>Job_A173</th>\n",
              "      <th>Job_A174</th>\n",
              "      <th>Telephone_A191</th>\n",
              "      <th>Telephone_A192</th>\n",
              "      <th>Foreign_Worker_A201</th>\n",
              "      <th>Foreign_Worker_A202</th>\n",
              "    </tr>\n",
              "  </thead>\n",
              "  <tbody>\n",
              "    <tr>\n",
              "      <th>40115</th>\n",
              "      <td>1</td>\n",
              "      <td>0</td>\n",
              "      <td>0</td>\n",
              "      <td>0</td>\n",
              "      <td>0</td>\n",
              "      <td>0</td>\n",
              "      <td>1</td>\n",
              "      <td>0</td>\n",
              "      <td>0</td>\n",
              "      <td>1</td>\n",
              "      <td>...</td>\n",
              "      <td>0</td>\n",
              "      <td>0</td>\n",
              "      <td>0</td>\n",
              "      <td>0</td>\n",
              "      <td>1</td>\n",
              "      <td>0</td>\n",
              "      <td>1</td>\n",
              "      <td>0</td>\n",
              "      <td>1</td>\n",
              "      <td>0</td>\n",
              "    </tr>\n",
              "    <tr>\n",
              "      <th>40116</th>\n",
              "      <td>0</td>\n",
              "      <td>1</td>\n",
              "      <td>0</td>\n",
              "      <td>0</td>\n",
              "      <td>0</td>\n",
              "      <td>0</td>\n",
              "      <td>0</td>\n",
              "      <td>0</td>\n",
              "      <td>1</td>\n",
              "      <td>0</td>\n",
              "      <td>...</td>\n",
              "      <td>1</td>\n",
              "      <td>0</td>\n",
              "      <td>0</td>\n",
              "      <td>0</td>\n",
              "      <td>1</td>\n",
              "      <td>0</td>\n",
              "      <td>0</td>\n",
              "      <td>1</td>\n",
              "      <td>1</td>\n",
              "      <td>0</td>\n",
              "    </tr>\n",
              "    <tr>\n",
              "      <th>40117</th>\n",
              "      <td>0</td>\n",
              "      <td>1</td>\n",
              "      <td>0</td>\n",
              "      <td>0</td>\n",
              "      <td>0</td>\n",
              "      <td>0</td>\n",
              "      <td>1</td>\n",
              "      <td>0</td>\n",
              "      <td>0</td>\n",
              "      <td>1</td>\n",
              "      <td>...</td>\n",
              "      <td>1</td>\n",
              "      <td>0</td>\n",
              "      <td>0</td>\n",
              "      <td>0</td>\n",
              "      <td>0</td>\n",
              "      <td>1</td>\n",
              "      <td>0</td>\n",
              "      <td>1</td>\n",
              "      <td>1</td>\n",
              "      <td>0</td>\n",
              "    </tr>\n",
              "    <tr>\n",
              "      <th>40118</th>\n",
              "      <td>0</td>\n",
              "      <td>1</td>\n",
              "      <td>0</td>\n",
              "      <td>0</td>\n",
              "      <td>1</td>\n",
              "      <td>0</td>\n",
              "      <td>0</td>\n",
              "      <td>0</td>\n",
              "      <td>0</td>\n",
              "      <td>0</td>\n",
              "      <td>...</td>\n",
              "      <td>1</td>\n",
              "      <td>0</td>\n",
              "      <td>0</td>\n",
              "      <td>0</td>\n",
              "      <td>1</td>\n",
              "      <td>0</td>\n",
              "      <td>0</td>\n",
              "      <td>1</td>\n",
              "      <td>1</td>\n",
              "      <td>0</td>\n",
              "    </tr>\n",
              "    <tr>\n",
              "      <th>40119</th>\n",
              "      <td>1</td>\n",
              "      <td>0</td>\n",
              "      <td>0</td>\n",
              "      <td>0</td>\n",
              "      <td>0</td>\n",
              "      <td>0</td>\n",
              "      <td>0</td>\n",
              "      <td>0</td>\n",
              "      <td>1</td>\n",
              "      <td>1</td>\n",
              "      <td>...</td>\n",
              "      <td>0</td>\n",
              "      <td>0</td>\n",
              "      <td>0</td>\n",
              "      <td>0</td>\n",
              "      <td>1</td>\n",
              "      <td>0</td>\n",
              "      <td>1</td>\n",
              "      <td>0</td>\n",
              "      <td>0</td>\n",
              "      <td>1</td>\n",
              "    </tr>\n",
              "  </tbody>\n",
              "</table>\n",
              "<p>5 rows × 54 columns</p>\n",
              "</div>"
            ],
            "text/plain": [
              "       Status_Checking_Acc_A11  Status_Checking_Acc_A12  \\\n",
              "40115                        1                        0   \n",
              "40116                        0                        1   \n",
              "40117                        0                        1   \n",
              "40118                        0                        1   \n",
              "40119                        1                        0   \n",
              "\n",
              "       Status_Checking_Acc_A13  Status_Checking_Acc_A14  Credit_History_A30  \\\n",
              "40115                        0                        0                   0   \n",
              "40116                        0                        0                   0   \n",
              "40117                        0                        0                   0   \n",
              "40118                        0                        0                   1   \n",
              "40119                        0                        0                   0   \n",
              "\n",
              "       Credit_History_A31  Credit_History_A32  Credit_History_A33  \\\n",
              "40115                   0                   1                   0   \n",
              "40116                   0                   0                   0   \n",
              "40117                   0                   1                   0   \n",
              "40118                   0                   0                   0   \n",
              "40119                   0                   0                   0   \n",
              "\n",
              "       Credit_History_A34  Purposre_Credit_Taken_A40  ...  Housing_A152  \\\n",
              "40115                   0                          1  ...             0   \n",
              "40116                   1                          0  ...             1   \n",
              "40117                   0                          1  ...             1   \n",
              "40118                   0                          0  ...             1   \n",
              "40119                   1                          1  ...             0   \n",
              "\n",
              "       Housing_A153  Job_A171  Job_A172  Job_A173  Job_A174  Telephone_A191  \\\n",
              "40115             0         0         0         1         0               1   \n",
              "40116             0         0         0         1         0               0   \n",
              "40117             0         0         0         0         1               0   \n",
              "40118             0         0         0         1         0               0   \n",
              "40119             0         0         0         1         0               1   \n",
              "\n",
              "       Telephone_A192  Foreign_Worker_A201  Foreign_Worker_A202  \n",
              "40115               0                    1                    0  \n",
              "40116               1                    1                    0  \n",
              "40117               1                    1                    0  \n",
              "40118               1                    1                    0  \n",
              "40119               0                    0                    1  \n",
              "\n",
              "[5 rows x 54 columns]"
            ]
          },
          "execution_count": 24,
          "metadata": {},
          "output_type": "execute_result"
        }
      ],
      "source": [
        "x_num1=df.loc[:,(cat_var_names)]\n",
        "x_num1=pd.get_dummies(x_num1)\n",
        "x_num1.tail(5)"
      ]
    },
    {
      "cell_type": "code",
      "execution_count": null,
      "id": "be1f4038",
      "metadata": {
        "id": "be1f4038",
        "outputId": "82ff36ea-a135-46ee-b207-391f10fd2b43"
      },
      "outputs": [
        {
          "data": {
            "text/plain": [
              "(40119, 54)"
            ]
          },
          "execution_count": 25,
          "metadata": {},
          "output_type": "execute_result"
        }
      ],
      "source": [
        "x_num1.shape"
      ]
    },
    {
      "cell_type": "code",
      "execution_count": null,
      "id": "44ed3302",
      "metadata": {
        "id": "44ed3302",
        "outputId": "8af8c905-3034-49d1-fb29-6389b9a5c4d4"
      },
      "outputs": [
        {
          "data": {
            "text/html": [
              "<div>\n",
              "<style scoped>\n",
              "    .dataframe tbody tr th:only-of-type {\n",
              "        vertical-align: middle;\n",
              "    }\n",
              "\n",
              "    .dataframe tbody tr th {\n",
              "        vertical-align: top;\n",
              "    }\n",
              "\n",
              "    .dataframe thead th {\n",
              "        text-align: right;\n",
              "    }\n",
              "</style>\n",
              "<table border=\"1\" class=\"dataframe\">\n",
              "  <thead>\n",
              "    <tr style=\"text-align: right;\">\n",
              "      <th></th>\n",
              "      <th>Status_Checking_Acc_A11</th>\n",
              "      <th>Status_Checking_Acc_A12</th>\n",
              "      <th>Status_Checking_Acc_A13</th>\n",
              "      <th>Status_Checking_Acc_A14</th>\n",
              "      <th>Credit_History_A30</th>\n",
              "      <th>Credit_History_A31</th>\n",
              "      <th>Credit_History_A32</th>\n",
              "      <th>Credit_History_A33</th>\n",
              "      <th>Credit_History_A34</th>\n",
              "      <th>Purposre_Credit_Taken_A40</th>\n",
              "      <th>...</th>\n",
              "      <th>Telephone_A192</th>\n",
              "      <th>Foreign_Worker_A201</th>\n",
              "      <th>Foreign_Worker_A202</th>\n",
              "      <th>Duration_in_Months</th>\n",
              "      <th>Credit_Amount</th>\n",
              "      <th>Inst_Rt_Income</th>\n",
              "      <th>Current_Address_Yrs</th>\n",
              "      <th>Age</th>\n",
              "      <th>Num_CC</th>\n",
              "      <th>Dependents</th>\n",
              "    </tr>\n",
              "  </thead>\n",
              "  <tbody>\n",
              "    <tr>\n",
              "      <th>40115</th>\n",
              "      <td>1</td>\n",
              "      <td>0</td>\n",
              "      <td>0</td>\n",
              "      <td>0</td>\n",
              "      <td>0</td>\n",
              "      <td>0</td>\n",
              "      <td>1</td>\n",
              "      <td>0</td>\n",
              "      <td>0</td>\n",
              "      <td>1</td>\n",
              "      <td>...</td>\n",
              "      <td>0</td>\n",
              "      <td>1</td>\n",
              "      <td>0</td>\n",
              "      <td>24</td>\n",
              "      <td>1285.0</td>\n",
              "      <td>4.0</td>\n",
              "      <td>4.0</td>\n",
              "      <td>32.0</td>\n",
              "      <td>1.0</td>\n",
              "      <td>1.0</td>\n",
              "    </tr>\n",
              "    <tr>\n",
              "      <th>40116</th>\n",
              "      <td>0</td>\n",
              "      <td>1</td>\n",
              "      <td>0</td>\n",
              "      <td>0</td>\n",
              "      <td>0</td>\n",
              "      <td>0</td>\n",
              "      <td>0</td>\n",
              "      <td>0</td>\n",
              "      <td>1</td>\n",
              "      <td>0</td>\n",
              "      <td>...</td>\n",
              "      <td>1</td>\n",
              "      <td>1</td>\n",
              "      <td>0</td>\n",
              "      <td>24</td>\n",
              "      <td>1935.0</td>\n",
              "      <td>4.0</td>\n",
              "      <td>4.0</td>\n",
              "      <td>31.0</td>\n",
              "      <td>2.0</td>\n",
              "      <td>1.0</td>\n",
              "    </tr>\n",
              "    <tr>\n",
              "      <th>40117</th>\n",
              "      <td>0</td>\n",
              "      <td>1</td>\n",
              "      <td>0</td>\n",
              "      <td>0</td>\n",
              "      <td>0</td>\n",
              "      <td>0</td>\n",
              "      <td>1</td>\n",
              "      <td>0</td>\n",
              "      <td>0</td>\n",
              "      <td>1</td>\n",
              "      <td>...</td>\n",
              "      <td>1</td>\n",
              "      <td>1</td>\n",
              "      <td>0</td>\n",
              "      <td>60</td>\n",
              "      <td>14027.0</td>\n",
              "      <td>4.0</td>\n",
              "      <td>2.0</td>\n",
              "      <td>27.0</td>\n",
              "      <td>1.0</td>\n",
              "      <td>1.0</td>\n",
              "    </tr>\n",
              "    <tr>\n",
              "      <th>40118</th>\n",
              "      <td>0</td>\n",
              "      <td>1</td>\n",
              "      <td>0</td>\n",
              "      <td>0</td>\n",
              "      <td>1</td>\n",
              "      <td>0</td>\n",
              "      <td>0</td>\n",
              "      <td>0</td>\n",
              "      <td>0</td>\n",
              "      <td>0</td>\n",
              "      <td>...</td>\n",
              "      <td>1</td>\n",
              "      <td>1</td>\n",
              "      <td>0</td>\n",
              "      <td>36</td>\n",
              "      <td>3804.0</td>\n",
              "      <td>4.0</td>\n",
              "      <td>1.0</td>\n",
              "      <td>42.0</td>\n",
              "      <td>1.0</td>\n",
              "      <td>1.0</td>\n",
              "    </tr>\n",
              "    <tr>\n",
              "      <th>40119</th>\n",
              "      <td>1</td>\n",
              "      <td>0</td>\n",
              "      <td>0</td>\n",
              "      <td>0</td>\n",
              "      <td>0</td>\n",
              "      <td>0</td>\n",
              "      <td>0</td>\n",
              "      <td>0</td>\n",
              "      <td>1</td>\n",
              "      <td>1</td>\n",
              "      <td>...</td>\n",
              "      <td>0</td>\n",
              "      <td>0</td>\n",
              "      <td>1</td>\n",
              "      <td>20</td>\n",
              "      <td>2235.0</td>\n",
              "      <td>4.0</td>\n",
              "      <td>2.0</td>\n",
              "      <td>33.0</td>\n",
              "      <td>2.0</td>\n",
              "      <td>1.0</td>\n",
              "    </tr>\n",
              "  </tbody>\n",
              "</table>\n",
              "<p>5 rows × 61 columns</p>\n",
              "</div>"
            ],
            "text/plain": [
              "       Status_Checking_Acc_A11  Status_Checking_Acc_A12  \\\n",
              "40115                        1                        0   \n",
              "40116                        0                        1   \n",
              "40117                        0                        1   \n",
              "40118                        0                        1   \n",
              "40119                        1                        0   \n",
              "\n",
              "       Status_Checking_Acc_A13  Status_Checking_Acc_A14  Credit_History_A30  \\\n",
              "40115                        0                        0                   0   \n",
              "40116                        0                        0                   0   \n",
              "40117                        0                        0                   0   \n",
              "40118                        0                        0                   1   \n",
              "40119                        0                        0                   0   \n",
              "\n",
              "       Credit_History_A31  Credit_History_A32  Credit_History_A33  \\\n",
              "40115                   0                   1                   0   \n",
              "40116                   0                   0                   0   \n",
              "40117                   0                   1                   0   \n",
              "40118                   0                   0                   0   \n",
              "40119                   0                   0                   0   \n",
              "\n",
              "       Credit_History_A34  Purposre_Credit_Taken_A40  ...  Telephone_A192  \\\n",
              "40115                   0                          1  ...               0   \n",
              "40116                   1                          0  ...               1   \n",
              "40117                   0                          1  ...               1   \n",
              "40118                   0                          0  ...               1   \n",
              "40119                   1                          1  ...               0   \n",
              "\n",
              "       Foreign_Worker_A201  Foreign_Worker_A202  Duration_in_Months  \\\n",
              "40115                    1                    0                  24   \n",
              "40116                    1                    0                  24   \n",
              "40117                    1                    0                  60   \n",
              "40118                    1                    0                  36   \n",
              "40119                    0                    1                  20   \n",
              "\n",
              "       Credit_Amount  Inst_Rt_Income  Current_Address_Yrs   Age  Num_CC  \\\n",
              "40115         1285.0             4.0                  4.0  32.0     1.0   \n",
              "40116         1935.0             4.0                  4.0  31.0     2.0   \n",
              "40117        14027.0             4.0                  2.0  27.0     1.0   \n",
              "40118         3804.0             4.0                  1.0  42.0     1.0   \n",
              "40119         2235.0             4.0                  2.0  33.0     2.0   \n",
              "\n",
              "       Dependents  \n",
              "40115         1.0  \n",
              "40116         1.0  \n",
              "40117         1.0  \n",
              "40118         1.0  \n",
              "40119         1.0  \n",
              "\n",
              "[5 rows x 61 columns]"
            ]
          },
          "execution_count": 26,
          "metadata": {},
          "output_type": "execute_result"
        }
      ],
      "source": [
        "# x=pd.concat([x_num1,df_scld],axis=1)\n",
        "x=pd.concat([x_num1,x_num],axis=1)\n",
        "x.tail(5)"
      ]
    },
    {
      "cell_type": "code",
      "execution_count": null,
      "id": "19880929",
      "metadata": {
        "id": "19880929",
        "outputId": "c377eced-bfaa-450d-af23-022abd13ed9d"
      },
      "outputs": [
        {
          "data": {
            "text/plain": [
              "(40119, 61)"
            ]
          },
          "execution_count": 27,
          "metadata": {},
          "output_type": "execute_result"
        }
      ],
      "source": [
        "x.shape"
      ]
    },
    {
      "cell_type": "code",
      "execution_count": null,
      "id": "2ffcdb0a",
      "metadata": {
        "id": "2ffcdb0a",
        "outputId": "d56ecad7-fa58-491e-b9d2-4310f906762d"
      },
      "outputs": [
        {
          "data": {
            "text/plain": [
              "(40119,)"
            ]
          },
          "execution_count": 28,
          "metadata": {},
          "output_type": "execute_result"
        }
      ],
      "source": [
        "y=df['Default_On_Payment']\n",
        "y.shape"
      ]
    },
    {
      "cell_type": "markdown",
      "id": "737cfb73",
      "metadata": {
        "id": "737cfb73"
      },
      "source": [
        "## Train Model"
      ]
    },
    {
      "cell_type": "code",
      "execution_count": null,
      "id": "ad65a23f",
      "metadata": {
        "id": "ad65a23f"
      },
      "outputs": [],
      "source": [
        "#Create training and test data\n",
        "train_x,test_x,train_y,test_y= train_test_split(x,y,test_size=0.25,random_state=1)"
      ]
    },
    {
      "cell_type": "code",
      "execution_count": null,
      "id": "15459228",
      "metadata": {
        "id": "15459228"
      },
      "outputs": [],
      "source": [
        "#Scale all values between 0 and 1\n",
        "from sklearn.preprocessing import MinMaxScaler\n",
        "scld = MinMaxScaler(feature_range=(0,1))\n",
        "scld.fit(x)\n",
        "sc_train_x = scld.transform(train_x)\n",
        "sc_test_x = scld.transform(test_x)"
      ]
    },
    {
      "cell_type": "code",
      "execution_count": null,
      "id": "dde4dba9",
      "metadata": {
        "id": "dde4dba9"
      },
      "outputs": [],
      "source": [
        "# log=LogisticRegression()"
      ]
    },
    {
      "cell_type": "code",
      "execution_count": null,
      "id": "4b6c1805",
      "metadata": {
        "id": "4b6c1805"
      },
      "outputs": [],
      "source": [
        "# #Fit a model\n",
        "# log.fit(sc_train_x,train_y)"
      ]
    },
    {
      "cell_type": "code",
      "execution_count": null,
      "id": "e5bc8bf4",
      "metadata": {
        "id": "e5bc8bf4"
      },
      "outputs": [],
      "source": [
        "from sklearn.pipeline import make_pipeline\n",
        "from sklearn.preprocessing import StandardScaler"
      ]
    },
    {
      "cell_type": "code",
      "execution_count": null,
      "id": "a37f45a0",
      "metadata": {
        "id": "a37f45a0"
      },
      "outputs": [],
      "source": [
        "pipe = make_pipeline(StandardScaler(), LogisticRegression())"
      ]
    },
    {
      "cell_type": "code",
      "execution_count": null,
      "id": "5e502180",
      "metadata": {
        "id": "5e502180",
        "outputId": "ba03bd9b-4851-44c5-a89a-84faf8bf0a30"
      },
      "outputs": [
        {
          "data": {
            "text/plain": [
              "Pipeline(steps=[('standardscaler', StandardScaler()),\n",
              "                ('logisticregression', LogisticRegression())])"
            ]
          },
          "execution_count": 44,
          "metadata": {},
          "output_type": "execute_result"
        }
      ],
      "source": [
        "pipe.fit(sc_train_x, train_y)  # apply scaling on training data"
      ]
    },
    {
      "cell_type": "markdown",
      "id": "b274ef9f",
      "metadata": {
        "id": "b274ef9f"
      },
      "source": [
        "## Test Model Performance"
      ]
    },
    {
      "cell_type": "code",
      "execution_count": null,
      "id": "ab4befbc",
      "metadata": {
        "id": "ab4befbc",
        "outputId": "168151c2-375a-448e-9c92-e79f6aac56c2"
      },
      "outputs": [
        {
          "data": {
            "text/plain": [
              "0.7875373878364905"
            ]
          },
          "execution_count": 45,
          "metadata": {},
          "output_type": "execute_result"
        }
      ],
      "source": [
        "pipe.score(sc_test_x, test_y)"
      ]
    }
  ],
  "metadata": {
    "kernelspec": {
      "display_name": "Python 3 (ipykernel)",
      "language": "python",
      "name": "python3"
    },
    "language_info": {
      "codemirror_mode": {
        "name": "ipython",
        "version": 3
      },
      "file_extension": ".py",
      "mimetype": "text/x-python",
      "name": "python",
      "nbconvert_exporter": "python",
      "pygments_lexer": "ipython3",
      "version": "3.8.5"
    },
    "colab": {
      "name": "Assignment_3.ipynb",
      "provenance": [],
      "include_colab_link": true
    }
  },
  "nbformat": 4,
  "nbformat_minor": 5
}